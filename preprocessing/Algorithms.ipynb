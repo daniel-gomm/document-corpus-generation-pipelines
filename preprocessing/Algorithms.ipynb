{
 "cells": [
  {
   "cell_type": "code",
   "execution_count": null,
   "id": "898247d0",
   "metadata": {},
   "outputs": [],
   "source": [
    "import pandas as pd"
   ]
  },
  {
   "cell_type": "code",
   "execution_count": null,
   "id": "21e12ffd",
   "metadata": {},
   "outputs": [],
   "source": [
    "algorithms = pd.read_json('./wikidata/algorithms.json')"
   ]
  },
  {
   "cell_type": "code",
   "execution_count": null,
   "id": "8061003a",
   "metadata": {},
   "outputs": [],
   "source": [
    "algorithms.info()"
   ]
  },
  {
   "cell_type": "code",
   "execution_count": null,
   "id": "da565963",
   "metadata": {},
   "outputs": [],
   "source": [
    "# Filter out unnamed entities\n",
    "algorithms['id'] = algorithms.apply(lambda row: row['item'].split(\"/\")[-1], axis=1)\n",
    "algorithms = algorithms[~(algorithms['itemLabel']==algorithms['id'])]"
   ]
  },
  {
   "cell_type": "code",
   "execution_count": null,
   "id": "ce87c18d",
   "metadata": {},
   "outputs": [],
   "source": [
    "algorithms"
   ]
  },
  {
   "cell_type": "code",
   "execution_count": null,
   "id": "d4cc8d98",
   "metadata": {},
   "outputs": [],
   "source": [
    "print(len(set(algorithms['instance_ofLabel'])))\n",
    "set(algorithms['instance_ofLabel'])"
   ]
  },
  {
   "cell_type": "code",
   "execution_count": null,
   "id": "40bafbdf",
   "metadata": {},
   "outputs": [],
   "source": [
    "algorithms = algorithms[~(algorithms['instance_ofLabel'].str.contains('file format'))]"
   ]
  },
  {
   "cell_type": "code",
   "execution_count": null,
   "id": "d5119983",
   "metadata": {},
   "outputs": [],
   "source": [
    "algorithms = algorithms[~(algorithms['instance_ofLabel'].str.contains('code of MediaWiki software'))]"
   ]
  },
  {
   "cell_type": "code",
   "execution_count": null,
   "id": "8454e44c",
   "metadata": {},
   "outputs": [],
   "source": [
    "algorithms = algorithms[~(algorithms['instance_ofLabel'].str.contains('information list'))]"
   ]
  },
  {
   "cell_type": "code",
   "execution_count": null,
   "id": "c516f1ff",
   "metadata": {},
   "outputs": [],
   "source": [
    "algorithms = algorithms[~(algorithms['instance_ofLabel'].str.contains('Wiktionary redirect'))]"
   ]
  },
  {
   "cell_type": "code",
   "execution_count": null,
   "id": "13c83844",
   "metadata": {},
   "outputs": [],
   "source": [
    "alg_set = set(algorithms['instance_ofLabel'])\n",
    "d = {}\n",
    "for entry in alg_set:\n",
    "    d[entry] = len(algorithms[algorithms['instance_ofLabel'] == entry])"
   ]
  },
  {
   "cell_type": "code",
   "execution_count": null,
   "id": "82c58d9e",
   "metadata": {},
   "outputs": [],
   "source": [
    "d"
   ]
  },
  {
   "cell_type": "code",
   "execution_count": null,
   "id": "c858f7d9",
   "metadata": {},
   "outputs": [],
   "source": [
    "dict(sorted(d.items(), key=lambda item: item[1]))"
   ]
  },
  {
   "cell_type": "code",
   "execution_count": null,
   "id": "fbcfe426",
   "metadata": {},
   "outputs": [],
   "source": [
    "algorithms = algorithms[~(algorithms['instance_ofLabel'].str.contains('Pokémon'))]\n",
    "algorithms = algorithms[~(algorithms['instance_ofLabel'].str.contains('C header file'))]\n",
    "algorithms = algorithms[~(algorithms['instance_ofLabel'].str.contains('list'))]\n",
    "algorithms = algorithms[~(algorithms['instance_ofLabel'].str.contains('redirect page'))]\n",
    "algorithms = algorithms[~(algorithms['instance_ofLabel'].str.contains('Unicode block'))]\n",
    "algorithms = algorithms[~(algorithms['instance_ofLabel'].str.contains('markup language'))]\n",
    "algorithms = algorithms[~(algorithms['instance_ofLabel'].str.contains('script'))]\n",
    "algorithms = algorithms[~(algorithms['instance_ofLabel'].str.contains('XML application'))]\n",
    "algorithms = algorithms[~(algorithms['instance_ofLabel'].str.contains('MediaWiki maintenance script'))]\n",
    "algorithms = algorithms[~(algorithms['instance_ofLabel'].str.contains('free software'))]\n",
    "algorithms = algorithms[~(algorithms['instance_ofLabel'].str.contains('format'))]\n",
    "algorithms = algorithms[~(algorithms['instance_ofLabel'].str.contains('Format'))]\n",
    "algorithms = algorithms[~(algorithms['instance_ofLabel'].str.contains('standard'))]\n",
    "algorithms = algorithms[~(algorithms['instance_ofLabel'].str.contains('lympiad'))]\n",
    "algorithms = algorithms[~(algorithms['instance_ofLabel'].str.contains('code page'))]\n",
    "algorithms = algorithms[~(algorithms['instance_ofLabel'].str.contains('encoding'))]"
   ]
  },
  {
   "cell_type": "code",
   "execution_count": null,
   "id": "e6b12b77",
   "metadata": {},
   "outputs": [],
   "source": [
    "algorithms[algorithms['instance_ofLabel'] == 'fur']"
   ]
  },
  {
   "cell_type": "code",
   "execution_count": null,
   "id": "8b30a2bc",
   "metadata": {},
   "outputs": [],
   "source": [
    "algorithms"
   ]
  },
  {
   "cell_type": "code",
   "execution_count": null,
   "id": "f843aed7",
   "metadata": {},
   "outputs": [],
   "source": [
    "d_sorted = dict(sorted(d.items(), key=lambda item: item[1]))"
   ]
  },
  {
   "cell_type": "code",
   "execution_count": null,
   "id": "e4cbe071",
   "metadata": {},
   "outputs": [],
   "source": [
    "d_10 = {}\n",
    "for key, value in d_sorted.items():\n",
    "    if value < 10:\n",
    "        d_10[key] = value"
   ]
  },
  {
   "cell_type": "code",
   "execution_count": null,
   "id": "8de3c18b",
   "metadata": {},
   "outputs": [],
   "source": [
    "d_10_algorithms = {}\n",
    "tokens = ['algorithm', 'model', 'method', 'sort', 'search']\n",
    "for key, value in d_10.items():\n",
    "    if not any(t in key for t in tokens):\n",
    "        d_10_algorithms[key] = value"
   ]
  },
  {
   "cell_type": "code",
   "execution_count": null,
   "id": "a82d02f9",
   "metadata": {},
   "outputs": [],
   "source": [
    "d_10_algorithms"
   ]
  },
  {
   "cell_type": "code",
   "execution_count": null,
   "id": "0598e8eb",
   "metadata": {},
   "outputs": [],
   "source": [
    "algorithms = algorithms[~(algorithms['instance_ofLabel'].str.contains('|'.join(d_10_algorithms.keys())))]"
   ]
  },
  {
   "cell_type": "code",
   "execution_count": null,
   "id": "f20d0ba7",
   "metadata": {},
   "outputs": [],
   "source": [
    "algorithms"
   ]
  },
  {
   "cell_type": "code",
   "execution_count": null,
   "id": "79623090",
   "metadata": {},
   "outputs": [],
   "source": [
    "d_bigger_10 = {}\n",
    "for key, value in d_sorted.items():\n",
    "    if value >= 10:\n",
    "        d_bigger_10[key] = value\n",
    "d_bigger_10"
   ]
  },
  {
   "cell_type": "code",
   "execution_count": null,
   "id": "02683ad9",
   "metadata": {},
   "outputs": [],
   "source": [
    "len(d_bigger_10)"
   ]
  },
  {
   "cell_type": "code",
   "execution_count": null,
   "id": "f9043f36",
   "metadata": {},
   "outputs": [],
   "source": [
    "blacklist = ['heraldic', 'Extended ASCII', 'partition', 'disk image file', 'variation of the field', 'software', 'cryptocurrency', 'Scalable Vector Graphics', 'ROM hack', 'text file',\n",
    "            'public office', 'version, edition, or translation', 'color', 'wiki markup', 'palette', 'application']"
   ]
  },
  {
   "cell_type": "code",
   "execution_count": null,
   "id": "97eead2e",
   "metadata": {},
   "outputs": [],
   "source": [
    "algorithms = algorithms[~(algorithms['instance_ofLabel'].str.contains('|'.join(blacklist)))]"
   ]
  },
  {
   "cell_type": "code",
   "execution_count": null,
   "id": "99476c8a",
   "metadata": {},
   "outputs": [],
   "source": [
    "algorithms"
   ]
  },
  {
   "cell_type": "code",
   "execution_count": null,
   "id": "d0898fcf",
   "metadata": {},
   "outputs": [],
   "source": [
    "algorithms_bare = algorithms[['item', 'itemLabel']]"
   ]
  },
  {
   "cell_type": "code",
   "execution_count": null,
   "id": "54ffc431",
   "metadata": {},
   "outputs": [],
   "source": [
    "algorithms_bare = algorithms_bare.drop_duplicates()"
   ]
  },
  {
   "cell_type": "code",
   "execution_count": null,
   "id": "1d537652",
   "metadata": {},
   "outputs": [],
   "source": [
    "algorithms_bare = algorithms_bare.reset_index(drop=True)"
   ]
  },
  {
   "cell_type": "code",
   "execution_count": null,
   "id": "15ae36f6",
   "metadata": {},
   "outputs": [],
   "source": [
    "algorithms_bare.head(50)"
   ]
  },
  {
   "cell_type": "code",
   "execution_count": null,
   "id": "9758879d",
   "metadata": {},
   "outputs": [],
   "source": [
    "algorithms_bare.to_json(\"./wikidata/algorithms_preprocessed.json\")"
   ]
  },
  {
   "cell_type": "code",
   "execution_count": null,
   "id": "8362cde6",
   "metadata": {},
   "outputs": [],
   "source": []
  }
 ],
 "metadata": {
  "kernelspec": {
   "display_name": "Python 3",
   "language": "python",
   "name": "python3"
  },
  "language_info": {
   "codemirror_mode": {
    "name": "ipython",
    "version": 3
   },
   "file_extension": ".py",
   "mimetype": "text/x-python",
   "name": "python",
   "nbconvert_exporter": "python",
   "pygments_lexer": "ipython3",
   "version": "3.7.0"
  }
 },
 "nbformat": 4,
 "nbformat_minor": 5
}
