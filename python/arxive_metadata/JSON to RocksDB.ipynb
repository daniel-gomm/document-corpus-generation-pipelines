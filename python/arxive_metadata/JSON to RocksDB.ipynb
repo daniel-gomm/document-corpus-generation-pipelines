{
 "cells": [
  {
   "cell_type": "code",
   "execution_count": null,
   "id": "018d634c",
   "metadata": {},
   "outputs": [],
   "source": [
    "import requests\n",
    "import rocksDB\n",
    "from rocksDB import RocksDBAdapter"
   ]
  },
  {
   "cell_type": "code",
   "execution_count": null,
   "id": "4ac79a39",
   "metadata": {},
   "outputs": [],
   "source": [
    "filename = \"arxiv-metadata-oai-snapshot.json\"\n",
    "url = \"http://192.168.178.34:8089\"\n",
    "db = RocksDBAdapter(\"arXive_metadata\", url)\n",
    "chunk_size = 200"
   ]
  },
  {
   "cell_type": "code",
   "execution_count": null,
   "id": "e86482aa",
   "metadata": {},
   "outputs": [],
   "source": [
    "failed_entities, line_no = rocksDB.file_to_db(filename, db, chunk_size)\n",
    "if(not line_no is None):\n",
    "    print(line_no)\n",
    "    print(failed_entities)"
   ]
  },
  {
   "cell_type": "code",
   "execution_count": null,
   "id": "9bb98f4a",
   "metadata": {},
   "outputs": [],
   "source": []
  }
 ],
 "metadata": {
  "kernelspec": {
   "display_name": "Python 3",
   "language": "python",
   "name": "python3"
  },
  "language_info": {
   "codemirror_mode": {
    "name": "ipython",
    "version": 3
   },
   "file_extension": ".py",
   "mimetype": "text/x-python",
   "name": "python",
   "nbconvert_exporter": "python",
   "pygments_lexer": "ipython3",
   "version": "3.8.8"
  }
 },
 "nbformat": 4,
 "nbformat_minor": 5
}
