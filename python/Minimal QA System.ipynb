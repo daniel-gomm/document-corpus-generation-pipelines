{
 "cells": [
  {
   "cell_type": "markdown",
   "id": "2cf52bc3",
   "metadata": {},
   "source": [
    "Start docker container with elasticsearch:\n",
    "_docker pull docker.elastic.co/elasticsearch/elasticsearch:7.12.1\n",
    "_docker run -p 9200:9200 -p 9300:9300 -e \"discovery.type=single-node\" docker.elastic.co/elasticsearch/elasticsearch:7.12.1"
   ]
  },
  {
   "cell_type": "code",
   "execution_count": null,
   "id": "02f64bfb",
   "metadata": {},
   "outputs": [],
   "source": [
    "from TEI_Handling import TEIFile\n",
    "import glob\n",
    "from pathlib import Path\n",
    "import multiprocessing\n",
    "from multiprocessing.pool import Pool\n",
    "from haystack.document_store.elasticsearch import ElasticsearchDocumentStore\n",
    "from haystack.preprocessor import PreProcessor"
   ]
  },
  {
   "cell_type": "code",
   "execution_count": null,
   "id": "606338bf",
   "metadata": {},
   "outputs": [],
   "source": [
    "document_store = ElasticsearchDocumentStore(host=\"localhost\", username=\"\", password=\"\", index=\"document\")"
   ]
  },
  {
   "cell_type": "code",
   "execution_count": null,
   "id": "e6443870",
   "metadata": {},
   "outputs": [],
   "source": [
    "def to_dict(paper_path):\n",
    "    tei = TEIFile(paper_path)\n",
    "    processor = PreProcessor(\n",
    "        clean_empty_lines=True,\n",
    "        clean_whitespace=True,\n",
    "        clean_header_footer=True,\n",
    "        split_by=\"word\",\n",
    "        split_length=250,\n",
    "        split_respect_sentence_boundary=True,\n",
    "        split_overlap=20\n",
    "    )\n",
    "    return processor.process(tei.to_dict())"
   ]
  },
  {
   "cell_type": "code",
   "execution_count": null,
   "id": "9246a54c",
   "metadata": {},
   "outputs": [],
   "source": [
    "papers = sorted(Path(\"../data/unpaywall-grobid-sample\").glob('*.tei.xml'))\n",
    "print(f\"Processing {papers.__len__()} papers on {multiprocessing.cpu_count()} cores.\")\n",
    "pool = Pool()"
   ]
  },
  {
   "cell_type": "code",
   "execution_count": null,
   "id": "5c80caa9",
   "metadata": {},
   "outputs": [],
   "source": [
    "dicts = []\n",
    "dicts.extend(pool.imap(to_dict, papers, 5))\n",
    "pool.close()"
   ]
  },
  {
   "cell_type": "code",
   "execution_count": null,
   "id": "af4de8c7",
   "metadata": {},
   "outputs": [],
   "source": [
    "documents = []\n",
    "for inner_list in dicts:\n",
    "    documents.extend(inner_list)"
   ]
  },
  {
   "cell_type": "code",
   "execution_count": null,
   "id": "6a8f1bf6",
   "metadata": {},
   "outputs": [],
   "source": [
    "print(documents[:2])"
   ]
  },
  {
   "cell_type": "code",
   "execution_count": null,
   "id": "71b89392",
   "metadata": {},
   "outputs": [],
   "source": [
    "document_store.write_documents(documents)"
   ]
  },
  {
   "cell_type": "code",
   "execution_count": null,
   "id": "fbe59079",
   "metadata": {},
   "outputs": [],
   "source": [
    "from haystack.retriever.sparse import ElasticsearchRetriever\n",
    "retriever = ElasticsearchRetriever(document_store=document_store)"
   ]
  },
  {
   "cell_type": "code",
   "execution_count": null,
   "id": "0372bc90",
   "metadata": {},
   "outputs": [],
   "source": [
    "from haystack.reader.farm import FARMReader\n",
    "reader = FARMReader(model_name_or_path=\"deepset/roberta-base-squad2\", use_gpu=False)"
   ]
  },
  {
   "cell_type": "code",
   "execution_count": null,
   "id": "dadd2f6a",
   "metadata": {},
   "outputs": [],
   "source": [
    "from haystack.pipeline import ExtractiveQAPipeline\n",
    "pipe = ExtractiveQAPipeline(reader, retriever)"
   ]
  },
  {
   "cell_type": "code",
   "execution_count": null,
   "id": "a939317b",
   "metadata": {},
   "outputs": [],
   "source": [
    "prediction = pipe.run(query=\"What is the Internet Engineering Task Force?\", top_k_retriever=10, top_k_reader=5)"
   ]
  },
  {
   "cell_type": "code",
   "execution_count": null,
   "id": "7862abf4",
   "metadata": {},
   "outputs": [],
   "source": [
    "from haystack.utils import print_answers"
   ]
  },
  {
   "cell_type": "code",
   "execution_count": null,
   "id": "5eb1f619",
   "metadata": {},
   "outputs": [],
   "source": [
    "print_answers(prediction, details=\"minimal\")"
   ]
  },
  {
   "cell_type": "code",
   "execution_count": null,
   "id": "9acd9592",
   "metadata": {},
   "outputs": [],
   "source": []
  }
 ],
 "metadata": {
  "kernelspec": {
   "display_name": "Python 3",
   "language": "python",
   "name": "python3"
  },
  "language_info": {
   "codemirror_mode": {
    "name": "ipython",
    "version": 3
   },
   "file_extension": ".py",
   "mimetype": "text/x-python",
   "name": "python",
   "nbconvert_exporter": "python",
   "pygments_lexer": "ipython3",
   "version": "3.8.8"
  }
 },
 "nbformat": 4,
 "nbformat_minor": 5
}
