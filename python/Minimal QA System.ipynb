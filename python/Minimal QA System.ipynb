{
 "cells": [
  {
   "cell_type": "markdown",
   "id": "2cf52bc3",
   "metadata": {},
   "source": [
    "Start docker container with elasticsearch:\n",
    "_docker pull docker.elastic.co/elasticsearch/elasticsearch:7.12.1\n",
    "_docker run -p 9200:9200 -p 9300:9300 -e \"discovery.type=single-node\" docker.elastic.co/elasticsearch/elasticsearch:7.12.1"
   ]
  },
  {
   "cell_type": "code",
   "execution_count": 1,
   "id": "02f64bfb",
   "metadata": {},
   "outputs": [
    {
     "name": "stderr",
     "output_type": "stream",
     "text": [
      "05/04/2021 21:37:19 - INFO - faiss.loader -   Loading faiss with AVX2 support.\n",
      "05/04/2021 21:37:19 - INFO - faiss.loader -   Loading faiss.\n",
      "/home/daniel/anaconda3/envs/KD/lib/python3.8/site-packages/torch/cuda/__init__.py:52: UserWarning: CUDA initialization: Found no NVIDIA driver on your system. Please check that you have an NVIDIA GPU and installed a driver from http://www.nvidia.com/Download/index.aspx (Triggered internally at  /pytorch/c10/cuda/CUDAFunctions.cpp:100.)\n",
      "  return torch._C._cuda_getDeviceCount() > 0\n",
      "05/04/2021 21:37:20 - INFO - farm.modeling.prediction_head -   Better speed can be achieved with apex installed from https://www.github.com/nvidia/apex .\n"
     ]
    }
   ],
   "source": [
    "from TEI_Handling import TEIFile\n",
    "import glob\n",
    "from pathlib import Path\n",
    "import multiprocessing\n",
    "from multiprocessing.pool import Pool\n",
    "from haystack.document_store.elasticsearch import ElasticsearchDocumentStore\n",
    "from haystack.preprocessor import PreProcessor"
   ]
  },
  {
   "cell_type": "code",
   "execution_count": 2,
   "id": "606338bf",
   "metadata": {},
   "outputs": [
    {
     "name": "stderr",
     "output_type": "stream",
     "text": [
      "05/04/2021 21:37:21 - INFO - elasticsearch -   HEAD http://localhost:9200/ [status:200 request:0.006s]\n",
      "05/04/2021 21:37:21 - INFO - elasticsearch -   HEAD http://localhost:9200/document [status:200 request:0.002s]\n",
      "05/04/2021 21:37:21 - INFO - elasticsearch -   GET http://localhost:9200/document [status:200 request:0.002s]\n",
      "05/04/2021 21:37:21 - INFO - elasticsearch -   PUT http://localhost:9200/document/_mapping [status:200 request:0.008s]\n",
      "05/04/2021 21:37:21 - INFO - elasticsearch -   HEAD http://localhost:9200/label [status:200 request:0.002s]\n"
     ]
    }
   ],
   "source": [
    "document_store = ElasticsearchDocumentStore(host=\"localhost\", username=\"\", password=\"\", index=\"document\")"
   ]
  },
  {
   "cell_type": "code",
   "execution_count": 3,
   "id": "e6443870",
   "metadata": {},
   "outputs": [],
   "source": [
    "def to_dict(paper_path):\n",
    "    tei = TEIFile(paper_path)\n",
    "    processor = PreProcessor(\n",
    "        clean_empty_lines=True,\n",
    "        clean_whitespace=True,\n",
    "        clean_header_footer=True,\n",
    "        split_by=\"word\",\n",
    "        split_length=250,\n",
    "        split_respect_sentence_boundary=True,\n",
    "        split_overlap=20\n",
    "    )\n",
    "    return processor.process(tei.to_dict())"
   ]
  },
  {
   "cell_type": "code",
   "execution_count": 4,
   "id": "9246a54c",
   "metadata": {},
   "outputs": [
    {
     "name": "stdout",
     "output_type": "stream",
     "text": [
      "Processing 20 papers on 12 cores.\n"
     ]
    }
   ],
   "source": [
    "papers = sorted(Path(\"../data/unpaywall-grobid-sample\").glob('*.tei.xml'))\n",
    "print(f\"Processing {papers.__len__()} papers on {multiprocessing.cpu_count()} cores.\")\n",
    "pool = Pool()"
   ]
  },
  {
   "cell_type": "code",
   "execution_count": 5,
   "id": "5c80caa9",
   "metadata": {},
   "outputs": [],
   "source": [
    "dicts = []\n",
    "dicts.extend(pool.imap(to_dict, papers, 5))\n",
    "pool.close()"
   ]
  },
  {
   "cell_type": "code",
   "execution_count": 6,
   "id": "7e813864",
   "metadata": {},
   "outputs": [],
   "source": [
    "documents = []\n",
    "for inner_list in dicts:\n",
    "    documents.extend(inner_list)"
   ]
  },
  {
   "cell_type": "code",
   "execution_count": null,
   "id": "0775b3ec",
   "metadata": {},
   "outputs": [],
   "source": [
    "print(documents[:2])"
   ]
  },
  {
   "cell_type": "code",
   "execution_count": null,
   "id": "8e9b107d",
   "metadata": {},
   "outputs": [],
   "source": [
    "document_store.write_documents(documents)"
   ]
  },
  {
   "cell_type": "code",
   "execution_count": 7,
   "id": "e881ae11",
   "metadata": {},
   "outputs": [],
   "source": [
    "from haystack.retriever.sparse import ElasticsearchRetriever\n",
    "retriever = ElasticsearchRetriever(document_store=document_store)"
   ]
  },
  {
   "cell_type": "code",
   "execution_count": 8,
   "id": "0db64501",
   "metadata": {},
   "outputs": [
    {
     "name": "stderr",
     "output_type": "stream",
     "text": [
      "05/04/2021 21:37:36 - INFO - farm.utils -   Using device: CPU \n",
      "05/04/2021 21:37:36 - INFO - farm.utils -   Number of GPUs: 0\n",
      "05/04/2021 21:37:36 - INFO - farm.utils -   Distributed Training: False\n",
      "05/04/2021 21:37:36 - INFO - farm.utils -   Automatic Mixed Precision: None\n",
      "05/04/2021 21:37:36 - INFO - filelock -   Lock 140249343923776 acquired on /home/daniel/.cache/huggingface/transformers/c40d0abb589629c48763f271020d0b1f602f5208c432c0874d420491ed37e28b.122ed338b3591c07dba452777c59ff52330edb340d3d56d67aa9117ad9905673.lock\n"
     ]
    },
    {
     "data": {
      "application/vnd.jupyter.widget-view+json": {
       "model_id": "62369e2ec5bd4125827f80ba3bed9186",
       "version_major": 2,
       "version_minor": 0
      },
      "text/plain": [
       "Downloading:   0%|          | 0.00/571 [00:00<?, ?B/s]"
      ]
     },
     "metadata": {},
     "output_type": "display_data"
    },
    {
     "name": "stderr",
     "output_type": "stream",
     "text": [
      "05/04/2021 21:37:36 - INFO - filelock -   Lock 140249343923776 released on /home/daniel/.cache/huggingface/transformers/c40d0abb589629c48763f271020d0b1f602f5208c432c0874d420491ed37e28b.122ed338b3591c07dba452777c59ff52330edb340d3d56d67aa9117ad9905673.lock\n",
      "05/04/2021 21:37:37 - INFO - filelock -   Lock 140245914882000 acquired on /home/daniel/.cache/huggingface/transformers/eac3273a8097dda671e3bea1db32c616e74f36a306c65b4858171c98d6db83e9.084aa7284f3a51fa1c8f0641aa04c47d366fbd18711f29d0a995693cfdbc9c9e.lock\n"
     ]
    },
    {
     "data": {
      "application/vnd.jupyter.widget-view+json": {
       "model_id": "8555bec2cec54e23882f0dc9ae6ea16c",
       "version_major": 2,
       "version_minor": 0
      },
      "text/plain": [
       "Downloading:   0%|          | 0.00/496M [00:00<?, ?B/s]"
      ]
     },
     "metadata": {},
     "output_type": "display_data"
    },
    {
     "name": "stderr",
     "output_type": "stream",
     "text": [
      "05/04/2021 21:38:48 - INFO - filelock -   Lock 140245914882000 released on /home/daniel/.cache/huggingface/transformers/eac3273a8097dda671e3bea1db32c616e74f36a306c65b4858171c98d6db83e9.084aa7284f3a51fa1c8f0641aa04c47d366fbd18711f29d0a995693cfdbc9c9e.lock\n",
      "Some weights of RobertaModel were not initialized from the model checkpoint at deepset/roberta-base-squad2 and are newly initialized: ['roberta.pooler.dense.weight', 'roberta.pooler.dense.bias']\n",
      "You should probably TRAIN this model on a down-stream task to be able to use it for predictions and inference.\n",
      "05/04/2021 21:38:56 - INFO - filelock -   Lock 140245570869376 acquired on /home/daniel/.cache/huggingface/transformers/81c80edb4c6cefa5cae64ccfdb34b3b309ecaf60da99da7cd1c17e24a5d36eb5.647b4548b6d9ea817e82e7a9231a320231a1c9ea24053cc9e758f3fe68216f05.lock\n"
     ]
    },
    {
     "data": {
      "application/vnd.jupyter.widget-view+json": {
       "model_id": "d30fa555461d4c75ac3e6899dd7af257",
       "version_major": 2,
       "version_minor": 0
      },
      "text/plain": [
       "Downloading:   0%|          | 0.00/899k [00:00<?, ?B/s]"
      ]
     },
     "metadata": {},
     "output_type": "display_data"
    },
    {
     "name": "stderr",
     "output_type": "stream",
     "text": [
      "05/04/2021 21:38:57 - INFO - filelock -   Lock 140245570869376 released on /home/daniel/.cache/huggingface/transformers/81c80edb4c6cefa5cae64ccfdb34b3b309ecaf60da99da7cd1c17e24a5d36eb5.647b4548b6d9ea817e82e7a9231a320231a1c9ea24053cc9e758f3fe68216f05.lock\n",
      "05/04/2021 21:38:58 - INFO - filelock -   Lock 140245134641376 acquired on /home/daniel/.cache/huggingface/transformers/b87d46371731376b11768b7839b1a5938a4f77d6bd2d9b683f167df0026af432.5d12962c5ee615a4c803841266e9c3be9a691a924f72d395d3a6c6c81157788b.lock\n"
     ]
    },
    {
     "data": {
      "application/vnd.jupyter.widget-view+json": {
       "model_id": "e782710abdbb4461b16cda50cb7b224a",
       "version_major": 2,
       "version_minor": 0
      },
      "text/plain": [
       "Downloading:   0%|          | 0.00/456k [00:00<?, ?B/s]"
      ]
     },
     "metadata": {},
     "output_type": "display_data"
    },
    {
     "name": "stderr",
     "output_type": "stream",
     "text": [
      "05/04/2021 21:38:58 - INFO - filelock -   Lock 140245134641376 released on /home/daniel/.cache/huggingface/transformers/b87d46371731376b11768b7839b1a5938a4f77d6bd2d9b683f167df0026af432.5d12962c5ee615a4c803841266e9c3be9a691a924f72d395d3a6c6c81157788b.lock\n",
      "05/04/2021 21:38:59 - INFO - filelock -   Lock 140245134556416 acquired on /home/daniel/.cache/huggingface/transformers/c9d2c178fac8d40234baa1833a3b1903d393729bf93ea34da247c07db24900d0.cb2244924ab24d706b02fd7fcedaea4531566537687a539ebb94db511fd122a0.lock\n"
     ]
    },
    {
     "data": {
      "application/vnd.jupyter.widget-view+json": {
       "model_id": "73aea7bc844f42189804f8940de801c3",
       "version_major": 2,
       "version_minor": 0
      },
      "text/plain": [
       "Downloading:   0%|          | 0.00/772 [00:00<?, ?B/s]"
      ]
     },
     "metadata": {},
     "output_type": "display_data"
    },
    {
     "name": "stderr",
     "output_type": "stream",
     "text": [
      "05/04/2021 21:39:00 - INFO - filelock -   Lock 140245134556416 released on /home/daniel/.cache/huggingface/transformers/c9d2c178fac8d40234baa1833a3b1903d393729bf93ea34da247c07db24900d0.cb2244924ab24d706b02fd7fcedaea4531566537687a539ebb94db511fd122a0.lock\n",
      "05/04/2021 21:39:00 - INFO - filelock -   Lock 140245570869376 acquired on /home/daniel/.cache/huggingface/transformers/e8a600814b69e3ee74bb4a7398cc6fef9812475010f16a6c9f151b2c2772b089.451739a2f3b82c3375da0dfc6af295bedc4567373b171f514dd09a4cc4b31513.lock\n"
     ]
    },
    {
     "data": {
      "application/vnd.jupyter.widget-view+json": {
       "model_id": "4f2e128763214880a242a591f60bc49e",
       "version_major": 2,
       "version_minor": 0
      },
      "text/plain": [
       "Downloading:   0%|          | 0.00/79.0 [00:00<?, ?B/s]"
      ]
     },
     "metadata": {},
     "output_type": "display_data"
    },
    {
     "name": "stderr",
     "output_type": "stream",
     "text": [
      "05/04/2021 21:39:00 - INFO - filelock -   Lock 140245570869376 released on /home/daniel/.cache/huggingface/transformers/e8a600814b69e3ee74bb4a7398cc6fef9812475010f16a6c9f151b2c2772b089.451739a2f3b82c3375da0dfc6af295bedc4567373b171f514dd09a4cc4b31513.lock\n",
      "05/04/2021 21:39:00 - WARNING - farm.utils -   ML Logging is turned off. No parameters, metrics or artifacts will be logged to MLFlow.\n",
      "05/04/2021 21:39:00 - INFO - farm.utils -   Using device: CPU \n",
      "05/04/2021 21:39:00 - INFO - farm.utils -   Number of GPUs: 0\n",
      "05/04/2021 21:39:00 - INFO - farm.utils -   Distributed Training: False\n",
      "05/04/2021 21:39:00 - INFO - farm.utils -   Automatic Mixed Precision: None\n",
      "05/04/2021 21:39:01 - INFO - farm.infer -   Got ya 11 parallel workers to do inference ...\n",
      "05/04/2021 21:39:01 - INFO - farm.infer -    0    0    0    0    0    0    0    0    0    0    0 \n",
      "05/04/2021 21:39:01 - INFO - farm.infer -   /w\\  /w\\  /w\\  /w\\  /w\\  /w\\  /w\\  /|\\  /w\\  /w\\  /w\\\n",
      "05/04/2021 21:39:01 - INFO - farm.infer -   /'\\  / \\  /'\\  /'\\  / \\  / \\  /'\\  /'\\  /'\\  /'\\  /'\\\n",
      "05/04/2021 21:39:01 - INFO - farm.infer -                       \n",
      "05/04/2021 21:41:32 - WARNING - farm.data_handler.dataset -   Could not determine type for feature 'labels'. Converting now to a tensor of default type long.\n",
      "05/04/2021 21:41:32 - WARNING - farm.data_handler.dataset -   Could not determine type for feature 'labels'. Converting now to a tensor of default type long.\n",
      "05/04/2021 21:41:32 - WARNING - farm.data_handler.dataset -   Could not determine type for feature 'labels'. Converting now to a tensor of default type long.\n",
      "05/04/2021 21:41:32 - WARNING - farm.data_handler.dataset -   Could not determine type for feature 'labels'. Converting now to a tensor of default type long.\n",
      "05/04/2021 21:41:32 - WARNING - farm.data_handler.dataset -   Could not determine type for feature 'labels'. Converting now to a tensor of default type long.\n",
      "05/04/2021 21:41:32 - WARNING - farm.data_handler.dataset -   Could not determine type for feature 'labels'. Converting now to a tensor of default type long.\n",
      "05/04/2021 21:41:32 - WARNING - farm.data_handler.dataset -   Could not determine type for feature 'labels'. Converting now to a tensor of default type long.\n",
      "05/04/2021 21:41:32 - WARNING - farm.data_handler.dataset -   Could not determine type for feature 'labels'. Converting now to a tensor of default type long.\n",
      "05/04/2021 21:41:32 - WARNING - farm.data_handler.dataset -   Could not determine type for feature 'labels'. Converting now to a tensor of default type long.\n",
      "05/04/2021 21:41:32 - WARNING - farm.data_handler.dataset -   Could not determine type for feature 'labels'. Converting now to a tensor of default type long.\n",
      "05/04/2021 21:43:51 - WARNING - farm.data_handler.dataset -   Could not determine type for feature 'labels'. Converting now to a tensor of default type long.\n",
      "05/04/2021 21:43:51 - WARNING - farm.data_handler.dataset -   Could not determine type for feature 'labels'. Converting now to a tensor of default type long.\n",
      "05/04/2021 21:43:51 - WARNING - farm.data_handler.dataset -   Could not determine type for feature 'labels'. Converting now to a tensor of default type long.\n",
      "05/04/2021 21:43:51 - WARNING - farm.data_handler.dataset -   Could not determine type for feature 'labels'. Converting now to a tensor of default type long.\n",
      "05/04/2021 21:43:51 - WARNING - farm.data_handler.dataset -   Could not determine type for feature 'labels'. Converting now to a tensor of default type long.\n",
      "05/04/2021 21:43:51 - WARNING - farm.data_handler.dataset -   Could not determine type for feature 'labels'. Converting now to a tensor of default type long.\n",
      "05/04/2021 21:43:51 - WARNING - farm.data_handler.dataset -   Could not determine type for feature 'labels'. Converting now to a tensor of default type long.\n",
      "05/04/2021 21:43:51 - WARNING - farm.data_handler.dataset -   Could not determine type for feature 'labels'. Converting now to a tensor of default type long.\n",
      "05/04/2021 21:43:51 - WARNING - farm.data_handler.dataset -   Could not determine type for feature 'labels'. Converting now to a tensor of default type long.\n",
      "05/04/2021 21:43:51 - WARNING - farm.data_handler.dataset -   Could not determine type for feature 'labels'. Converting now to a tensor of default type long.\n"
     ]
    }
   ],
   "source": [
    "from haystack.reader.farm import FARMReader\n",
    "reader = FARMReader(model_name_or_path=\"deepset/roberta-base-squad2\", use_gpu=False)"
   ]
  },
  {
   "cell_type": "code",
   "execution_count": 9,
   "id": "6b2ca701",
   "metadata": {},
   "outputs": [],
   "source": [
    "from haystack.pipeline import ExtractiveQAPipeline\n",
    "pipe = ExtractiveQAPipeline(reader, retriever)"
   ]
  },
  {
   "cell_type": "code",
   "execution_count": 14,
   "id": "cabaee44",
   "metadata": {},
   "outputs": [
    {
     "name": "stderr",
     "output_type": "stream",
     "text": [
      "05/04/2021 21:43:51 - INFO - elasticsearch -   POST http://localhost:9200/document/_search [status:200 request:0.021s]\n",
      "Inferencing Samples: 100%|██████████| 1/1 [00:00<00:00,  1.79 Batches/s]\n",
      "Inferencing Samples: 100%|██████████| 1/1 [00:00<00:00,  1.88 Batches/s]\n",
      "Inferencing Samples: 100%|██████████| 1/1 [00:00<00:00,  1.87 Batches/s]\n",
      "Inferencing Samples: 100%|██████████| 1/1 [00:00<00:00,  1.84 Batches/s]\n",
      "Inferencing Samples: 100%|██████████| 1/1 [00:00<00:00,  1.85 Batches/s]\n",
      "Inferencing Samples: 100%|██████████| 1/1 [00:00<00:00,  1.86 Batches/s]\n",
      "Inferencing Samples: 100%|██████████| 1/1 [00:00<00:00,  1.86 Batches/s]\n",
      "Inferencing Samples: 100%|██████████| 1/1 [00:00<00:00,  1.88 Batches/s]\n",
      "Inferencing Samples: 100%|██████████| 1/1 [00:00<00:00,  1.88 Batches/s]\n",
      "Inferencing Samples: 100%|██████████| 1/1 [00:00<00:00,  1.86 Batches/s]\n"
     ]
    }
   ],
   "source": [
    "prediction = pipe.run(query=\"What is the Internet Engineering Task Force?\", top_k_retriever=10, top_k_reader=5)"
   ]
  },
  {
   "cell_type": "code",
   "execution_count": 12,
   "id": "2252b2d2",
   "metadata": {},
   "outputs": [],
   "source": [
    "from haystack.utils import print_answers"
   ]
  },
  {
   "cell_type": "code",
   "execution_count": 15,
   "id": "4c36b4a9",
   "metadata": {},
   "outputs": [
    {
     "name": "stdout",
     "output_type": "stream",
     "text": [
      "[   {   'answer': 'IETF',\n",
      "        'context': 'r Comment (RFC) documents [2] of the Internet Engineering '\n",
      "                   'Task Force (or IETF) [3]. RFCs are numbered when they are '\n",
      "                   'accepted to be published. There ar'},\n",
      "    {   'answer': 'World Academy of Science, Engineering and Technology',\n",
      "        'context': 'uble arc plans compared to Single arc plans with\\n'\n",
      "                   'World Academy of Science, Engineering and Technology '\n",
      "                   'International Journal of Medical and Health Scie'},\n",
      "    {   'answer': 'algorithm',\n",
      "        'context': 'An algorithm can be described informally, with a basic set '\n",
      "                   'of steps that must be performed to reach a predetermined '\n",
      "                   'result, or with mathematical rigor'},\n",
      "    {   'answer': '-Each layer should be chosen thinking on the standardized '\n",
      "                  'protocols. -Layer boundaries must be chosen bearing in mind '\n",
      "                  'to make low information flow between the layers of the same '\n",
      "                  'device. -The amount of layers should not be high in order '\n",
      "                  'to have an operative and easy to use architecture, but not '\n",
      "                  'too much reduced to force a set of functions in one layer',\n",
      "        'context': '-Each layer should be chosen thinking on the standardized '\n",
      "                   'protocols. -Layer boundaries must be chosen bearing in '\n",
      "                   'mind to make low information flow between the layers of '\n",
      "                   'the same device. -The amount of layers should not be high '\n",
      "                   'in order to have an operative and easy to use '\n",
      "                   'architecture, but not too much reduced to force a set of '\n",
      "                   'functions in one layer'},\n",
      "    {   'answer': 'network Algorithm',\n",
      "        'context': 'er to know how to act to communicate with other network '\n",
      "                   'devices. A network Algorithm consists of a finite list of '\n",
      "                   'instructions (which are well defined'}]\n"
     ]
    }
   ],
   "source": [
    "print_answers(prediction, details=\"minimal\")"
   ]
  },
  {
   "cell_type": "code",
   "execution_count": null,
   "id": "109ee398",
   "metadata": {},
   "outputs": [],
   "source": []
  }
 ],
 "metadata": {
  "kernelspec": {
   "display_name": "Python 3",
   "language": "python",
   "name": "python3"
  },
  "language_info": {
   "codemirror_mode": {
    "name": "ipython",
    "version": 3
   },
   "file_extension": ".py",
   "mimetype": "text/x-python",
   "name": "python",
   "nbconvert_exporter": "python",
   "pygments_lexer": "ipython3",
   "version": "3.8.8"
  }
 },
 "nbformat": 4,
 "nbformat_minor": 5
}
