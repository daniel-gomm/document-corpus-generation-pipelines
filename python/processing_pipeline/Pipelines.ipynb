{
 "cells": [
  {
   "cell_type": "code",
   "execution_count": 1,
   "id": "36172b7a",
   "metadata": {},
   "outputs": [
    {
     "name": "stderr",
     "output_type": "stream",
     "text": [
      "05/20/2021 13:46:11 - INFO - faiss.loader -   Loading faiss with AVX2 support.\n",
      "05/20/2021 13:46:11 - INFO - faiss.loader -   Loading faiss.\n",
      "/home/daniel/anaconda3/envs/KD/lib/python3.8/site-packages/torch/cuda/__init__.py:52: UserWarning: CUDA initialization: Found no NVIDIA driver on your system. Please check that you have an NVIDIA GPU and installed a driver from http://www.nvidia.com/Download/index.aspx (Triggered internally at  /pytorch/c10/cuda/CUDAFunctions.cpp:100.)\n",
      "  return torch._C._cuda_getDeviceCount() > 0\n",
      "05/20/2021 13:46:11 - INFO - farm.modeling.prediction_head -   Better speed can be achieved with apex installed from https://www.github.com/nvidia/apex .\n"
     ]
    }
   ],
   "source": [
    "from Pipeline import Pipeline\n",
    "import Adapters\n",
    "import Processors\n",
    "import Sinks"
   ]
  },
  {
   "cell_type": "code",
   "execution_count": 2,
   "id": "257f55d6",
   "metadata": {},
   "outputs": [
    {
     "name": "stderr",
     "output_type": "stream",
     "text": [
      "05/20/2021 13:46:12 - INFO - elasticsearch -   HEAD http://localhost:9200/ [status:200 request:0.006s]\n",
      "05/20/2021 13:46:13 - INFO - elasticsearch -   PUT http://localhost:9200/document [status:200 request:0.238s]\n",
      "05/20/2021 13:46:13 - INFO - elasticsearch -   PUT http://localhost:9200/label [status:200 request:0.276s]\n"
     ]
    }
   ],
   "source": [
    "from haystack.document_store.elasticsearch import ElasticsearchDocumentStore\n",
    "document_store = ElasticsearchDocumentStore(host=\"localhost\", username=\"\", password=\"\", index=\"document\")"
   ]
  },
  {
   "cell_type": "markdown",
   "id": "36cdbc0d",
   "metadata": {},
   "source": [
    "### Pipeline Definition"
   ]
  },
  {
   "cell_type": "code",
   "execution_count": 3,
   "id": "93339b3b",
   "metadata": {},
   "outputs": [],
   "source": [
    "adapter = Adapters.UnarxiveAdapter(\"../../data/unarXive-sample\")"
   ]
  },
  {
   "cell_type": "code",
   "execution_count": 4,
   "id": "a94ba697",
   "metadata": {},
   "outputs": [],
   "source": [
    "pipeline = Pipeline(adapter, batch_size=20)"
   ]
  },
  {
   "cell_type": "code",
   "execution_count": 5,
   "id": "43357c3f",
   "metadata": {},
   "outputs": [],
   "source": [
    "#MetadataArxiveEnricher\n",
    "from arxive_metadata.rocksDB import RocksDBAdapter\n",
    "db = RocksDBAdapter(\"arXive_metadata\", \"http://localhost:8089\")\n",
    "pipeline.add_processor(Processors.MetadataArxiveEnricher(\"arixive-id\",db))"
   ]
  },
  {
   "cell_type": "code",
   "execution_count": 6,
   "id": "d2c59acf",
   "metadata": {},
   "outputs": [],
   "source": [
    "#FilterOnMetadataValue\n",
    "cs_values = [\n",
    "    \"cs.AI\", \n",
    "    \"cs.AR\", \n",
    "    \"cs.CC\", \n",
    "    \"cs.CE\", \n",
    "    \"cs.CG\", \n",
    "    \"cs.CL\", \n",
    "    \"cs.CR\",\n",
    "    \"cs.CV\",\n",
    "    \"cs.CY\",\n",
    "    \"cs.DB\",\n",
    "    \"cs.DC\",\n",
    "    \"cs.DL\",\n",
    "    \"cs.DM\",\n",
    "    \"cs.DS\",\n",
    "    \"cs.ET\",\n",
    "    \"cs.FL\",\n",
    "    \"cs.GL\",\n",
    "    \"cs.GR\",\n",
    "    \"cs.GT\",\n",
    "    \"cs.HC\",\n",
    "    \"cs.IR\",\n",
    "    \"cs.LG\",\n",
    "    \"cs.LO\",\n",
    "    \"cs.MA\",\n",
    "    \"cs.MM\",\n",
    "    \"cs.MS\",\n",
    "    \"cs.NA\",\n",
    "    \"cs.NE\",\n",
    "    \"cs.NI\",\n",
    "    \"cs.OH\",\n",
    "    \"cs.OS\",\n",
    "    \"cs.PF\",\n",
    "    \"cs.PL\",\n",
    "    \"cs.RO\",\n",
    "    \"cs.SC\",\n",
    "    \"cs.SD\",\n",
    "    \"cs.SE\",\n",
    "    \"cs.SI\",\n",
    "    \"cs.SY\"\n",
    "]\n",
    "pipeline.add_processor(Processors.FilterOnMetadataValue(\"categories\", cs_values))"
   ]
  },
  {
   "cell_type": "code",
   "execution_count": 7,
   "id": "fc82fa00",
   "metadata": {},
   "outputs": [],
   "source": [
    "#MetadataFieldDiscarder\n",
    "fields_to_discard = [\"update_date\", \"versions\", \"comments\", \"report-no\", \"license\", \"id\", \"abstract\", \"categories\", \"submitter\", \"journal-ref\", \"authors_parsed\"]\n",
    "pipeline.add_processor(Processors.MetadataFieldDiscarder(fields_to_discard))"
   ]
  },
  {
   "cell_type": "code",
   "execution_count": 8,
   "id": "b7bec834",
   "metadata": {},
   "outputs": [],
   "source": [
    "#TextKeywordCut\n",
    "pipeline.add_processor(Processors.TextKeywordCut(\"introduction\"))"
   ]
  },
  {
   "cell_type": "code",
   "execution_count": 9,
   "id": "15c1c1aa",
   "metadata": {},
   "outputs": [],
   "source": [
    "#TextReplaceFilter\n",
    "pipeline.add_processor(Processors.TextReplaceFilter(r\"\\{{(.*?)\\}}\", \"\"))"
   ]
  },
  {
   "cell_type": "code",
   "execution_count": 10,
   "id": "28a1dbea",
   "metadata": {},
   "outputs": [],
   "source": [
    "#HaystackPreProcessor\n",
    "from haystack.preprocessor import PreProcessor\n",
    "pre_processor = PreProcessor(\n",
    "    clean_empty_lines=True,\n",
    "    clean_whitespace=True,\n",
    "    clean_header_footer=True,\n",
    "    split_by=\"word\",\n",
    "    split_length=200,\n",
    "    split_respect_sentence_boundary=False,\n",
    "    split_overlap=0)\n",
    "pipeline.add_processor(Processors.HaystackPreProcessor(pre_processor))"
   ]
  },
  {
   "cell_type": "code",
   "execution_count": 11,
   "id": "0411545c",
   "metadata": {},
   "outputs": [],
   "source": [
    "#TextfileSink\n",
    "pipeline.add_sink(Sinks.TextfileSink(\"/home/daniel/storage/KD/testoutput\", [\"arixive-id\", \"_split_id\"]))"
   ]
  },
  {
   "cell_type": "code",
   "execution_count": 12,
   "id": "f512b1aa",
   "metadata": {},
   "outputs": [],
   "source": [
    "#ElasticsearchSink\n",
    "pipeline.add_sink(Sinks.ElasticsearchSink(document_store))"
   ]
  },
  {
   "cell_type": "code",
   "execution_count": 13,
   "id": "8de02519",
   "metadata": {},
   "outputs": [
    {
     "name": "stdout",
     "output_type": "stream",
     "text": [
      "(UnarxiveAdapter) ---> *MetadataArxiveEnricher* ---> *FilterOnMetadataValue* ---> *MetadataFieldDiscarder* ---> *TextKeywordCut* ---> *TextReplaceFilter* ---> *HaystackPreProcessor*\n",
      "===> |_TextfileSink_|\n",
      "===> |_ElasticsearchSink_|\n"
     ]
    }
   ],
   "source": [
    "print(pipeline)"
   ]
  },
  {
   "cell_type": "markdown",
   "id": "080341b4",
   "metadata": {},
   "source": [
    "### Use Pipeline to process documents"
   ]
  },
  {
   "cell_type": "code",
   "execution_count": 16,
   "id": "aff983d5",
   "metadata": {},
   "outputs": [
    {
     "name": "stdout",
     "output_type": "stream",
     "text": [
      "Processing batches: [####################################........................] 6/10\r"
     ]
    },
    {
     "name": "stderr",
     "output_type": "stream",
     "text": [
      "05/20/2021 13:46:57 - INFO - elasticsearch -   POST http://localhost:9200/_bulk?refresh=wait_for [status:200 request:0.854s]\n"
     ]
    },
    {
     "name": "stdout",
     "output_type": "stream",
     "text": [
      "Processing batches: [############################################################] 10/10\n"
     ]
    }
   ],
   "source": [
    "pipeline.process()"
   ]
  },
  {
   "cell_type": "markdown",
   "id": "d5b96f5d",
   "metadata": {},
   "source": [
    "### Pipeline to update entries in Elasticsearch"
   ]
  },
  {
   "cell_type": "code",
   "execution_count": 28,
   "id": "c4c7dcc2",
   "metadata": {},
   "outputs": [
    {
     "name": "stderr",
     "output_type": "stream",
     "text": [
      "05/20/2021 13:57:51 - INFO - elasticsearch -   POST http://localhost:9200/document/_count [status:200 request:0.085s]\n"
     ]
    }
   ],
   "source": [
    "e_adapt = Adapters.ElasticsearchAdapter(document_store, batch_size=10)"
   ]
  },
  {
   "cell_type": "code",
   "execution_count": 29,
   "id": "d9ca0044",
   "metadata": {},
   "outputs": [],
   "source": [
    "update_pipeline = Pipeline(e_adapt, batch_size=20)"
   ]
  },
  {
   "cell_type": "code",
   "execution_count": 30,
   "id": "64cf1525",
   "metadata": {},
   "outputs": [
    {
     "name": "stderr",
     "output_type": "stream",
     "text": [
      "05/20/2021 13:57:54 - INFO - elasticsearch -   HEAD http://localhost:9200/ [status:200 request:0.005s]\n",
      "05/20/2021 13:57:54 - INFO - elasticsearch -   HEAD http://localhost:9200/document [status:200 request:0.007s]\n",
      "05/20/2021 13:57:54 - INFO - elasticsearch -   GET http://localhost:9200/document [status:200 request:0.003s]\n",
      "05/20/2021 13:57:54 - INFO - elasticsearch -   PUT http://localhost:9200/document/_mapping [status:200 request:0.016s]\n",
      "05/20/2021 13:57:54 - INFO - elasticsearch -   HEAD http://localhost:9200/label [status:200 request:0.002s]\n"
     ]
    }
   ],
   "source": [
    "#ElasticsearchSink (put items back into Elasticsearch)\n",
    "update_document_store = ElasticsearchDocumentStore(update_existing_documents=True, host=\"localhost\", username=\"\", password=\"\", index=\"document\")\n",
    "update_pipeline.add_sink(Sinks.ElasticsearchSink(update_document_store))"
   ]
  },
  {
   "cell_type": "code",
   "execution_count": 31,
   "id": "4a8248ac",
   "metadata": {},
   "outputs": [
    {
     "name": "stdout",
     "output_type": "stream",
     "text": [
      "(ElasticsearchAdapter)\n",
      "===> |_ElasticsearchSink_|\n"
     ]
    }
   ],
   "source": [
    "print(update_pipeline)"
   ]
  },
  {
   "cell_type": "code",
   "execution_count": 32,
   "id": "f5887250",
   "metadata": {},
   "outputs": [
    {
     "name": "stdout",
     "output_type": "stream",
     "text": [
      "Processing batches: [............................................................] 0/3\r"
     ]
    },
    {
     "name": "stderr",
     "output_type": "stream",
     "text": [
      "05/20/2021 13:58:00 - INFO - elasticsearch -   POST http://localhost:9200/document/_search?scroll=1d&size=10 [status:200 request:0.031s]\n",
      "05/20/2021 13:58:00 - INFO - elasticsearch -   POST http://localhost:9200/_search/scroll [status:200 request:0.012s]\n",
      "05/20/2021 13:58:00 - INFO - elasticsearch -   POST http://localhost:9200/_bulk?refresh=wait_for [status:200 request:0.538s]\n"
     ]
    },
    {
     "name": "stdout",
     "output_type": "stream",
     "text": [
      "Processing batches: [####################........................................] 1/3\r"
     ]
    },
    {
     "name": "stderr",
     "output_type": "stream",
     "text": [
      "05/20/2021 13:58:00 - INFO - elasticsearch -   POST http://localhost:9200/_search/scroll [status:200 request:0.005s]\n",
      "05/20/2021 13:58:00 - INFO - elasticsearch -   POST http://localhost:9200/_search/scroll [status:200 request:0.006s]\n",
      "05/20/2021 13:58:01 - INFO - elasticsearch -   POST http://localhost:9200/_bulk?refresh=wait_for [status:200 request:1.003s]\n"
     ]
    },
    {
     "name": "stdout",
     "output_type": "stream",
     "text": [
      "Processing batches: [########################################....................] 2/3\r"
     ]
    },
    {
     "name": "stderr",
     "output_type": "stream",
     "text": [
      "05/20/2021 13:58:01 - INFO - elasticsearch -   POST http://localhost:9200/_search/scroll [status:200 request:0.005s]\n",
      "05/20/2021 13:58:01 - INFO - elasticsearch -   POST http://localhost:9200/_search/scroll [status:200 request:0.003s]\n",
      "05/20/2021 13:58:01 - INFO - elasticsearch -   DELETE http://localhost:9200/_search/scroll [status:200 request:0.004s]\n",
      "05/20/2021 13:58:02 - INFO - elasticsearch -   POST http://localhost:9200/_bulk?refresh=wait_for [status:200 request:0.997s]\n"
     ]
    },
    {
     "name": "stdout",
     "output_type": "stream",
     "text": [
      "Processing batches: [############################################################] 3/3\n"
     ]
    }
   ],
   "source": [
    "update_pipeline.process()"
   ]
  },
  {
   "cell_type": "code",
   "execution_count": null,
   "id": "b15132bf",
   "metadata": {},
   "outputs": [],
   "source": []
  }
 ],
 "metadata": {
  "kernelspec": {
   "display_name": "Python 3",
   "language": "python",
   "name": "python3"
  },
  "language_info": {
   "codemirror_mode": {
    "name": "ipython",
    "version": 3
   },
   "file_extension": ".py",
   "mimetype": "text/x-python",
   "name": "python",
   "nbconvert_exporter": "python",
   "pygments_lexer": "ipython3",
   "version": "3.8.8"
  }
 },
 "nbformat": 4,
 "nbformat_minor": 5
}
