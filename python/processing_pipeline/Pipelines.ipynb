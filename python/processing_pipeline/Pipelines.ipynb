{
 "cells": [
  {
   "cell_type": "code",
   "execution_count": 1,
   "id": "36172b7a",
   "metadata": {},
   "outputs": [
    {
     "name": "stderr",
     "output_type": "stream",
     "text": [
      "/home/daniel/anaconda3/envs/KD/lib/python3.7/site-packages/torch/cuda/__init__.py:52: UserWarning: CUDA initialization: Found no NVIDIA driver on your system. Please check that you have an NVIDIA GPU and installed a driver from http://www.nvidia.com/Download/index.aspx (Triggered internally at  /pytorch/c10/cuda/CUDAFunctions.cpp:100.)\n",
      "  return torch._C._cuda_getDeviceCount() > 0\n",
      "06/24/2021 15:25:24 - INFO - farm.modeling.prediction_head -   Better speed can be achieved with apex installed from https://www.github.com/nvidia/apex .\n",
      "[nltk_data] Downloading package punkt to /home/daniel/nltk_data...\n",
      "[nltk_data]   Package punkt is already up-to-date!\n"
     ]
    }
   ],
   "source": [
    "from Pipeline import Pipeline\n",
    "import Adapters\n",
    "import Processors\n",
    "import Sinks\n",
    "import pandas as pd\n",
    "import json"
   ]
  },
  {
   "cell_type": "code",
   "execution_count": 2,
   "id": "257f55d6",
   "metadata": {},
   "outputs": [
    {
     "name": "stderr",
     "output_type": "stream",
     "text": [
      "06/24/2021 15:25:25 - INFO - elasticsearch -   HEAD http://aifb-ls3-vm1.aifb.kit.edu:9200/ [status:200 request:0.067s]\n",
      "06/24/2021 15:25:25 - INFO - elasticsearch -   HEAD http://aifb-ls3-vm1.aifb.kit.edu:9200/document [status:200 request:0.022s]\n",
      "06/24/2021 15:25:25 - INFO - elasticsearch -   GET http://aifb-ls3-vm1.aifb.kit.edu:9200/document [status:200 request:0.022s]\n",
      "06/24/2021 15:25:25 - INFO - elasticsearch -   PUT http://aifb-ls3-vm1.aifb.kit.edu:9200/document/_mapping [status:200 request:0.030s]\n",
      "06/24/2021 15:25:25 - INFO - elasticsearch -   HEAD http://aifb-ls3-vm1.aifb.kit.edu:9200/label [status:200 request:0.024s]\n"
     ]
    }
   ],
   "source": [
    "from haystack.document_store.elasticsearch import ElasticsearchDocumentStore\n",
    "document_store = ElasticsearchDocumentStore(host=\"aifb-ls3-vm1.aifb.kit.edu\", username=\"\", password=\"\", index=\"document\", duplicate_documents='overwrite')"
   ]
  },
  {
   "cell_type": "markdown",
   "id": "36cdbc0d",
   "metadata": {},
   "source": [
    "### Pipeline Definition"
   ]
  },
  {
   "cell_type": "code",
   "execution_count": null,
   "id": "a94ba697",
   "metadata": {},
   "outputs": [],
   "source": [
    "adapter = Adapters.UnarxiveAdapter(\"/home/daniel/KIT/KD/sample_small\")\n",
    "pipeline = Pipeline(adapter, batch_size=5, cpus=10)"
   ]
  },
  {
   "cell_type": "code",
   "execution_count": null,
   "id": "43357c3f",
   "metadata": {},
   "outputs": [],
   "source": [
    "#MetadataArxiveEnricher\n",
    "from arxive_metadata.rocksDB import RocksDBAdapter\n",
    "db = RocksDBAdapter(\"arXive_metadata\", \"http://localhost:8089\")\n",
    "pipeline.add_processor(Processors.MetadataArxiveEnricher(\"arixive-id\",db))"
   ]
  },
  {
   "cell_type": "code",
   "execution_count": null,
   "id": "d2c59acf",
   "metadata": {},
   "outputs": [],
   "source": [
    "#FilterOnMetadataValue\n",
    "cs_values = [\"cs.AI\", \"cs.AR\", \"cs.CC\", \"cs.CE\", \"cs.CG\", \"cs.CL\", \"cs.CR\",\"cs.CV\",\"cs.CY\",\"cs.DB\",\"cs.DC\",\"cs.DL\",\"cs.DM\",\"cs.DS\",\"cs.ET\",\"cs.FL\",\"cs.GL\",\"cs.GR\", \"cs.GT\",\"cs.HC\",\"cs.IR\",\"cs.LG\",\"cs.LO\",\"cs.MA\",\"cs.MM\",\"cs.MS\",\"cs.NA\",\"cs.NE\",\"cs.NI\",\"cs.OH\",\"cs.OS\",\"cs.PF\",\"cs.PL\",\"cs.RO\",\"cs.SC\",\"cs.SD\",\"cs.SE\",\"cs.SI\",\"cs.SY\"]\n",
    "pipeline.add_processor(Processors.FilterOnMetadataValue(\"categories\", cs_values))"
   ]
  },
  {
   "cell_type": "code",
   "execution_count": null,
   "id": "1fd0ea23",
   "metadata": {},
   "outputs": [],
   "source": [
    "#Clean up text\n",
    "#TextKeywordCut Introduction\n",
    "pipeline.add_processor(Processors.TextKeywordCut(\"Introduction\"))\n",
    "#TextKeywordCut Acknowledgements\n",
    "pipeline.add_processor(Processors.TextKeywordCut(\"Acknowledgments\", False))\n",
    "#TextAppendMetadataField\n",
    "pipeline.add_processor(Processors.TextAppendMetadataField(\"abstract\", True))"
   ]
  },
  {
   "cell_type": "code",
   "execution_count": null,
   "id": "fc82fa00",
   "metadata": {},
   "outputs": [],
   "source": [
    "#MetadataFieldDiscarder\n",
    "fields_to_discard = [\"update_date\", \"authors\", \"abstract\", \"versions\", \"comments\", \"report-no\", \"license\", \"id\", \"categories\", \"submitter\", \"journal-ref\", \"authors_parsed\"]\n",
    "pipeline.add_processor(Processors.MetadataFieldDiscarder(fields_to_discard))"
   ]
  },
  {
   "cell_type": "code",
   "execution_count": null,
   "id": "7b1ad489",
   "metadata": {},
   "outputs": [],
   "source": [
    "#MetadataMagArxiveLinker\n",
    "import pandas as pd\n",
    "df = pd.read_csv(\"../../data/unarxive_metadata/mag_id_2_arxiv_id.csv\", names=[\"mag_id\", \"idk\", \"url\", \"arxive_id\"])\n",
    "pipeline.add_processor(Processors.MetadataMagArxiveLinker(df, column_to_match=\"arxive_id\", column_to_add=\"mag_id\", field_to_match=\"arixive-id\"))\n",
    "del df"
   ]
  },
  {
   "cell_type": "code",
   "execution_count": null,
   "id": "15c1c1aa",
   "metadata": {},
   "outputs": [],
   "source": [
    "#TextReplaceFilter\n",
    "pipeline.add_processor(Processors.TextReplaceFilter(r\"\\{{(.*?)\\}}\", \"\"))"
   ]
  },
  {
   "cell_type": "code",
   "execution_count": null,
   "id": "28a1dbea",
   "metadata": {},
   "outputs": [],
   "source": [
    "#HaystackPreProcessor\n",
    "from haystack.preprocessor import PreProcessor\n",
    "pre_processor = PreProcessor(\n",
    "    clean_empty_lines=True,\n",
    "    clean_whitespace=True,\n",
    "    clean_header_footer=True,\n",
    "    split_by=\"word\",\n",
    "    split_length=100,\n",
    "    split_respect_sentence_boundary=True,\n",
    "    split_overlap=0)\n",
    "pipeline.add_processor(Processors.HaystackPreProcessor(pre_processor))"
   ]
  },
  {
   "cell_type": "code",
   "execution_count": null,
   "id": "0411545c",
   "metadata": {},
   "outputs": [],
   "source": [
    "#TextfileSink\n",
    "#pipeline.add_sink(Sinks.TextfileSink(\"/home/daniel/KIT/KD/testoutput\", [\"arixive-id\", \"_split_id\"]))\n",
    "pipeline.add_sink(Sinks.TextfileSink(\"/home/daniel/KIT/KD/testoutput\", [\"arixive-id\"]))"
   ]
  },
  {
   "cell_type": "code",
   "execution_count": null,
   "id": "f512b1aa",
   "metadata": {},
   "outputs": [],
   "source": [
    "#ElasticsearchSink\n",
    "pipeline.add_sink(Sinks.ElasticsearchSink(document_store))"
   ]
  },
  {
   "cell_type": "code",
   "execution_count": null,
   "id": "d4733c5f",
   "metadata": {},
   "outputs": [],
   "source": [
    "#PrintSink\n",
    "pipeline.add_sink(Sinks.PrintSink())"
   ]
  },
  {
   "cell_type": "code",
   "execution_count": null,
   "id": "8de02519",
   "metadata": {},
   "outputs": [],
   "source": [
    "print(pipeline)"
   ]
  },
  {
   "cell_type": "markdown",
   "id": "080341b4",
   "metadata": {},
   "source": [
    "### Use Pipeline to process documents"
   ]
  },
  {
   "cell_type": "code",
   "execution_count": null,
   "id": "aff983d5",
   "metadata": {
    "tags": []
   },
   "outputs": [],
   "source": [
    "pipeline.process()"
   ]
  },
  {
   "cell_type": "markdown",
   "id": "d5b96f5d",
   "metadata": {},
   "source": [
    "### Pipeline to update entries in Elasticsearch"
   ]
  },
  {
   "cell_type": "code",
   "execution_count": null,
   "id": "c4c7dcc2",
   "metadata": {},
   "outputs": [],
   "source": [
    "e_adapt = Adapters.ElasticsearchAdapter(document_store, batch_size=10)"
   ]
  },
  {
   "cell_type": "code",
   "execution_count": null,
   "id": "d9ca0044",
   "metadata": {},
   "outputs": [],
   "source": [
    "update_pipeline = Pipeline(e_adapt, batch_size=20, cpus=10)"
   ]
  },
  {
   "cell_type": "code",
   "execution_count": null,
   "id": "64cf1525",
   "metadata": {},
   "outputs": [],
   "source": [
    "#ElasticsearchSink (put items back into Elasticsearch)\n",
    "update_document_store = ElasticsearchDocumentStore(update_existing_documents=True, host=\"localhost\", username=\"\", password=\"\", index=\"document\")\n",
    "update_pipeline.add_sink(Sinks.ElasticsearchSink(update_document_store))"
   ]
  },
  {
   "cell_type": "code",
   "execution_count": null,
   "id": "4a8248ac",
   "metadata": {},
   "outputs": [],
   "source": [
    "print(update_pipeline)"
   ]
  },
  {
   "cell_type": "code",
   "execution_count": null,
   "id": "f5887250",
   "metadata": {},
   "outputs": [],
   "source": [
    "update_pipeline.process()"
   ]
  },
  {
   "cell_type": "code",
   "execution_count": null,
   "id": "72db953d",
   "metadata": {},
   "outputs": [],
   "source": [
    "len(adapter)"
   ]
  },
  {
   "cell_type": "code",
   "execution_count": null,
   "id": "2c47b904",
   "metadata": {},
   "outputs": [],
   "source": [
    "len(e_adapt)"
   ]
  },
  {
   "cell_type": "code",
   "execution_count": null,
   "id": "a710e055",
   "metadata": {},
   "outputs": [],
   "source": [
    "#IMRaD classification\n",
    "from imrad_classification import BERTClassificationHandler\n",
    "classification_handler = BERTClassificationHandler(\"/home/daniel/BERT_copy.model\")\n",
    "pipeline.add_processor(Processors.IMRaDClassification(classification_handler))"
   ]
  },
  {
   "cell_type": "code",
   "execution_count": null,
   "id": "daba8812",
   "metadata": {},
   "outputs": [],
   "source": [
    "adapter = Adapters.UnarxiveAdapter(\"/home/daniel/KIT/KD/sample\")"
   ]
  },
  {
   "cell_type": "code",
   "execution_count": null,
   "id": "756d2eab",
   "metadata": {},
   "outputs": [],
   "source": [
    "docs = adapter.generate_documents(50)"
   ]
  },
  {
   "cell_type": "code",
   "execution_count": null,
   "id": "e0eace61",
   "metadata": {},
   "outputs": [],
   "source": [
    "type(docs[0])"
   ]
  },
  {
   "cell_type": "code",
   "execution_count": null,
   "id": "74cb7630",
   "metadata": {},
   "outputs": [],
   "source": [
    "algorithms = pd.read_json(\"../../preprocessing/wikidata/algorithms_preprocessed.json\")\n",
    "algs = {}\n",
    "for index, row in algorithms.iterrows():\n",
    "    algs[row['itemLabel']] = row['item']\n",
    "pipeline.add_processor(Processors.StringMatchingProcessor(datasets, 'methods', 'wikidata_id'))"
   ]
  },
  {
   "cell_type": "code",
   "execution_count": null,
   "id": "7d097497",
   "metadata": {},
   "outputs": [],
   "source": [
    "adapter = Adapters.GrobidAdapter(\"/home/daniel/KIT/KD/unpaywall-grobid-sample\")"
   ]
  },
  {
   "cell_type": "code",
   "execution_count": null,
   "id": "a50479e4",
   "metadata": {},
   "outputs": [],
   "source": [
    "adapter.generate_documents(5)"
   ]
  },
  {
   "cell_type": "markdown",
   "id": "2548d0e4",
   "metadata": {},
   "source": [
    "#### Grobid Testpipeline"
   ]
  },
  {
   "cell_type": "code",
   "execution_count": null,
   "id": "828d440d",
   "metadata": {},
   "outputs": [],
   "source": [
    "grobid_adapter = Adapters.GrobidAdapter(\"/home/daniel/KIT/KD/unpaywall-grobid-sample\")\n",
    "grobid_pipeline = Pipeline(grobid_adapter, batch_size=2, cpus=10)"
   ]
  },
  {
   "cell_type": "code",
   "execution_count": null,
   "id": "0e88d23d",
   "metadata": {},
   "outputs": [],
   "source": [
    "#HaystackPreProcessor\n",
    "from haystack.preprocessor import PreProcessor\n",
    "pre_processor = PreProcessor(\n",
    "    clean_empty_lines=True,\n",
    "    clean_whitespace=True,\n",
    "    clean_header_footer=True,\n",
    "    split_by=\"word\",\n",
    "    split_length=100,\n",
    "    split_respect_sentence_boundary=True,\n",
    "    split_overlap=0)\n",
    "grobid_pipeline.add_processor(Processors.HaystackPreProcessor(pre_processor))"
   ]
  },
  {
   "cell_type": "code",
   "execution_count": null,
   "id": "213585b6",
   "metadata": {},
   "outputs": [],
   "source": [
    "with open('../../data/pwc_metadata/datasets_preprocessed.json') as f:\n",
    "    datasets = json.load(f)\n",
    "grobid_pipeline.add_processor(Processors.StringMatchingProcessor(datasets, 'datasets', 'pwc_url'))"
   ]
  },
  {
   "cell_type": "code",
   "execution_count": null,
   "id": "92809615",
   "metadata": {},
   "outputs": [],
   "source": [
    "with open('../../data/pwc_metadata/methods_preprocessed.json') as f:\n",
    "    methods = json.load(f)\n",
    "grobid_pipeline.add_processor(Processors.StringMatchingProcessor(methods, 'methods', 'pwc_url'))"
   ]
  },
  {
   "cell_type": "code",
   "execution_count": null,
   "id": "2e721a61",
   "metadata": {},
   "outputs": [],
   "source": [
    "grobid_pipeline.add_sink(Sinks.TextfileSink(\"/home/daniel/KIT/KD/testoutput\", [\"mag_id\", \"_split_id\"]))"
   ]
  },
  {
   "cell_type": "code",
   "execution_count": null,
   "id": "8f2a1f81",
   "metadata": {},
   "outputs": [],
   "source": [
    "print(grobid_pipeline)"
   ]
  },
  {
   "cell_type": "code",
   "execution_count": null,
   "id": "08b79e4a",
   "metadata": {},
   "outputs": [],
   "source": [
    "grobid_pipeline.process()"
   ]
  },
  {
   "cell_type": "code",
   "execution_count": null,
   "id": "f4bd7795",
   "metadata": {},
   "outputs": [],
   "source": [
    "len(grobid_adapter)"
   ]
  },
  {
   "cell_type": "code",
   "execution_count": null,
   "id": "5b57f4be",
   "metadata": {},
   "outputs": [],
   "source": [
    "from nltk.tokenize import word_tokenize, sent_tokenize"
   ]
  },
  {
   "cell_type": "code",
   "execution_count": null,
   "id": "d15ccbaa",
   "metadata": {},
   "outputs": [],
   "source": [
    "words = word_tokenize(\"Specificity Sensitivity MSA 63% 90% RBF-single 66% 2.7% 84% ±2.0% MLP-single 61% ±0.0% 91% ±0.2%\")"
   ]
  },
  {
   "cell_type": "code",
   "execution_count": null,
   "id": "ede10c0f",
   "metadata": {},
   "outputs": [],
   "source": [
    "num = []\n",
    "for word in words:\n",
    "    if word.isnumeric() or word.isalnum():\n",
    "        num.append(word)"
   ]
  },
  {
   "cell_type": "code",
   "execution_count": null,
   "id": "185ebead",
   "metadata": {},
   "outputs": [],
   "source": [
    "import re\n",
    "re.findall(\"(\\d+)\", \"Specificity Sensitivity MSA 63% 90% RBF-single 66% 2.7% 84% ±2.0% MLP-single 61% ±0.0% 91% ±0.2%\")"
   ]
  },
  {
   "cell_type": "code",
   "execution_count": null,
   "id": "a466c026",
   "metadata": {},
   "outputs": [],
   "source": [
    "\"Hello\\nthis\\nis\\na test\".split(\"\\n\")"
   ]
  },
  {
   "cell_type": "code",
   "execution_count": null,
   "id": "80d45ae4",
   "metadata": {},
   "outputs": [],
   "source": [
    "grobid_pipeline.add_processor(Processors.SplitByLinePreProcessor())"
   ]
  },
  {
   "cell_type": "code",
   "execution_count": null,
   "id": "faa68176",
   "metadata": {},
   "outputs": [],
   "source": [
    "print(grobid_pipeline)"
   ]
  },
  {
   "cell_type": "code",
   "execution_count": null,
   "id": "c3ab8dd7",
   "metadata": {},
   "outputs": [],
   "source": [
    "p = Processors.SplitByLinePreProcessor()"
   ]
  },
  {
   "cell_type": "code",
   "execution_count": null,
   "id": "4621593c",
   "metadata": {},
   "outputs": [],
   "source": [
    "grobid_adapter.reset()\n",
    "docs = grobid_adapter.generate_documents(10)"
   ]
  },
  {
   "cell_type": "code",
   "execution_count": null,
   "id": "647b1899",
   "metadata": {},
   "outputs": [],
   "source": [
    "docs_split =  Processors.SplitByLinePreProcessor().process(docs)"
   ]
  },
  {
   "cell_type": "code",
   "execution_count": null,
   "id": "2fa49201",
   "metadata": {},
   "outputs": [],
   "source": [
    "docs_split"
   ]
  },
  {
   "cell_type": "code",
   "execution_count": null,
   "id": "4ad2a6e9",
   "metadata": {},
   "outputs": [],
   "source": [
    "docs_discarded = Processors.DiscardLineProcessor(0.5).process(docs)"
   ]
  },
  {
   "cell_type": "code",
   "execution_count": null,
   "id": "f4bb14d1",
   "metadata": {},
   "outputs": [],
   "source": [
    "import enchant"
   ]
  },
  {
   "cell_type": "code",
   "execution_count": null,
   "id": "4b826198",
   "metadata": {},
   "outputs": [],
   "source": [
    "words = word_tokenize(docs[0]['text'])"
   ]
  },
  {
   "cell_type": "code",
   "execution_count": null,
   "id": "9107bfe6",
   "metadata": {},
   "outputs": [],
   "source": [
    "words"
   ]
  },
  {
   "cell_type": "code",
   "execution_count": null,
   "id": "e25189f0",
   "metadata": {},
   "outputs": [],
   "source": [
    "num_non = 0\n",
    "for word in words:\n",
    "    if not word.isalpha():\n",
    "        num_non += 1"
   ]
  },
  {
   "cell_type": "code",
   "execution_count": null,
   "id": "9ed9c0c1",
   "metadata": {},
   "outputs": [],
   "source": []
  },
  {
   "cell_type": "code",
   "execution_count": null,
   "id": "9152ff5d",
   "metadata": {},
   "outputs": [],
   "source": [
    "docs"
   ]
  },
  {
   "cell_type": "code",
   "execution_count": null,
   "id": "478f59ae",
   "metadata": {},
   "outputs": [],
   "source": [
    "docs_discarded"
   ]
  },
  {
   "cell_type": "code",
   "execution_count": null,
   "id": "99de1bf6",
   "metadata": {},
   "outputs": [],
   "source": [
    "\"a\".isalpha()"
   ]
  },
  {
   "cell_type": "code",
   "execution_count": null,
   "id": "669f846d",
   "metadata": {},
   "outputs": [],
   "source": [
    "len(e_adapt)"
   ]
  },
  {
   "cell_type": "code",
   "execution_count": null,
   "id": "02478141",
   "metadata": {},
   "outputs": [],
   "source": [
    "e_adapt.generate_documents(10)"
   ]
  },
  {
   "cell_type": "code",
   "execution_count": 3,
   "id": "ea5d41d0",
   "metadata": {},
   "outputs": [],
   "source": [
    "filters = {'arixive-id':[\"1805.03106\"]}"
   ]
  },
  {
   "cell_type": "code",
   "execution_count": 4,
   "id": "9f8e5b66",
   "metadata": {},
   "outputs": [
    {
     "name": "stderr",
     "output_type": "stream",
     "text": [
      "06/24/2021 15:25:43 - INFO - elasticsearch -   POST http://aifb-ls3-vm1.aifb.kit.edu:9200/document/_count [status:200 request:0.025s]\n"
     ]
    }
   ],
   "source": [
    "e_adapt = Adapters.ElasticsearchAdapter(document_store, batch_size=10, filters=filters)"
   ]
  },
  {
   "cell_type": "code",
   "execution_count": 7,
   "id": "df409cfa",
   "metadata": {},
   "outputs": [],
   "source": [
    "test_pipeline = Pipeline(e_adapt, batch_size=2, cpus=10, max_runtime=1)"
   ]
  },
  {
   "cell_type": "code",
   "execution_count": 8,
   "id": "d14dab1a",
   "metadata": {},
   "outputs": [],
   "source": [
    "test_pipeline.add_processor(Processors.MetadataFieldAdder(\"status\", 0))"
   ]
  },
  {
   "cell_type": "code",
   "execution_count": 9,
   "id": "cee72faa",
   "metadata": {},
   "outputs": [],
   "source": [
    "test_pipeline.add_sink(Sinks.ElasticsearchSink(document_store))"
   ]
  },
  {
   "cell_type": "code",
   "execution_count": 10,
   "id": "e5f3ad45",
   "metadata": {},
   "outputs": [
    {
     "name": "stdout",
     "output_type": "stream",
     "text": [
      "(ElasticsearchAdapter) ---> *MetadataFieldAdder*\n",
      "===> |_ElasticsearchSink_|\n"
     ]
    }
   ],
   "source": [
    "print(test_pipeline)"
   ]
  },
  {
   "cell_type": "code",
   "execution_count": 11,
   "id": "b6d72638",
   "metadata": {},
   "outputs": [
    {
     "name": "stderr",
     "output_type": "stream",
     "text": [
      "06/24/2021 15:26:28 - INFO - root -   Pipeline processing started. A total of 41 documents will be processed.\n"
     ]
    },
    {
     "name": "stdout",
     "output_type": "stream",
     "text": [
      "Processing batches (10 minibatches at once): [............................................................] 0/3 Processed documents: 0 Output Documents: 0\r"
     ]
    },
    {
     "name": "stderr",
     "output_type": "stream",
     "text": [
      "06/24/2021 15:26:28 - INFO - elasticsearch -   POST http://aifb-ls3-vm1.aifb.kit.edu:9200/document/_search?scroll=1d&size=10 [status:200 request:0.029s]\n",
      "06/24/2021 15:26:28 - INFO - elasticsearch -   POST http://aifb-ls3-vm1.aifb.kit.edu:9200/_search/scroll [status:200 request:0.026s]\n",
      "06/24/2021 15:26:29 - INFO - elasticsearch -   POST http://aifb-ls3-vm1.aifb.kit.edu:9200/_bulk?refresh=wait_for [status:200 request:1.028s]\n",
      "06/24/2021 15:26:30 - INFO - elasticsearch -   POST http://aifb-ls3-vm1.aifb.kit.edu:9200/_bulk?refresh=wait_for [status:200 request:1.026s]\n",
      "06/24/2021 15:26:31 - INFO - elasticsearch -   POST http://aifb-ls3-vm1.aifb.kit.edu:9200/_bulk?refresh=wait_for [status:200 request:1.015s]\n",
      "06/24/2021 15:26:32 - INFO - elasticsearch -   POST http://aifb-ls3-vm1.aifb.kit.edu:9200/_bulk?refresh=wait_for [status:200 request:1.013s]\n",
      "06/24/2021 15:26:33 - INFO - elasticsearch -   POST http://aifb-ls3-vm1.aifb.kit.edu:9200/_bulk?refresh=wait_for [status:200 request:1.012s]\n",
      "06/24/2021 15:26:34 - INFO - elasticsearch -   POST http://aifb-ls3-vm1.aifb.kit.edu:9200/_bulk?refresh=wait_for [status:200 request:1.010s]\n",
      "06/24/2021 15:26:35 - INFO - elasticsearch -   POST http://aifb-ls3-vm1.aifb.kit.edu:9200/_bulk?refresh=wait_for [status:200 request:1.012s]\n",
      "06/24/2021 15:26:36 - INFO - elasticsearch -   POST http://aifb-ls3-vm1.aifb.kit.edu:9200/_bulk?refresh=wait_for [status:200 request:1.018s]\n",
      "06/24/2021 15:26:37 - INFO - elasticsearch -   POST http://aifb-ls3-vm1.aifb.kit.edu:9200/_bulk?refresh=wait_for [status:200 request:1.011s]\n",
      "06/24/2021 15:26:38 - INFO - elasticsearch -   POST http://aifb-ls3-vm1.aifb.kit.edu:9200/_bulk?refresh=wait_for [status:200 request:1.010s]\n",
      "06/24/2021 15:26:38 - INFO - root -   Maximum processing time exceeded. Stopping the pipeline.\n"
     ]
    },
    {
     "name": "stdout",
     "output_type": "stream",
     "text": [
      "Processing batches (10 minibatches at once): [############################################################] 3/3 Processed documents: 20 Output Documents: 20\n",
      "Processing Done!\r"
     ]
    }
   ],
   "source": [
    "test_pipeline.process()"
   ]
  },
  {
   "cell_type": "code",
   "execution_count": null,
   "id": "05ee9e47",
   "metadata": {},
   "outputs": [],
   "source": [
    "e_adapt.reset()"
   ]
  },
  {
   "cell_type": "code",
   "execution_count": null,
   "id": "568ee52d",
   "metadata": {},
   "outputs": [],
   "source": [
    "e_adapt.generate_documents(1)"
   ]
  },
  {
   "cell_type": "code",
   "execution_count": null,
   "id": "e95c2a23",
   "metadata": {},
   "outputs": [],
   "source": [
    "import re\n",
    "any_filter = {'status':[\"0\"]}"
   ]
  },
  {
   "cell_type": "code",
   "execution_count": null,
   "id": "4dab0c00",
   "metadata": {},
   "outputs": [],
   "source": [
    "test_adapt = Adapters.ElasticsearchAdapter(document_store, batch_size=10, filters=any_filter)"
   ]
  },
  {
   "cell_type": "code",
   "execution_count": null,
   "id": "6fcb6a37",
   "metadata": {},
   "outputs": [],
   "source": [
    "test_adapt.generate_documents(1)"
   ]
  },
  {
   "cell_type": "code",
   "execution_count": null,
   "id": "d98b8eed",
   "metadata": {},
   "outputs": [],
   "source": []
  }
 ],
 "metadata": {
  "kernelspec": {
   "display_name": "Python 3",
   "language": "python",
   "name": "python3"
  },
  "language_info": {
   "codemirror_mode": {
    "name": "ipython",
    "version": 3
   },
   "file_extension": ".py",
   "mimetype": "text/x-python",
   "name": "python",
   "nbconvert_exporter": "python",
   "pygments_lexer": "ipython3",
   "version": "3.7.0"
  },
  "metadata": {
   "interpreter": {
    "hash": "9724a32bba03b95bce415ce298364082743d44944163c5d480a53c14fdd5bb34"
   }
  }
 },
 "nbformat": 4,
 "nbformat_minor": 5
}
