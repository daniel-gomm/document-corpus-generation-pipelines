{
 "cells": [
  {
   "cell_type": "code",
   "execution_count": 1,
   "id": "36172b7a",
   "metadata": {},
   "outputs": [
    {
     "name": "stderr",
     "output_type": "stream",
     "text": [
      "/home/daniel/anaconda3/envs/KD/lib/python3.8/site-packages/torch/cuda/__init__.py:52: UserWarning: CUDA initialization: Found no NVIDIA driver on your system. Please check that you have an NVIDIA GPU and installed a driver from http://www.nvidia.com/Download/index.aspx (Triggered internally at  /pytorch/c10/cuda/CUDAFunctions.cpp:100.)\n",
      "  return torch._C._cuda_getDeviceCount() > 0\n",
      "[nltk_data] Downloading package punkt to /home/daniel/nltk_data...\n",
      "[nltk_data]   Package punkt is already up-to-date!\n",
      "Some weights of the model checkpoint at bert-base-uncased were not used when initializing BertForSequenceClassification: ['cls.predictions.bias', 'cls.predictions.transform.dense.weight', 'cls.predictions.transform.dense.bias', 'cls.predictions.decoder.weight', 'cls.seq_relationship.weight', 'cls.seq_relationship.bias', 'cls.predictions.transform.LayerNorm.weight', 'cls.predictions.transform.LayerNorm.bias']\n",
      "- This IS expected if you are initializing BertForSequenceClassification from the checkpoint of a model trained on another task or with another architecture (e.g. initializing a BertForSequenceClassification model from a BertForPreTraining model).\n",
      "- This IS NOT expected if you are initializing BertForSequenceClassification from the checkpoint of a model that you expect to be exactly identical (initializing a BertForSequenceClassification model from a BertForSequenceClassification model).\n",
      "Some weights of BertForSequenceClassification were not initialized from the model checkpoint at bert-base-uncased and are newly initialized: ['classifier.weight', 'classifier.bias']\n",
      "You should probably TRAIN this model on a down-stream task to be able to use it for predictions and inference.\n"
     ]
    }
   ],
   "source": [
    "from Pipeline import Pipeline\n",
    "import Adapters\n",
    "import Processors\n",
    "import Sinks"
   ]
  },
  {
   "cell_type": "code",
   "execution_count": 2,
   "id": "257f55d6",
   "metadata": {},
   "outputs": [],
   "source": [
    "from haystack.document_store.elasticsearch import ElasticsearchDocumentStore\n",
    "document_store = ElasticsearchDocumentStore(host=\"aifb-ls3-vm1.aifb.kit.edu\", username=\"\", password=\"\", index=\"document\")"
   ]
  },
  {
   "cell_type": "markdown",
   "id": "36cdbc0d",
   "metadata": {},
   "source": [
    "### Pipeline Definition"
   ]
  },
  {
   "cell_type": "code",
   "execution_count": 3,
   "id": "a94ba697",
   "metadata": {},
   "outputs": [],
   "source": [
    "adapter = Adapters.UnarxiveAdapter(\"/home/daniel/storage/KD/samples\")\n",
    "pipeline = Pipeline(adapter, batch_size=100, cpus=10)"
   ]
  },
  {
   "cell_type": "code",
   "execution_count": 4,
   "id": "43357c3f",
   "metadata": {},
   "outputs": [],
   "source": [
    "#MetadataArxiveEnricher\n",
    "from arxive_metadata.rocksDB import RocksDBAdapter\n",
    "db = RocksDBAdapter(\"arXive_metadata\", \"http://localhost:8089\")\n",
    "pipeline.add_processor(Processors.MetadataArxiveEnricher(\"arixive-id\",db))"
   ]
  },
  {
   "cell_type": "code",
   "execution_count": 5,
   "id": "d2c59acf",
   "metadata": {},
   "outputs": [],
   "source": [
    "#FilterOnMetadataValue\n",
    "cs_values = [\"cs.AI\", \"cs.AR\", \"cs.CC\", \"cs.CE\", \"cs.CG\", \"cs.CL\", \"cs.CR\",\"cs.CV\",\"cs.CY\",\"cs.DB\",\"cs.DC\",\"cs.DL\",\"cs.DM\",\"cs.DS\",\"cs.ET\",\"cs.FL\",\"cs.GL\",\"cs.GR\", \"cs.GT\",\"cs.HC\",\"cs.IR\",\"cs.LG\",\"cs.LO\",\"cs.MA\",\"cs.MM\",\"cs.MS\",\"cs.NA\",\"cs.NE\",\"cs.NI\",\"cs.OH\",\"cs.OS\",\"cs.PF\",\"cs.PL\",\"cs.RO\",\"cs.SC\",\"cs.SD\",\"cs.SE\",\"cs.SI\",\"cs.SY\"]\n",
    "pipeline.add_processor(Processors.FilterOnMetadataValue(\"categories\", cs_values))"
   ]
  },
  {
   "cell_type": "code",
   "execution_count": 6,
   "id": "1fd0ea23",
   "metadata": {},
   "outputs": [],
   "source": [
    "#Clean up text\n",
    "#TextKeywordCut Introduction\n",
    "pipeline.add_processor(Processors.TextKeywordCut(\"Introduction\"))\n",
    "#TextKeywordCut Acknowledgements\n",
    "pipeline.add_processor(Processors.TextKeywordCut(\"Acknowledgments\", False))\n",
    "#TextAppendMetadataField\n",
    "pipeline.add_processor(Processors.TextAppendMetadataField(\"abstract\", True))"
   ]
  },
  {
   "cell_type": "code",
   "execution_count": 7,
   "id": "fc82fa00",
   "metadata": {},
   "outputs": [],
   "source": [
    "#MetadataFieldDiscarder\n",
    "fields_to_discard = [\"update_date\", \"authors\", \"abstract\", \"versions\", \"comments\", \"report-no\", \"license\", \"id\", \"categories\", \"submitter\", \"journal-ref\", \"authors_parsed\"]\n",
    "pipeline.add_processor(Processors.MetadataFieldDiscarder(fields_to_discard))"
   ]
  },
  {
   "cell_type": "code",
   "execution_count": 8,
   "id": "7b1ad489",
   "metadata": {},
   "outputs": [],
   "source": [
    "#MetadataMagArxiveLinker\n",
    "import pandas as pd\n",
    "df = pd.read_csv(\"../../data/unarxive_metadata/mag_id_2_arxiv_id.csv\", names=[\"mag_id\", \"idk\", \"url\", \"arxive_id\"])\n",
    "pipeline.add_processor(Processors.MetadataMagArxiveLinker(df, column_to_match=\"arxive_id\", column_to_add=\"mag_id\", field_to_match=\"arixive-id\"))\n",
    "del df"
   ]
  },
  {
   "cell_type": "code",
   "execution_count": 9,
   "id": "15c1c1aa",
   "metadata": {},
   "outputs": [],
   "source": [
    "#TextReplaceFilter\n",
    "pipeline.add_processor(Processors.TextReplaceFilter(r\"\\{{(.*?)\\}}\", \"\"))"
   ]
  },
  {
   "cell_type": "code",
   "execution_count": 10,
   "id": "28a1dbea",
   "metadata": {},
   "outputs": [],
   "source": [
    "#HaystackPreProcessor\n",
    "from haystack.preprocessor import PreProcessor\n",
    "pre_processor = PreProcessor(\n",
    "    clean_empty_lines=True,\n",
    "    clean_whitespace=True,\n",
    "    clean_header_footer=True,\n",
    "    split_by=\"word\",\n",
    "    split_length=200,\n",
    "    split_respect_sentence_boundary=False,\n",
    "    split_overlap=0)\n",
    "pipeline.add_processor(Processors.HaystackPreProcessor(pre_processor))"
   ]
  },
  {
   "cell_type": "code",
   "execution_count": 11,
   "id": "0411545c",
   "metadata": {},
   "outputs": [],
   "source": [
    "#TextfileSink\n",
    "pipeline.add_sink(Sinks.TextfileSink(\"/home/daniel/storage/KD/testoutput\", [\"arixive-id\", \"_split_id\"]))\n",
    "#pipeline.add_sink(Sinks.TextfileSink(\"/home/daniel/storage/KD/manual_classification_sample\", [\"arixive-id\"]))"
   ]
  },
  {
   "cell_type": "code",
   "execution_count": null,
   "id": "f512b1aa",
   "metadata": {},
   "outputs": [],
   "source": [
    "#ElasticsearchSink\n",
    "pipeline.add_sink(Sinks.ElasticsearchSink(document_store))"
   ]
  },
  {
   "cell_type": "code",
   "execution_count": null,
   "id": "d4733c5f",
   "metadata": {},
   "outputs": [],
   "source": [
    "#PrintSink\n",
    "pipeline.add_sink(Sinks.PrintSink())"
   ]
  },
  {
   "cell_type": "code",
   "execution_count": 14,
   "id": "8de02519",
   "metadata": {},
   "outputs": [
    {
     "name": "stdout",
     "output_type": "stream",
     "text": [
      "(UnarxiveAdapter) ---> *MetadataArxiveEnricher* ---> *FilterOnMetadataValue* ---> *TextKeywordCut* ---> *TextKeywordCut* ---> *TextAppendMetadataField* ---> *MetadataFieldDiscarder* ---> *MetadataMagArxiveLinker* ---> *TextReplaceFilter* ---> *HaystackPreProcessor*\n",
      "===> |_TextfileSink_|\n"
     ]
    }
   ],
   "source": [
    "print(pipeline)"
   ]
  },
  {
   "cell_type": "markdown",
   "id": "080341b4",
   "metadata": {},
   "source": [
    "### Use Pipeline to process documents"
   ]
  },
  {
   "cell_type": "code",
   "execution_count": 15,
   "id": "aff983d5",
   "metadata": {
    "tags": []
   },
   "outputs": [
    {
     "name": "stdout",
     "output_type": "stream",
     "text": [
      "Processing batches (10 minibatches at once): [############################################################] 21/21\n"
     ]
    }
   ],
   "source": [
    "pipeline.process()"
   ]
  },
  {
   "cell_type": "markdown",
   "id": "d5b96f5d",
   "metadata": {},
   "source": [
    "### Pipeline to update entries in Elasticsearch"
   ]
  },
  {
   "cell_type": "code",
   "execution_count": null,
   "id": "c4c7dcc2",
   "metadata": {},
   "outputs": [],
   "source": [
    "e_adapt = Adapters.ElasticsearchAdapter(document_store, batch_size=10)"
   ]
  },
  {
   "cell_type": "code",
   "execution_count": null,
   "id": "d9ca0044",
   "metadata": {},
   "outputs": [],
   "source": [
    "update_pipeline = Pipeline(e_adapt, batch_size=20)"
   ]
  },
  {
   "cell_type": "code",
   "execution_count": null,
   "id": "64cf1525",
   "metadata": {},
   "outputs": [],
   "source": [
    "#ElasticsearchSink (put items back into Elasticsearch)\n",
    "update_document_store = ElasticsearchDocumentStore(update_existing_documents=True, host=\"localhost\", username=\"\", password=\"\", index=\"document\")\n",
    "update_pipeline.add_sink(Sinks.ElasticsearchSink(update_document_store))"
   ]
  },
  {
   "cell_type": "code",
   "execution_count": null,
   "id": "4a8248ac",
   "metadata": {},
   "outputs": [],
   "source": [
    "print(update_pipeline)"
   ]
  },
  {
   "cell_type": "code",
   "execution_count": null,
   "id": "f5887250",
   "metadata": {},
   "outputs": [],
   "source": [
    "update_pipeline.process()"
   ]
  },
  {
   "cell_type": "code",
   "execution_count": null,
   "id": "72db953d",
   "metadata": {},
   "outputs": [],
   "source": [
    "len(adapter)"
   ]
  },
  {
   "cell_type": "code",
   "execution_count": null,
   "id": "2c47b904",
   "metadata": {},
   "outputs": [],
   "source": []
  },
  {
   "cell_type": "code",
   "execution_count": null,
   "id": "a710e055",
   "metadata": {},
   "outputs": [],
   "source": [
    "#IMRaD classification\n",
    "from imrad_classification import BERTClassificationHandler\n",
    "classification_handler = BERTClassificationHandler(\"/home/daniel/BERT_copy.model\")\n",
    "pipeline.add_processor(Processors.IMRaDClassification(classification_handler))"
   ]
  }
 ],
 "metadata": {
  "kernelspec": {
   "display_name": "Python 3.8.8 64-bit ('KD': conda)",
   "language": "python",
   "name": "python388jvsc74a57bd09724a32bba03b95bce415ce298364082743d44944163c5d480a53c14fdd5bb34"
  },
  "language_info": {
   "codemirror_mode": {
    "name": "ipython",
    "version": 3
   },
   "file_extension": ".py",
   "mimetype": "text/x-python",
   "name": "python",
   "nbconvert_exporter": "python",
   "pygments_lexer": "ipython3",
   "version": "3.8.8"
  },
  "metadata": {
   "interpreter": {
    "hash": "9724a32bba03b95bce415ce298364082743d44944163c5d480a53c14fdd5bb34"
   }
  }
 },
 "nbformat": 4,
 "nbformat_minor": 5
}
