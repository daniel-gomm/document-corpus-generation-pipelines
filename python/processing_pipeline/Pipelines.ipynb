{
 "cells": [
  {
   "cell_type": "code",
   "execution_count": 1,
   "id": "36172b7a",
   "metadata": {},
   "outputs": [
    {
     "name": "stderr",
     "output_type": "stream",
     "text": [
      "/home/daniel/anaconda3/envs/KD/lib/python3.7/site-packages/torch/cuda/__init__.py:52: UserWarning: CUDA initialization: Found no NVIDIA driver on your system. Please check that you have an NVIDIA GPU and installed a driver from http://www.nvidia.com/Download/index.aspx (Triggered internally at  /pytorch/c10/cuda/CUDAFunctions.cpp:100.)\n",
      "  return torch._C._cuda_getDeviceCount() > 0\n",
      "06/22/2021 18:37:23 - INFO - farm.modeling.prediction_head -   Better speed can be achieved with apex installed from https://www.github.com/nvidia/apex .\n",
      "[nltk_data] Downloading package punkt to /home/daniel/nltk_data...\n",
      "[nltk_data]   Package punkt is already up-to-date!\n"
     ]
    }
   ],
   "source": [
    "from Pipeline import Pipeline\n",
    "import Adapters\n",
    "import Processors\n",
    "import Sinks\n",
    "import pandas as pd\n",
    "import json"
   ]
  },
  {
   "cell_type": "code",
   "execution_count": 2,
   "id": "257f55d6",
   "metadata": {},
   "outputs": [
    {
     "name": "stderr",
     "output_type": "stream",
     "text": [
      "06/22/2021 18:37:54 - INFO - elasticsearch -   HEAD http://aifb-ls3-vm1.aifb.kit.edu:9200/ [status:200 request:0.057s]\n",
      "06/22/2021 18:37:54 - INFO - elasticsearch -   HEAD http://aifb-ls3-vm1.aifb.kit.edu:9200/document [status:200 request:0.021s]\n",
      "06/22/2021 18:37:55 - INFO - elasticsearch -   GET http://aifb-ls3-vm1.aifb.kit.edu:9200/document [status:200 request:0.021s]\n",
      "06/22/2021 18:37:55 - INFO - elasticsearch -   PUT http://aifb-ls3-vm1.aifb.kit.edu:9200/document/_mapping [status:200 request:0.029s]\n",
      "06/22/2021 18:37:55 - INFO - elasticsearch -   HEAD http://aifb-ls3-vm1.aifb.kit.edu:9200/label [status:200 request:0.020s]\n"
     ]
    }
   ],
   "source": [
    "from haystack.document_store.elasticsearch import ElasticsearchDocumentStore\n",
    "document_store = ElasticsearchDocumentStore(host=\"aifb-ls3-vm1.aifb.kit.edu\", username=\"\", password=\"\", index=\"document\")"
   ]
  },
  {
   "cell_type": "markdown",
   "id": "36cdbc0d",
   "metadata": {},
   "source": [
    "### Pipeline Definition"
   ]
  },
  {
   "cell_type": "code",
   "execution_count": 7,
   "id": "a94ba697",
   "metadata": {},
   "outputs": [],
   "source": [
    "adapter = Adapters.UnarxiveAdapter(\"/home/daniel/KIT/KD/sample_small\")\n",
    "pipeline = Pipeline(adapter, batch_size=5, cpus=10)"
   ]
  },
  {
   "cell_type": "code",
   "execution_count": 8,
   "id": "43357c3f",
   "metadata": {},
   "outputs": [
    {
     "ename": "ConnectionError",
     "evalue": "HTTPConnectionPool(host='localhost', port=8089): Max retries exceeded with url: /single/arXive_metadata (Caused by NewConnectionError('<urllib3.connection.HTTPConnection object at 0x7f3cb788f550>: Failed to establish a new connection: [Errno 111] Connection refused'))",
     "output_type": "error",
     "traceback": [
      "\u001b[0;31m---------------------------------------------------------------------------\u001b[0m",
      "\u001b[0;31mConnectionRefusedError\u001b[0m                    Traceback (most recent call last)",
      "\u001b[0;32m~/anaconda3/envs/KD/lib/python3.7/site-packages/urllib3/connection.py\u001b[0m in \u001b[0;36m_new_conn\u001b[0;34m(self)\u001b[0m\n\u001b[1;32m    156\u001b[0m             conn = connection.create_connection(\n\u001b[0;32m--> 157\u001b[0;31m                 \u001b[0;34m(\u001b[0m\u001b[0mself\u001b[0m\u001b[0;34m.\u001b[0m\u001b[0m_dns_host\u001b[0m\u001b[0;34m,\u001b[0m \u001b[0mself\u001b[0m\u001b[0;34m.\u001b[0m\u001b[0mport\u001b[0m\u001b[0;34m)\u001b[0m\u001b[0;34m,\u001b[0m \u001b[0mself\u001b[0m\u001b[0;34m.\u001b[0m\u001b[0mtimeout\u001b[0m\u001b[0;34m,\u001b[0m \u001b[0;34m**\u001b[0m\u001b[0mextra_kw\u001b[0m\u001b[0;34m\u001b[0m\u001b[0m\n\u001b[0m\u001b[1;32m    158\u001b[0m             )\n",
      "\u001b[0;32m~/anaconda3/envs/KD/lib/python3.7/site-packages/urllib3/util/connection.py\u001b[0m in \u001b[0;36mcreate_connection\u001b[0;34m(address, timeout, source_address, socket_options)\u001b[0m\n\u001b[1;32m     83\u001b[0m     \u001b[0;32mif\u001b[0m \u001b[0merr\u001b[0m \u001b[0;32mis\u001b[0m \u001b[0;32mnot\u001b[0m \u001b[0;32mNone\u001b[0m\u001b[0;34m:\u001b[0m\u001b[0;34m\u001b[0m\u001b[0m\n\u001b[0;32m---> 84\u001b[0;31m         \u001b[0;32mraise\u001b[0m \u001b[0merr\u001b[0m\u001b[0;34m\u001b[0m\u001b[0m\n\u001b[0m\u001b[1;32m     85\u001b[0m \u001b[0;34m\u001b[0m\u001b[0m\n",
      "\u001b[0;32m~/anaconda3/envs/KD/lib/python3.7/site-packages/urllib3/util/connection.py\u001b[0m in \u001b[0;36mcreate_connection\u001b[0;34m(address, timeout, source_address, socket_options)\u001b[0m\n\u001b[1;32m     73\u001b[0m                 \u001b[0msock\u001b[0m\u001b[0;34m.\u001b[0m\u001b[0mbind\u001b[0m\u001b[0;34m(\u001b[0m\u001b[0msource_address\u001b[0m\u001b[0;34m)\u001b[0m\u001b[0;34m\u001b[0m\u001b[0m\n\u001b[0;32m---> 74\u001b[0;31m             \u001b[0msock\u001b[0m\u001b[0;34m.\u001b[0m\u001b[0mconnect\u001b[0m\u001b[0;34m(\u001b[0m\u001b[0msa\u001b[0m\u001b[0;34m)\u001b[0m\u001b[0;34m\u001b[0m\u001b[0m\n\u001b[0m\u001b[1;32m     75\u001b[0m             \u001b[0;32mreturn\u001b[0m \u001b[0msock\u001b[0m\u001b[0;34m\u001b[0m\u001b[0m\n",
      "\u001b[0;31mConnectionRefusedError\u001b[0m: [Errno 111] Connection refused",
      "\nDuring handling of the above exception, another exception occurred:\n",
      "\u001b[0;31mNewConnectionError\u001b[0m                        Traceback (most recent call last)",
      "\u001b[0;32m~/anaconda3/envs/KD/lib/python3.7/site-packages/urllib3/connectionpool.py\u001b[0m in \u001b[0;36murlopen\u001b[0;34m(self, method, url, body, headers, retries, redirect, assert_same_host, timeout, pool_timeout, release_conn, chunked, body_pos, **response_kw)\u001b[0m\n\u001b[1;32m    671\u001b[0m                 \u001b[0mheaders\u001b[0m\u001b[0;34m=\u001b[0m\u001b[0mheaders\u001b[0m\u001b[0;34m,\u001b[0m\u001b[0;34m\u001b[0m\u001b[0m\n\u001b[0;32m--> 672\u001b[0;31m                 \u001b[0mchunked\u001b[0m\u001b[0;34m=\u001b[0m\u001b[0mchunked\u001b[0m\u001b[0;34m,\u001b[0m\u001b[0;34m\u001b[0m\u001b[0m\n\u001b[0m\u001b[1;32m    673\u001b[0m             )\n",
      "\u001b[0;32m~/anaconda3/envs/KD/lib/python3.7/site-packages/urllib3/connectionpool.py\u001b[0m in \u001b[0;36m_make_request\u001b[0;34m(self, conn, method, url, timeout, chunked, **httplib_request_kw)\u001b[0m\n\u001b[1;32m    386\u001b[0m         \u001b[0;32melse\u001b[0m\u001b[0;34m:\u001b[0m\u001b[0;34m\u001b[0m\u001b[0m\n\u001b[0;32m--> 387\u001b[0;31m             \u001b[0mconn\u001b[0m\u001b[0;34m.\u001b[0m\u001b[0mrequest\u001b[0m\u001b[0;34m(\u001b[0m\u001b[0mmethod\u001b[0m\u001b[0;34m,\u001b[0m \u001b[0murl\u001b[0m\u001b[0;34m,\u001b[0m \u001b[0;34m**\u001b[0m\u001b[0mhttplib_request_kw\u001b[0m\u001b[0;34m)\u001b[0m\u001b[0;34m\u001b[0m\u001b[0m\n\u001b[0m\u001b[1;32m    388\u001b[0m \u001b[0;34m\u001b[0m\u001b[0m\n",
      "\u001b[0;32m~/anaconda3/envs/KD/lib/python3.7/http/client.py\u001b[0m in \u001b[0;36mrequest\u001b[0;34m(self, method, url, body, headers, encode_chunked)\u001b[0m\n\u001b[1;32m   1228\u001b[0m         \u001b[0;34m\"\"\"Send a complete request to the server.\"\"\"\u001b[0m\u001b[0;34m\u001b[0m\u001b[0m\n\u001b[0;32m-> 1229\u001b[0;31m         \u001b[0mself\u001b[0m\u001b[0;34m.\u001b[0m\u001b[0m_send_request\u001b[0m\u001b[0;34m(\u001b[0m\u001b[0mmethod\u001b[0m\u001b[0;34m,\u001b[0m \u001b[0murl\u001b[0m\u001b[0;34m,\u001b[0m \u001b[0mbody\u001b[0m\u001b[0;34m,\u001b[0m \u001b[0mheaders\u001b[0m\u001b[0;34m,\u001b[0m \u001b[0mencode_chunked\u001b[0m\u001b[0;34m)\u001b[0m\u001b[0;34m\u001b[0m\u001b[0m\n\u001b[0m\u001b[1;32m   1230\u001b[0m \u001b[0;34m\u001b[0m\u001b[0m\n",
      "\u001b[0;32m~/anaconda3/envs/KD/lib/python3.7/http/client.py\u001b[0m in \u001b[0;36m_send_request\u001b[0;34m(self, method, url, body, headers, encode_chunked)\u001b[0m\n\u001b[1;32m   1274\u001b[0m             \u001b[0mbody\u001b[0m \u001b[0;34m=\u001b[0m \u001b[0m_encode\u001b[0m\u001b[0;34m(\u001b[0m\u001b[0mbody\u001b[0m\u001b[0;34m,\u001b[0m \u001b[0;34m'body'\u001b[0m\u001b[0;34m)\u001b[0m\u001b[0;34m\u001b[0m\u001b[0m\n\u001b[0;32m-> 1275\u001b[0;31m         \u001b[0mself\u001b[0m\u001b[0;34m.\u001b[0m\u001b[0mendheaders\u001b[0m\u001b[0;34m(\u001b[0m\u001b[0mbody\u001b[0m\u001b[0;34m,\u001b[0m \u001b[0mencode_chunked\u001b[0m\u001b[0;34m=\u001b[0m\u001b[0mencode_chunked\u001b[0m\u001b[0;34m)\u001b[0m\u001b[0;34m\u001b[0m\u001b[0m\n\u001b[0m\u001b[1;32m   1276\u001b[0m \u001b[0;34m\u001b[0m\u001b[0m\n",
      "\u001b[0;32m~/anaconda3/envs/KD/lib/python3.7/http/client.py\u001b[0m in \u001b[0;36mendheaders\u001b[0;34m(self, message_body, encode_chunked)\u001b[0m\n\u001b[1;32m   1223\u001b[0m             \u001b[0;32mraise\u001b[0m \u001b[0mCannotSendHeader\u001b[0m\u001b[0;34m(\u001b[0m\u001b[0;34m)\u001b[0m\u001b[0;34m\u001b[0m\u001b[0m\n\u001b[0;32m-> 1224\u001b[0;31m         \u001b[0mself\u001b[0m\u001b[0;34m.\u001b[0m\u001b[0m_send_output\u001b[0m\u001b[0;34m(\u001b[0m\u001b[0mmessage_body\u001b[0m\u001b[0;34m,\u001b[0m \u001b[0mencode_chunked\u001b[0m\u001b[0;34m=\u001b[0m\u001b[0mencode_chunked\u001b[0m\u001b[0;34m)\u001b[0m\u001b[0;34m\u001b[0m\u001b[0m\n\u001b[0m\u001b[1;32m   1225\u001b[0m \u001b[0;34m\u001b[0m\u001b[0m\n",
      "\u001b[0;32m~/anaconda3/envs/KD/lib/python3.7/http/client.py\u001b[0m in \u001b[0;36m_send_output\u001b[0;34m(self, message_body, encode_chunked)\u001b[0m\n\u001b[1;32m   1015\u001b[0m         \u001b[0;32mdel\u001b[0m \u001b[0mself\u001b[0m\u001b[0;34m.\u001b[0m\u001b[0m_buffer\u001b[0m\u001b[0;34m[\u001b[0m\u001b[0;34m:\u001b[0m\u001b[0;34m]\u001b[0m\u001b[0;34m\u001b[0m\u001b[0m\n\u001b[0;32m-> 1016\u001b[0;31m         \u001b[0mself\u001b[0m\u001b[0;34m.\u001b[0m\u001b[0msend\u001b[0m\u001b[0;34m(\u001b[0m\u001b[0mmsg\u001b[0m\u001b[0;34m)\u001b[0m\u001b[0;34m\u001b[0m\u001b[0m\n\u001b[0m\u001b[1;32m   1017\u001b[0m \u001b[0;34m\u001b[0m\u001b[0m\n",
      "\u001b[0;32m~/anaconda3/envs/KD/lib/python3.7/http/client.py\u001b[0m in \u001b[0;36msend\u001b[0;34m(self, data)\u001b[0m\n\u001b[1;32m    955\u001b[0m             \u001b[0;32mif\u001b[0m \u001b[0mself\u001b[0m\u001b[0;34m.\u001b[0m\u001b[0mauto_open\u001b[0m\u001b[0;34m:\u001b[0m\u001b[0;34m\u001b[0m\u001b[0m\n\u001b[0;32m--> 956\u001b[0;31m                 \u001b[0mself\u001b[0m\u001b[0;34m.\u001b[0m\u001b[0mconnect\u001b[0m\u001b[0;34m(\u001b[0m\u001b[0;34m)\u001b[0m\u001b[0;34m\u001b[0m\u001b[0m\n\u001b[0m\u001b[1;32m    957\u001b[0m             \u001b[0;32melse\u001b[0m\u001b[0;34m:\u001b[0m\u001b[0;34m\u001b[0m\u001b[0m\n",
      "\u001b[0;32m~/anaconda3/envs/KD/lib/python3.7/site-packages/urllib3/connection.py\u001b[0m in \u001b[0;36mconnect\u001b[0;34m(self)\u001b[0m\n\u001b[1;32m    183\u001b[0m     \u001b[0;32mdef\u001b[0m \u001b[0mconnect\u001b[0m\u001b[0;34m(\u001b[0m\u001b[0mself\u001b[0m\u001b[0;34m)\u001b[0m\u001b[0;34m:\u001b[0m\u001b[0;34m\u001b[0m\u001b[0m\n\u001b[0;32m--> 184\u001b[0;31m         \u001b[0mconn\u001b[0m \u001b[0;34m=\u001b[0m \u001b[0mself\u001b[0m\u001b[0;34m.\u001b[0m\u001b[0m_new_conn\u001b[0m\u001b[0;34m(\u001b[0m\u001b[0;34m)\u001b[0m\u001b[0;34m\u001b[0m\u001b[0m\n\u001b[0m\u001b[1;32m    185\u001b[0m         \u001b[0mself\u001b[0m\u001b[0;34m.\u001b[0m\u001b[0m_prepare_conn\u001b[0m\u001b[0;34m(\u001b[0m\u001b[0mconn\u001b[0m\u001b[0;34m)\u001b[0m\u001b[0;34m\u001b[0m\u001b[0m\n",
      "\u001b[0;32m~/anaconda3/envs/KD/lib/python3.7/site-packages/urllib3/connection.py\u001b[0m in \u001b[0;36m_new_conn\u001b[0;34m(self)\u001b[0m\n\u001b[1;32m    168\u001b[0m             raise NewConnectionError(\n\u001b[0;32m--> 169\u001b[0;31m                 \u001b[0mself\u001b[0m\u001b[0;34m,\u001b[0m \u001b[0;34m\"Failed to establish a new connection: %s\"\u001b[0m \u001b[0;34m%\u001b[0m \u001b[0me\u001b[0m\u001b[0;34m\u001b[0m\u001b[0m\n\u001b[0m\u001b[1;32m    170\u001b[0m             )\n",
      "\u001b[0;31mNewConnectionError\u001b[0m: <urllib3.connection.HTTPConnection object at 0x7f3cb788f550>: Failed to establish a new connection: [Errno 111] Connection refused",
      "\nDuring handling of the above exception, another exception occurred:\n",
      "\u001b[0;31mMaxRetryError\u001b[0m                             Traceback (most recent call last)",
      "\u001b[0;32m~/anaconda3/envs/KD/lib/python3.7/site-packages/requests/adapters.py\u001b[0m in \u001b[0;36msend\u001b[0;34m(self, request, stream, timeout, verify, cert, proxies)\u001b[0m\n\u001b[1;32m    448\u001b[0m                     \u001b[0mretries\u001b[0m\u001b[0;34m=\u001b[0m\u001b[0mself\u001b[0m\u001b[0;34m.\u001b[0m\u001b[0mmax_retries\u001b[0m\u001b[0;34m,\u001b[0m\u001b[0;34m\u001b[0m\u001b[0m\n\u001b[0;32m--> 449\u001b[0;31m                     \u001b[0mtimeout\u001b[0m\u001b[0;34m=\u001b[0m\u001b[0mtimeout\u001b[0m\u001b[0;34m\u001b[0m\u001b[0m\n\u001b[0m\u001b[1;32m    450\u001b[0m                 )\n",
      "\u001b[0;32m~/anaconda3/envs/KD/lib/python3.7/site-packages/urllib3/connectionpool.py\u001b[0m in \u001b[0;36murlopen\u001b[0;34m(self, method, url, body, headers, retries, redirect, assert_same_host, timeout, pool_timeout, release_conn, chunked, body_pos, **response_kw)\u001b[0m\n\u001b[1;32m    719\u001b[0m             retries = retries.increment(\n\u001b[0;32m--> 720\u001b[0;31m                 \u001b[0mmethod\u001b[0m\u001b[0;34m,\u001b[0m \u001b[0murl\u001b[0m\u001b[0;34m,\u001b[0m \u001b[0merror\u001b[0m\u001b[0;34m=\u001b[0m\u001b[0me\u001b[0m\u001b[0;34m,\u001b[0m \u001b[0m_pool\u001b[0m\u001b[0;34m=\u001b[0m\u001b[0mself\u001b[0m\u001b[0;34m,\u001b[0m \u001b[0m_stacktrace\u001b[0m\u001b[0;34m=\u001b[0m\u001b[0msys\u001b[0m\u001b[0;34m.\u001b[0m\u001b[0mexc_info\u001b[0m\u001b[0;34m(\u001b[0m\u001b[0;34m)\u001b[0m\u001b[0;34m[\u001b[0m\u001b[0;36m2\u001b[0m\u001b[0;34m]\u001b[0m\u001b[0;34m\u001b[0m\u001b[0m\n\u001b[0m\u001b[1;32m    721\u001b[0m             )\n",
      "\u001b[0;32m~/anaconda3/envs/KD/lib/python3.7/site-packages/urllib3/util/retry.py\u001b[0m in \u001b[0;36mincrement\u001b[0;34m(self, method, url, response, error, _pool, _stacktrace)\u001b[0m\n\u001b[1;32m    435\u001b[0m         \u001b[0;32mif\u001b[0m \u001b[0mnew_retry\u001b[0m\u001b[0;34m.\u001b[0m\u001b[0mis_exhausted\u001b[0m\u001b[0;34m(\u001b[0m\u001b[0;34m)\u001b[0m\u001b[0;34m:\u001b[0m\u001b[0;34m\u001b[0m\u001b[0m\n\u001b[0;32m--> 436\u001b[0;31m             \u001b[0;32mraise\u001b[0m \u001b[0mMaxRetryError\u001b[0m\u001b[0;34m(\u001b[0m\u001b[0m_pool\u001b[0m\u001b[0;34m,\u001b[0m \u001b[0murl\u001b[0m\u001b[0;34m,\u001b[0m \u001b[0merror\u001b[0m \u001b[0;32mor\u001b[0m \u001b[0mResponseError\u001b[0m\u001b[0;34m(\u001b[0m\u001b[0mcause\u001b[0m\u001b[0;34m)\u001b[0m\u001b[0;34m)\u001b[0m\u001b[0;34m\u001b[0m\u001b[0m\n\u001b[0m\u001b[1;32m    437\u001b[0m \u001b[0;34m\u001b[0m\u001b[0m\n",
      "\u001b[0;31mMaxRetryError\u001b[0m: HTTPConnectionPool(host='localhost', port=8089): Max retries exceeded with url: /single/arXive_metadata (Caused by NewConnectionError('<urllib3.connection.HTTPConnection object at 0x7f3cb788f550>: Failed to establish a new connection: [Errno 111] Connection refused'))",
      "\nDuring handling of the above exception, another exception occurred:\n",
      "\u001b[0;31mConnectionError\u001b[0m                           Traceback (most recent call last)",
      "\u001b[0;32m<ipython-input-8-b37d3602602c>\u001b[0m in \u001b[0;36m<module>\u001b[0;34m\u001b[0m\n\u001b[1;32m      1\u001b[0m \u001b[0;31m#MetadataArxiveEnricher\u001b[0m\u001b[0;34m\u001b[0m\u001b[0;34m\u001b[0m\u001b[0m\n\u001b[1;32m      2\u001b[0m \u001b[0;32mfrom\u001b[0m \u001b[0marxive_metadata\u001b[0m\u001b[0;34m.\u001b[0m\u001b[0mrocksDB\u001b[0m \u001b[0;32mimport\u001b[0m \u001b[0mRocksDBAdapter\u001b[0m\u001b[0;34m\u001b[0m\u001b[0m\n\u001b[0;32m----> 3\u001b[0;31m \u001b[0mdb\u001b[0m \u001b[0;34m=\u001b[0m \u001b[0mRocksDBAdapter\u001b[0m\u001b[0;34m(\u001b[0m\u001b[0;34m\"arXive_metadata\"\u001b[0m\u001b[0;34m,\u001b[0m \u001b[0;34m\"http://localhost:8089\"\u001b[0m\u001b[0;34m)\u001b[0m\u001b[0;34m\u001b[0m\u001b[0m\n\u001b[0m\u001b[1;32m      4\u001b[0m \u001b[0mpipeline\u001b[0m\u001b[0;34m.\u001b[0m\u001b[0madd_processor\u001b[0m\u001b[0;34m(\u001b[0m\u001b[0mProcessors\u001b[0m\u001b[0;34m.\u001b[0m\u001b[0mMetadataArxiveEnricher\u001b[0m\u001b[0;34m(\u001b[0m\u001b[0;34m\"arixive-id\"\u001b[0m\u001b[0;34m,\u001b[0m\u001b[0mdb\u001b[0m\u001b[0;34m)\u001b[0m\u001b[0;34m)\u001b[0m\u001b[0;34m\u001b[0m\u001b[0m\n",
      "\u001b[0;32m~/KIT/KD/kd-documents/python/processing_pipeline/arxive_metadata/rocksDB.py\u001b[0m in \u001b[0;36m__init__\u001b[0;34m(self, name, url)\u001b[0m\n\u001b[1;32m      8\u001b[0m         \u001b[0mself\u001b[0m\u001b[0;34m.\u001b[0m\u001b[0m_name\u001b[0m \u001b[0;34m=\u001b[0m \u001b[0mname\u001b[0m\u001b[0;34m\u001b[0m\u001b[0m\n\u001b[1;32m      9\u001b[0m         \u001b[0mself\u001b[0m\u001b[0;34m.\u001b[0m\u001b[0m_url\u001b[0m \u001b[0;34m=\u001b[0m \u001b[0murl\u001b[0m\u001b[0;34m\u001b[0m\u001b[0m\n\u001b[0;32m---> 10\u001b[0;31m         \u001b[0mrequests\u001b[0m\u001b[0;34m.\u001b[0m\u001b[0mput\u001b[0m\u001b[0;34m(\u001b[0m\u001b[0;34m\"{}/single/{}\"\u001b[0m\u001b[0;34m.\u001b[0m\u001b[0mformat\u001b[0m\u001b[0;34m(\u001b[0m\u001b[0murl\u001b[0m\u001b[0;34m,\u001b[0m \u001b[0mself\u001b[0m\u001b[0;34m.\u001b[0m\u001b[0m_name\u001b[0m\u001b[0;34m)\u001b[0m\u001b[0;34m)\u001b[0m\u001b[0;34m\u001b[0m\u001b[0m\n\u001b[0m\u001b[1;32m     11\u001b[0m \u001b[0;34m\u001b[0m\u001b[0m\n\u001b[1;32m     12\u001b[0m     \u001b[0;32mdef\u001b[0m \u001b[0mput\u001b[0m\u001b[0;34m(\u001b[0m\u001b[0mself\u001b[0m\u001b[0;34m,\u001b[0m \u001b[0mkey\u001b[0m\u001b[0;34m,\u001b[0m \u001b[0mvalue\u001b[0m\u001b[0;34m)\u001b[0m\u001b[0;34m:\u001b[0m\u001b[0;34m\u001b[0m\u001b[0m\n",
      "\u001b[0;32m~/anaconda3/envs/KD/lib/python3.7/site-packages/requests/api.py\u001b[0m in \u001b[0;36mput\u001b[0;34m(url, data, **kwargs)\u001b[0m\n\u001b[1;32m    132\u001b[0m     \"\"\"\n\u001b[1;32m    133\u001b[0m \u001b[0;34m\u001b[0m\u001b[0m\n\u001b[0;32m--> 134\u001b[0;31m     \u001b[0;32mreturn\u001b[0m \u001b[0mrequest\u001b[0m\u001b[0;34m(\u001b[0m\u001b[0;34m'put'\u001b[0m\u001b[0;34m,\u001b[0m \u001b[0murl\u001b[0m\u001b[0;34m,\u001b[0m \u001b[0mdata\u001b[0m\u001b[0;34m=\u001b[0m\u001b[0mdata\u001b[0m\u001b[0;34m,\u001b[0m \u001b[0;34m**\u001b[0m\u001b[0mkwargs\u001b[0m\u001b[0;34m)\u001b[0m\u001b[0;34m\u001b[0m\u001b[0m\n\u001b[0m\u001b[1;32m    135\u001b[0m \u001b[0;34m\u001b[0m\u001b[0m\n\u001b[1;32m    136\u001b[0m \u001b[0;34m\u001b[0m\u001b[0m\n",
      "\u001b[0;32m~/anaconda3/envs/KD/lib/python3.7/site-packages/requests/api.py\u001b[0m in \u001b[0;36mrequest\u001b[0;34m(method, url, **kwargs)\u001b[0m\n\u001b[1;32m     59\u001b[0m     \u001b[0;31m# cases, and look like a memory leak in others.\u001b[0m\u001b[0;34m\u001b[0m\u001b[0;34m\u001b[0m\u001b[0m\n\u001b[1;32m     60\u001b[0m     \u001b[0;32mwith\u001b[0m \u001b[0msessions\u001b[0m\u001b[0;34m.\u001b[0m\u001b[0mSession\u001b[0m\u001b[0;34m(\u001b[0m\u001b[0;34m)\u001b[0m \u001b[0;32mas\u001b[0m \u001b[0msession\u001b[0m\u001b[0;34m:\u001b[0m\u001b[0;34m\u001b[0m\u001b[0m\n\u001b[0;32m---> 61\u001b[0;31m         \u001b[0;32mreturn\u001b[0m \u001b[0msession\u001b[0m\u001b[0;34m.\u001b[0m\u001b[0mrequest\u001b[0m\u001b[0;34m(\u001b[0m\u001b[0mmethod\u001b[0m\u001b[0;34m=\u001b[0m\u001b[0mmethod\u001b[0m\u001b[0;34m,\u001b[0m \u001b[0murl\u001b[0m\u001b[0;34m=\u001b[0m\u001b[0murl\u001b[0m\u001b[0;34m,\u001b[0m \u001b[0;34m**\u001b[0m\u001b[0mkwargs\u001b[0m\u001b[0;34m)\u001b[0m\u001b[0;34m\u001b[0m\u001b[0m\n\u001b[0m\u001b[1;32m     62\u001b[0m \u001b[0;34m\u001b[0m\u001b[0m\n\u001b[1;32m     63\u001b[0m \u001b[0;34m\u001b[0m\u001b[0m\n",
      "\u001b[0;32m~/anaconda3/envs/KD/lib/python3.7/site-packages/requests/sessions.py\u001b[0m in \u001b[0;36mrequest\u001b[0;34m(self, method, url, params, data, headers, cookies, files, auth, timeout, allow_redirects, proxies, hooks, stream, verify, cert, json)\u001b[0m\n\u001b[1;32m    540\u001b[0m         }\n\u001b[1;32m    541\u001b[0m         \u001b[0msend_kwargs\u001b[0m\u001b[0;34m.\u001b[0m\u001b[0mupdate\u001b[0m\u001b[0;34m(\u001b[0m\u001b[0msettings\u001b[0m\u001b[0;34m)\u001b[0m\u001b[0;34m\u001b[0m\u001b[0m\n\u001b[0;32m--> 542\u001b[0;31m         \u001b[0mresp\u001b[0m \u001b[0;34m=\u001b[0m \u001b[0mself\u001b[0m\u001b[0;34m.\u001b[0m\u001b[0msend\u001b[0m\u001b[0;34m(\u001b[0m\u001b[0mprep\u001b[0m\u001b[0;34m,\u001b[0m \u001b[0;34m**\u001b[0m\u001b[0msend_kwargs\u001b[0m\u001b[0;34m)\u001b[0m\u001b[0;34m\u001b[0m\u001b[0m\n\u001b[0m\u001b[1;32m    543\u001b[0m \u001b[0;34m\u001b[0m\u001b[0m\n\u001b[1;32m    544\u001b[0m         \u001b[0;32mreturn\u001b[0m \u001b[0mresp\u001b[0m\u001b[0;34m\u001b[0m\u001b[0m\n",
      "\u001b[0;32m~/anaconda3/envs/KD/lib/python3.7/site-packages/requests/sessions.py\u001b[0m in \u001b[0;36msend\u001b[0;34m(self, request, **kwargs)\u001b[0m\n\u001b[1;32m    653\u001b[0m \u001b[0;34m\u001b[0m\u001b[0m\n\u001b[1;32m    654\u001b[0m         \u001b[0;31m# Send the request\u001b[0m\u001b[0;34m\u001b[0m\u001b[0;34m\u001b[0m\u001b[0m\n\u001b[0;32m--> 655\u001b[0;31m         \u001b[0mr\u001b[0m \u001b[0;34m=\u001b[0m \u001b[0madapter\u001b[0m\u001b[0;34m.\u001b[0m\u001b[0msend\u001b[0m\u001b[0;34m(\u001b[0m\u001b[0mrequest\u001b[0m\u001b[0;34m,\u001b[0m \u001b[0;34m**\u001b[0m\u001b[0mkwargs\u001b[0m\u001b[0;34m)\u001b[0m\u001b[0;34m\u001b[0m\u001b[0m\n\u001b[0m\u001b[1;32m    656\u001b[0m \u001b[0;34m\u001b[0m\u001b[0m\n\u001b[1;32m    657\u001b[0m         \u001b[0;31m# Total elapsed time of the request (approximately)\u001b[0m\u001b[0;34m\u001b[0m\u001b[0;34m\u001b[0m\u001b[0m\n",
      "\u001b[0;32m~/anaconda3/envs/KD/lib/python3.7/site-packages/requests/adapters.py\u001b[0m in \u001b[0;36msend\u001b[0;34m(self, request, stream, timeout, verify, cert, proxies)\u001b[0m\n\u001b[1;32m    514\u001b[0m                 \u001b[0;32mraise\u001b[0m \u001b[0mSSLError\u001b[0m\u001b[0;34m(\u001b[0m\u001b[0me\u001b[0m\u001b[0;34m,\u001b[0m \u001b[0mrequest\u001b[0m\u001b[0;34m=\u001b[0m\u001b[0mrequest\u001b[0m\u001b[0;34m)\u001b[0m\u001b[0;34m\u001b[0m\u001b[0m\n\u001b[1;32m    515\u001b[0m \u001b[0;34m\u001b[0m\u001b[0m\n\u001b[0;32m--> 516\u001b[0;31m             \u001b[0;32mraise\u001b[0m \u001b[0mConnectionError\u001b[0m\u001b[0;34m(\u001b[0m\u001b[0me\u001b[0m\u001b[0;34m,\u001b[0m \u001b[0mrequest\u001b[0m\u001b[0;34m=\u001b[0m\u001b[0mrequest\u001b[0m\u001b[0;34m)\u001b[0m\u001b[0;34m\u001b[0m\u001b[0m\n\u001b[0m\u001b[1;32m    517\u001b[0m \u001b[0;34m\u001b[0m\u001b[0m\n\u001b[1;32m    518\u001b[0m         \u001b[0;32mexcept\u001b[0m \u001b[0mClosedPoolError\u001b[0m \u001b[0;32mas\u001b[0m \u001b[0me\u001b[0m\u001b[0;34m:\u001b[0m\u001b[0;34m\u001b[0m\u001b[0m\n",
      "\u001b[0;31mConnectionError\u001b[0m: HTTPConnectionPool(host='localhost', port=8089): Max retries exceeded with url: /single/arXive_metadata (Caused by NewConnectionError('<urllib3.connection.HTTPConnection object at 0x7f3cb788f550>: Failed to establish a new connection: [Errno 111] Connection refused'))"
     ]
    }
   ],
   "source": [
    "#MetadataArxiveEnricher\n",
    "from arxive_metadata.rocksDB import RocksDBAdapter\n",
    "db = RocksDBAdapter(\"arXive_metadata\", \"http://localhost:8089\")\n",
    "pipeline.add_processor(Processors.MetadataArxiveEnricher(\"arixive-id\",db))"
   ]
  },
  {
   "cell_type": "code",
   "execution_count": 10,
   "id": "d2c59acf",
   "metadata": {},
   "outputs": [],
   "source": [
    "#FilterOnMetadataValue\n",
    "cs_values = [\"cs.AI\", \"cs.AR\", \"cs.CC\", \"cs.CE\", \"cs.CG\", \"cs.CL\", \"cs.CR\",\"cs.CV\",\"cs.CY\",\"cs.DB\",\"cs.DC\",\"cs.DL\",\"cs.DM\",\"cs.DS\",\"cs.ET\",\"cs.FL\",\"cs.GL\",\"cs.GR\", \"cs.GT\",\"cs.HC\",\"cs.IR\",\"cs.LG\",\"cs.LO\",\"cs.MA\",\"cs.MM\",\"cs.MS\",\"cs.NA\",\"cs.NE\",\"cs.NI\",\"cs.OH\",\"cs.OS\",\"cs.PF\",\"cs.PL\",\"cs.RO\",\"cs.SC\",\"cs.SD\",\"cs.SE\",\"cs.SI\",\"cs.SY\"]\n",
    "pipeline.add_processor(Processors.FilterOnMetadataValue(\"categories\", cs_values))"
   ]
  },
  {
   "cell_type": "code",
   "execution_count": 11,
   "id": "1fd0ea23",
   "metadata": {},
   "outputs": [],
   "source": [
    "#Clean up text\n",
    "#TextKeywordCut Introduction\n",
    "pipeline.add_processor(Processors.TextKeywordCut(\"Introduction\"))\n",
    "#TextKeywordCut Acknowledgements\n",
    "pipeline.add_processor(Processors.TextKeywordCut(\"Acknowledgments\", False))\n",
    "#TextAppendMetadataField\n",
    "pipeline.add_processor(Processors.TextAppendMetadataField(\"abstract\", True))"
   ]
  },
  {
   "cell_type": "code",
   "execution_count": 12,
   "id": "fc82fa00",
   "metadata": {},
   "outputs": [],
   "source": [
    "#MetadataFieldDiscarder\n",
    "fields_to_discard = [\"update_date\", \"authors\", \"abstract\", \"versions\", \"comments\", \"report-no\", \"license\", \"id\", \"categories\", \"submitter\", \"journal-ref\", \"authors_parsed\"]\n",
    "pipeline.add_processor(Processors.MetadataFieldDiscarder(fields_to_discard))"
   ]
  },
  {
   "cell_type": "code",
   "execution_count": null,
   "id": "7b1ad489",
   "metadata": {},
   "outputs": [],
   "source": [
    "#MetadataMagArxiveLinker\n",
    "import pandas as pd\n",
    "df = pd.read_csv(\"../../data/unarxive_metadata/mag_id_2_arxiv_id.csv\", names=[\"mag_id\", \"idk\", \"url\", \"arxive_id\"])\n",
    "pipeline.add_processor(Processors.MetadataMagArxiveLinker(df, column_to_match=\"arxive_id\", column_to_add=\"mag_id\", field_to_match=\"arixive-id\"))\n",
    "del df"
   ]
  },
  {
   "cell_type": "code",
   "execution_count": null,
   "id": "15c1c1aa",
   "metadata": {},
   "outputs": [],
   "source": [
    "#TextReplaceFilter\n",
    "pipeline.add_processor(Processors.TextReplaceFilter(r\"\\{{(.*?)\\}}\", \"\"))"
   ]
  },
  {
   "cell_type": "code",
   "execution_count": null,
   "id": "28a1dbea",
   "metadata": {},
   "outputs": [],
   "source": [
    "#HaystackPreProcessor\n",
    "from haystack.preprocessor import PreProcessor\n",
    "pre_processor = PreProcessor(\n",
    "    clean_empty_lines=True,\n",
    "    clean_whitespace=True,\n",
    "    clean_header_footer=True,\n",
    "    split_by=\"word\",\n",
    "    split_length=100,\n",
    "    split_respect_sentence_boundary=True,\n",
    "    split_overlap=0)\n",
    "pipeline.add_processor(Processors.HaystackPreProcessor(pre_processor))"
   ]
  },
  {
   "cell_type": "code",
   "execution_count": null,
   "id": "0411545c",
   "metadata": {},
   "outputs": [],
   "source": [
    "#TextfileSink\n",
    "#pipeline.add_sink(Sinks.TextfileSink(\"/home/daniel/KIT/KD/testoutput\", [\"arixive-id\", \"_split_id\"]))\n",
    "pipeline.add_sink(Sinks.TextfileSink(\"/home/daniel/KIT/KD/testoutput\", [\"arixive-id\"]))"
   ]
  },
  {
   "cell_type": "code",
   "execution_count": 14,
   "id": "f512b1aa",
   "metadata": {},
   "outputs": [],
   "source": [
    "#ElasticsearchSink\n",
    "pipeline.add_sink(Sinks.ElasticsearchSink(document_store))"
   ]
  },
  {
   "cell_type": "code",
   "execution_count": null,
   "id": "d4733c5f",
   "metadata": {},
   "outputs": [],
   "source": [
    "#PrintSink\n",
    "pipeline.add_sink(Sinks.PrintSink())"
   ]
  },
  {
   "cell_type": "code",
   "execution_count": 15,
   "id": "8de02519",
   "metadata": {},
   "outputs": [
    {
     "name": "stdout",
     "output_type": "stream",
     "text": [
      "(UnarxiveAdapter) ---> *TextKeywordCut* ---> *TextKeywordCut* ---> *TextAppendMetadataField* ---> *FilterOnMetadataValue* ---> *TextKeywordCut* ---> *TextKeywordCut* ---> *TextAppendMetadataField* ---> *MetadataFieldDiscarder*\n",
      "===> |_ElasticsearchSink_|\n"
     ]
    }
   ],
   "source": [
    "print(pipeline)"
   ]
  },
  {
   "cell_type": "markdown",
   "id": "080341b4",
   "metadata": {},
   "source": [
    "### Use Pipeline to process documents"
   ]
  },
  {
   "cell_type": "code",
   "execution_count": null,
   "id": "aff983d5",
   "metadata": {
    "tags": []
   },
   "outputs": [],
   "source": [
    "pipeline.process()"
   ]
  },
  {
   "cell_type": "markdown",
   "id": "d5b96f5d",
   "metadata": {},
   "source": [
    "### Pipeline to update entries in Elasticsearch"
   ]
  },
  {
   "cell_type": "code",
   "execution_count": 3,
   "id": "c4c7dcc2",
   "metadata": {},
   "outputs": [
    {
     "name": "stderr",
     "output_type": "stream",
     "text": [
      "06/22/2021 18:38:37 - INFO - elasticsearch -   POST http://aifb-ls3-vm1.aifb.kit.edu:9200/document/_count [status:200 request:0.024s]\n"
     ]
    }
   ],
   "source": [
    "e_adapt = Adapters.ElasticsearchAdapter(document_store, batch_size=10)"
   ]
  },
  {
   "cell_type": "code",
   "execution_count": 6,
   "id": "d9ca0044",
   "metadata": {},
   "outputs": [],
   "source": [
    "update_pipeline = Pipeline(e_adapt, batch_size=20, cpus=10)"
   ]
  },
  {
   "cell_type": "code",
   "execution_count": null,
   "id": "64cf1525",
   "metadata": {},
   "outputs": [],
   "source": [
    "#ElasticsearchSink (put items back into Elasticsearch)\n",
    "update_document_store = ElasticsearchDocumentStore(update_existing_documents=True, host=\"localhost\", username=\"\", password=\"\", index=\"document\")\n",
    "update_pipeline.add_sink(Sinks.ElasticsearchSink(update_document_store))"
   ]
  },
  {
   "cell_type": "code",
   "execution_count": null,
   "id": "4a8248ac",
   "metadata": {},
   "outputs": [],
   "source": [
    "print(update_pipeline)"
   ]
  },
  {
   "cell_type": "code",
   "execution_count": null,
   "id": "f5887250",
   "metadata": {},
   "outputs": [],
   "source": [
    "update_pipeline.process()"
   ]
  },
  {
   "cell_type": "code",
   "execution_count": null,
   "id": "72db953d",
   "metadata": {},
   "outputs": [],
   "source": [
    "len(adapter)"
   ]
  },
  {
   "cell_type": "code",
   "execution_count": null,
   "id": "2c47b904",
   "metadata": {},
   "outputs": [],
   "source": [
    "len(e_adapt)"
   ]
  },
  {
   "cell_type": "code",
   "execution_count": null,
   "id": "a710e055",
   "metadata": {},
   "outputs": [],
   "source": [
    "#IMRaD classification\n",
    "from imrad_classification import BERTClassificationHandler\n",
    "classification_handler = BERTClassificationHandler(\"/home/daniel/BERT_copy.model\")\n",
    "pipeline.add_processor(Processors.IMRaDClassification(classification_handler))"
   ]
  },
  {
   "cell_type": "code",
   "execution_count": null,
   "id": "daba8812",
   "metadata": {},
   "outputs": [],
   "source": [
    "adapter = Adapters.UnarxiveAdapter(\"/home/daniel/KIT/KD/sample\")"
   ]
  },
  {
   "cell_type": "code",
   "execution_count": null,
   "id": "756d2eab",
   "metadata": {},
   "outputs": [],
   "source": [
    "docs = adapter.generate_documents(50)"
   ]
  },
  {
   "cell_type": "code",
   "execution_count": null,
   "id": "e0eace61",
   "metadata": {},
   "outputs": [],
   "source": [
    "type(docs[0])"
   ]
  },
  {
   "cell_type": "code",
   "execution_count": null,
   "id": "74cb7630",
   "metadata": {},
   "outputs": [],
   "source": [
    "algorithms = pd.read_json(\"../../preprocessing/wikidata/algorithms_preprocessed.json\")\n",
    "algs = {}\n",
    "for index, row in algorithms.iterrows():\n",
    "    algs[row['itemLabel']] = row['item']\n",
    "pipeline.add_processor(Processors.StringMatchingProcessor(datasets, 'methods', 'wikidata_id'))"
   ]
  },
  {
   "cell_type": "code",
   "execution_count": null,
   "id": "7d097497",
   "metadata": {},
   "outputs": [],
   "source": [
    "adapter = Adapters.GrobidAdapter(\"/home/daniel/KIT/KD/unpaywall-grobid-sample\")"
   ]
  },
  {
   "cell_type": "code",
   "execution_count": null,
   "id": "a50479e4",
   "metadata": {},
   "outputs": [],
   "source": [
    "adapter.generate_documents(5)"
   ]
  },
  {
   "cell_type": "markdown",
   "id": "2548d0e4",
   "metadata": {},
   "source": [
    "#### Grobid Testpipeline"
   ]
  },
  {
   "cell_type": "code",
   "execution_count": null,
   "id": "828d440d",
   "metadata": {},
   "outputs": [],
   "source": [
    "grobid_adapter = Adapters.GrobidAdapter(\"/home/daniel/KIT/KD/unpaywall-grobid-sample\")\n",
    "grobid_pipeline = Pipeline(grobid_adapter, batch_size=2, cpus=10)"
   ]
  },
  {
   "cell_type": "code",
   "execution_count": null,
   "id": "0e88d23d",
   "metadata": {},
   "outputs": [],
   "source": [
    "#HaystackPreProcessor\n",
    "from haystack.preprocessor import PreProcessor\n",
    "pre_processor = PreProcessor(\n",
    "    clean_empty_lines=True,\n",
    "    clean_whitespace=True,\n",
    "    clean_header_footer=True,\n",
    "    split_by=\"word\",\n",
    "    split_length=100,\n",
    "    split_respect_sentence_boundary=True,\n",
    "    split_overlap=0)\n",
    "grobid_pipeline.add_processor(Processors.HaystackPreProcessor(pre_processor))"
   ]
  },
  {
   "cell_type": "code",
   "execution_count": null,
   "id": "213585b6",
   "metadata": {},
   "outputs": [],
   "source": [
    "with open('../../data/pwc_metadata/datasets_preprocessed.json') as f:\n",
    "    datasets = json.load(f)\n",
    "grobid_pipeline.add_processor(Processors.StringMatchingProcessor(datasets, 'datasets', 'pwc_url'))"
   ]
  },
  {
   "cell_type": "code",
   "execution_count": null,
   "id": "92809615",
   "metadata": {},
   "outputs": [],
   "source": [
    "with open('../../data/pwc_metadata/methods_preprocessed.json') as f:\n",
    "    methods = json.load(f)\n",
    "grobid_pipeline.add_processor(Processors.StringMatchingProcessor(methods, 'methods', 'pwc_url'))"
   ]
  },
  {
   "cell_type": "code",
   "execution_count": null,
   "id": "2e721a61",
   "metadata": {},
   "outputs": [],
   "source": [
    "grobid_pipeline.add_sink(Sinks.TextfileSink(\"/home/daniel/KIT/KD/testoutput\", [\"mag_id\", \"_split_id\"]))"
   ]
  },
  {
   "cell_type": "code",
   "execution_count": null,
   "id": "8f2a1f81",
   "metadata": {},
   "outputs": [],
   "source": [
    "print(grobid_pipeline)"
   ]
  },
  {
   "cell_type": "code",
   "execution_count": null,
   "id": "08b79e4a",
   "metadata": {},
   "outputs": [],
   "source": [
    "grobid_pipeline.process()"
   ]
  },
  {
   "cell_type": "code",
   "execution_count": null,
   "id": "f4bd7795",
   "metadata": {},
   "outputs": [],
   "source": [
    "len(grobid_adapter)"
   ]
  },
  {
   "cell_type": "code",
   "execution_count": null,
   "id": "5b57f4be",
   "metadata": {},
   "outputs": [],
   "source": [
    "from nltk.tokenize import word_tokenize, sent_tokenize"
   ]
  },
  {
   "cell_type": "code",
   "execution_count": null,
   "id": "d15ccbaa",
   "metadata": {},
   "outputs": [],
   "source": [
    "words = word_tokenize(\"Specificity Sensitivity MSA 63% 90% RBF-single 66% 2.7% 84% ±2.0% MLP-single 61% ±0.0% 91% ±0.2%\")"
   ]
  },
  {
   "cell_type": "code",
   "execution_count": null,
   "id": "ede10c0f",
   "metadata": {},
   "outputs": [],
   "source": [
    "num = []\n",
    "for word in words:\n",
    "    if word.isnumeric() or word.isalnum():\n",
    "        num.append(word)"
   ]
  },
  {
   "cell_type": "code",
   "execution_count": null,
   "id": "185ebead",
   "metadata": {},
   "outputs": [],
   "source": [
    "import re\n",
    "re.findall(\"(\\d+)\", \"Specificity Sensitivity MSA 63% 90% RBF-single 66% 2.7% 84% ±2.0% MLP-single 61% ±0.0% 91% ±0.2%\")"
   ]
  },
  {
   "cell_type": "code",
   "execution_count": null,
   "id": "a466c026",
   "metadata": {},
   "outputs": [],
   "source": [
    "\"Hello\\nthis\\nis\\na test\".split(\"\\n\")"
   ]
  },
  {
   "cell_type": "code",
   "execution_count": null,
   "id": "80d45ae4",
   "metadata": {},
   "outputs": [],
   "source": [
    "grobid_pipeline.add_processor(Processors.SplitByLinePreProcessor())"
   ]
  },
  {
   "cell_type": "code",
   "execution_count": null,
   "id": "faa68176",
   "metadata": {},
   "outputs": [],
   "source": [
    "print(grobid_pipeline)"
   ]
  },
  {
   "cell_type": "code",
   "execution_count": null,
   "id": "c3ab8dd7",
   "metadata": {},
   "outputs": [],
   "source": [
    "p = Processors.SplitByLinePreProcessor()"
   ]
  },
  {
   "cell_type": "code",
   "execution_count": null,
   "id": "4621593c",
   "metadata": {},
   "outputs": [],
   "source": [
    "grobid_adapter.reset()\n",
    "docs = grobid_adapter.generate_documents(10)"
   ]
  },
  {
   "cell_type": "code",
   "execution_count": null,
   "id": "647b1899",
   "metadata": {},
   "outputs": [],
   "source": [
    "docs_split =  Processors.SplitByLinePreProcessor().process(docs)"
   ]
  },
  {
   "cell_type": "code",
   "execution_count": null,
   "id": "2fa49201",
   "metadata": {},
   "outputs": [],
   "source": [
    "docs_split"
   ]
  },
  {
   "cell_type": "code",
   "execution_count": null,
   "id": "4ad2a6e9",
   "metadata": {},
   "outputs": [],
   "source": [
    "docs_discarded = Processors.DiscardLineProcessor(0.5).process(docs)"
   ]
  },
  {
   "cell_type": "code",
   "execution_count": null,
   "id": "f4bb14d1",
   "metadata": {},
   "outputs": [],
   "source": [
    "import enchant"
   ]
  },
  {
   "cell_type": "code",
   "execution_count": null,
   "id": "4b826198",
   "metadata": {},
   "outputs": [],
   "source": [
    "words = word_tokenize(docs[0]['text'])"
   ]
  },
  {
   "cell_type": "code",
   "execution_count": null,
   "id": "9107bfe6",
   "metadata": {},
   "outputs": [],
   "source": [
    "words"
   ]
  },
  {
   "cell_type": "code",
   "execution_count": null,
   "id": "e25189f0",
   "metadata": {},
   "outputs": [],
   "source": [
    "num_non = 0\n",
    "for word in words:\n",
    "    if not word.isalpha():\n",
    "        num_non += 1"
   ]
  },
  {
   "cell_type": "code",
   "execution_count": null,
   "id": "9ed9c0c1",
   "metadata": {},
   "outputs": [],
   "source": []
  },
  {
   "cell_type": "code",
   "execution_count": null,
   "id": "9152ff5d",
   "metadata": {},
   "outputs": [],
   "source": [
    "docs"
   ]
  },
  {
   "cell_type": "code",
   "execution_count": null,
   "id": "478f59ae",
   "metadata": {},
   "outputs": [],
   "source": [
    "docs_discarded"
   ]
  },
  {
   "cell_type": "code",
   "execution_count": null,
   "id": "99de1bf6",
   "metadata": {},
   "outputs": [],
   "source": [
    "\"a\".isalpha()"
   ]
  },
  {
   "cell_type": "code",
   "execution_count": 4,
   "id": "669f846d",
   "metadata": {},
   "outputs": [
    {
     "data": {
      "text/plain": [
       "13107346"
      ]
     },
     "execution_count": 4,
     "metadata": {},
     "output_type": "execute_result"
    }
   ],
   "source": [
    "len(e_adapt)"
   ]
  },
  {
   "cell_type": "code",
   "execution_count": 5,
   "id": "02478141",
   "metadata": {},
   "outputs": [
    {
     "name": "stderr",
     "output_type": "stream",
     "text": [
      "06/22/2021 18:39:34 - INFO - elasticsearch -   POST http://aifb-ls3-vm1.aifb.kit.edu:9200/document/_search?scroll=1d&size=10 [status:200 request:0.617s]\n"
     ]
    },
    {
     "data": {
      "text/plain": [
       "[{'text': 'Smart environments integrate Information and Communication Technologies (ICT)\\ninto devices, vehicles, buildings and cities to offer an increased quality of\\nlife, energy efficiency and economical sustainability. In this perspective, the\\nindividual has a core role and so has networking, which enables such entities\\nto cooperate. However, the huge amount of sensitive data, social aspects and\\nthe mixed set of protocols offer many opportunities to inject hazards,\\nexfiltrate information, mass profiling of citizens, or produce a new wave of\\nattacks. This work reviews the major risks arising from the usage of\\nICT-techniques for smart environments, with emphasis on networking.', 'score': None, 'probability': None, 'question': None, 'meta': {'arixive-id': '1502.00868', 'mag_id': 2951674754, '_split_id': 0}, 'embedding': None, 'id': 'a52846d50cf3c3fbf5dac2e743cf321'},\n",
       " {'text': 'Its main\\ncontribution is to explain the role of different stakeholders for causing a\\nlack of security and to envision future threats by considering human aspects. Introduction Smart buildings are an elementary component of smart environments, which aim at improving the comfort of individuals and their lifestyle. In essence, they integrate Information and Communication Technologies (ICT) into devices, vehicles and buildings to provide a higher quality of life, a reduced environmental footprint and economical benefits. Pushed to the limit, such basic blocks can be arranged to produce large-scale deployments known as smart cities.', 'score': None, 'probability': None, 'question': None, 'meta': {'arixive-id': '1502.00868', 'mag_id': 2951674754, '_split_id': 1}, 'embedding': None, 'id': 'c92719a3c3bc2b0a7e60b1b5e9094d05'},\n",
       " {'text': 'Smart environments are the result of a large interdisciplinary effort, ranging from civil engineering to cloud computing. However, in this work we focus on networking/devices, since they provide many important features such as: i) the ability of collecting information from the surrounding environment, ii) the possibility of sending remotely commands and feedback, also in a real-time fashion, iii) the availability of an infrastructure to handle the resulting amount of data.', 'score': None, 'probability': None, 'question': None, 'meta': {'arixive-id': '1502.00868', 'mag_id': 2951674754, '_split_id': 2}, 'embedding': None, 'id': '724dd57a075048e04ceb1e1f5a6a5a47'},\n",
       " {'text': 'Prime examples are, among the others: wireless loops used to gather information from sensors, Radio Frequency Identification (RFID) deployed to monitor the status of a physical area, and the Internet of Things (IoT) paradigm to access and control devices or assets like locks, light and household appliances\\xa0. Alas, smart technologies are tightly coupled with individuals, especially in terms of their lifestyles, bad habits and sensitive data. Therefore, all the information gathered, exchanged and stored within smart environments can lead to severe issues in terms of security and privacy.', 'score': None, 'probability': None, 'question': None, 'meta': {'arixive-id': '1502.00868', 'mag_id': 2951674754, '_split_id': 3}, 'embedding': None, 'id': 'a40e671a7fc684e1ae317dfe67af9d1b'},\n",
       " {'text': \"For instance, detailed personal information can be used for mass profiling or social engineering attacks. Moreover, misuse of devices, bad habits and poor understanding of handled technology can lead to severe security breaches. For example, smartphones are often used to control different parts of smart environments (e.g., buildings) and worms or infected applications could attack the discovered appliances of the user's environment. In this perspective, this paper analyzes the most relevant security and privacy threats of users in smart environments.\", 'score': None, 'probability': None, 'question': None, 'meta': {'arixive-id': '1502.00868', 'mag_id': 2951674754, '_split_id': 4}, 'embedding': None, 'id': '61a2a65aba668bb8ac3061ee568c8728'},\n",
       " {'text': 'Given the example of smart building security, we highlight the practical background which leads to a lack of security functionality and awareness at the side of vendors, integrators and operators. The main contributions of this paper are the following: the systematic review of hazards rooted within the most relevant smart paradigms; an assessment of emerging threats arising by the mix of ICT technologies and human aspects; the discussion of possible countermeasures to mitigate identified security issues.', 'score': None, 'probability': None, 'question': None, 'meta': {'arixive-id': '1502.00868', 'mag_id': 2951674754, '_split_id': 5}, 'embedding': None, 'id': '12b57d2c7d7fd1e4250d7a9e1c624824'},\n",
       " {'text': 'We point out that this paper serves as an introductory work for the HAS session on Human Aspects of Information Security, Privacy and Trust for Smart Buildings. The remainder of the paper is structured as follows: Section  describes the problem space generated by the smart paradigm. Section  deals with human aspects of insecurity of smart buildings, Section  concentrates on smartphones, and Section  reviews vehicles. Section  proposes a role-based perspective on threats related to smart environments and Section  gives our future vision of identified threats and possible countermeasures. Section  concludes the paper.', 'score': None, 'probability': None, 'question': None, 'meta': {'arixive-id': '1502.00868', 'mag_id': 2951674754, '_split_id': 6}, 'embedding': None, 'id': '8b32afc5fbd9e8a6fa42018fc00acc2f'},\n",
       " {'text': 'Description of the Problem Space Smart environment is an umbrella term comprising different kinds of devices or specific deployments. As today, the most relevant areas of smart things are:  Smart Buildings: they collate a mix of smart devices as to produce an integrated environment. For such a complex deployment, proper middleware in charge of offering a coherent access is usually adopted, as well as proper computing facilities to store user data, process control directives and provide optimizations, especially in the field of energy management.', 'score': None, 'probability': None, 'question': None, 'meta': {'arixive-id': '1502.00868', 'mag_id': 2951674754, '_split_id': 7}, 'embedding': None, 'id': '76e3d88a45c890aa61b9fdd0f41fdf05'},\n",
       " {'text': 'Thus, this scenario can be used to exploit data hiding, for instance to covertly orchestrate a botnet. Smart Devices: they are quickly becoming widespread and one of the core blocks to pursue the vision of a more “human-centric\" environment. Common examples of smart devices are gaming consoles, set-top-boxes, light bulbs and household appliances. These devices can be used to infer habits, even political views, for instance by evaluating the shows watched on the TV. Moreover, the availability of full-featured TCP/IP stacks can be exploited to produce new types of botnets in order to e.g. amplify spam campaigns.', 'score': None, 'probability': None, 'question': None, 'meta': {'arixive-id': '1502.00868', 'mag_id': 2951674754, '_split_id': 8}, 'embedding': None, 'id': '5ccab4165228dc04a589e9976a475dcd'},\n",
       " {'text': 'It must be emphasized that smart devices will not be investigated in details in this paper due to space limitations and their technical heterogeneity. Smart Phones: are the most popular tools used to interact with other devices, and can be used to remotely control buildings and vehicles. In addition, they are the preferred platform to connect to the Internet and to communicate using heterogeneous networks (e.g., cellular or WiFi). They store a huge source of sensitive details such as messages and contacts and can be paired with smart watches which increases their potential to collect personal data.', 'score': None, 'probability': None, 'question': None, 'meta': {'arixive-id': '1502.00868', 'mag_id': 2951674754, '_split_id': 9}, 'embedding': None, 'id': '2e973af586c4f1689dfbdc75512cd80d'}]"
      ]
     },
     "execution_count": 5,
     "metadata": {},
     "output_type": "execute_result"
    }
   ],
   "source": [
    "e_adapt.generate_documents(10)"
   ]
  },
  {
   "cell_type": "code",
   "execution_count": 17,
   "id": "cd945e01",
   "metadata": {},
   "outputs": [
    {
     "name": "stderr",
     "output_type": "stream",
     "text": [
      "06/22/2021 18:52:10 - INFO - elasticsearch -   HEAD http://aifb-ls3-vm1.aifb.kit.edu:9200/ [status:200 request:0.057s]\n",
      "06/22/2021 18:52:10 - INFO - elasticsearch -   HEAD http://aifb-ls3-vm1.aifb.kit.edu:9200/document [status:200 request:0.021s]\n",
      "06/22/2021 18:52:10 - INFO - elasticsearch -   GET http://aifb-ls3-vm1.aifb.kit.edu:9200/document [status:200 request:0.022s]\n",
      "06/22/2021 18:52:10 - INFO - elasticsearch -   PUT http://aifb-ls3-vm1.aifb.kit.edu:9200/document/_mapping [status:200 request:0.028s]\n",
      "06/22/2021 18:52:10 - INFO - elasticsearch -   HEAD http://aifb-ls3-vm1.aifb.kit.edu:9200/label [status:200 request:0.021s]\n",
      "06/22/2021 18:52:10 - INFO - elasticsearch -   DELETE http://aifb-ls3-vm1.aifb.kit.edu:9200/_search/scroll [status:200 request:0.029s]\n",
      "06/22/2021 18:52:10 - INFO - elasticsearch -   POST http://aifb-ls3-vm1.aifb.kit.edu:9200/document/_search?scroll=1d&size=10 [status:200 request:0.040s]\n"
     ]
    },
    {
     "data": {
      "text/plain": [
       "{'text': 'Convolutional neural networks (CNNs) handle the case where filters extend\\nbeyond the image boundary using several heuristics, such as zero, repeat or\\nmean padding. These schemes are applied in an ad-hoc fashion and, being weakly\\nrelated to the image content and oblivious of the target task, result in low\\noutput quality at the boundary. In this paper, we propose a simple and\\neffective improvement that learns the boundary handling itself. At\\ntraining-time, the network is provided with a separate set of explicit boundary\\nfilters. At testing-time, we use these filters which have learned to\\nextrapolate features at the boundary in an optimal way for the specific task.', 'score': None, 'probability': None, 'question': None, 'meta': {'arixive-id': '1805.03106', 'mag_id': 2800494737, '_split_id': 0}, 'embedding': None, 'id': 'a6c7df79ab869093c11a40c0f4e2cc0e'}"
      ]
     },
     "execution_count": 17,
     "metadata": {},
     "output_type": "execute_result"
    }
   ],
   "source": [
    "from haystack.document_store.elasticsearch import ElasticsearchDocumentStore\n",
    "document_store = ElasticsearchDocumentStore(host=\"aifb-ls3-vm1.aifb.kit.edu\", username=\"\", password=\"\", index=\"document\")\n",
    "generator = document_store.get_all_documents_generator(batch_size=10)\n",
    "next(generator)"
   ]
  },
  {
   "cell_type": "code",
   "execution_count": null,
   "id": "ea5d41d0",
   "metadata": {},
   "outputs": [],
   "source": []
  }
 ],
 "metadata": {
  "kernelspec": {
   "display_name": "Python 3",
   "language": "python",
   "name": "python3"
  },
  "language_info": {
   "codemirror_mode": {
    "name": "ipython",
    "version": 3
   },
   "file_extension": ".py",
   "mimetype": "text/x-python",
   "name": "python",
   "nbconvert_exporter": "python",
   "pygments_lexer": "ipython3",
   "version": "3.7.0"
  },
  "metadata": {
   "interpreter": {
    "hash": "9724a32bba03b95bce415ce298364082743d44944163c5d480a53c14fdd5bb34"
   }
  }
 },
 "nbformat": 4,
 "nbformat_minor": 5
}
