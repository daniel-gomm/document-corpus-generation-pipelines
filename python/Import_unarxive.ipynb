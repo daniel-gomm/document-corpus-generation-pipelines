{
 "cells": [
  {
   "cell_type": "markdown",
   "id": "27d22f47",
   "metadata": {},
   "source": [
    "### UnarXive Import\n",
    "Plain text files are loaded, cleaned, combined with metadata, indexed and finally stored in a Document Store for the Haystack integration. "
   ]
  },
  {
   "cell_type": "code",
   "execution_count": 1,
   "id": "8bac624a",
   "metadata": {},
   "outputs": [
    {
     "name": "stderr",
     "output_type": "stream",
     "text": [
      "05/17/2021 12:14:18 - INFO - faiss.loader -   Loading faiss with AVX2 support.\n",
      "05/17/2021 12:14:18 - INFO - faiss.loader -   Loading faiss.\n",
      "/home/daniel/anaconda3/envs/KD/lib/python3.8/site-packages/torch/cuda/__init__.py:52: UserWarning: CUDA initialization: Found no NVIDIA driver on your system. Please check that you have an NVIDIA GPU and installed a driver from http://www.nvidia.com/Download/index.aspx (Triggered internally at  /pytorch/c10/cuda/CUDAFunctions.cpp:100.)\n",
      "  return torch._C._cuda_getDeviceCount() > 0\n",
      "05/17/2021 12:14:18 - INFO - farm.modeling.prediction_head -   Better speed can be achieved with apex installed from https://www.github.com/nvidia/apex .\n"
     ]
    }
   ],
   "source": [
    "from arxive_metadata import rocksDB\n",
    "import json\n",
    "import re\n",
    "import os\n",
    "import unarxive_import_helpers as helpers\n",
    "from unarxive_import_helpers import textfile_document_saver\n",
    "from haystack.preprocessor import PreProcessor"
   ]
  },
  {
   "cell_type": "code",
   "execution_count": null,
   "id": "662aa484",
   "metadata": {},
   "outputs": [],
   "source": [
    "#All unarXive plain text data is saved in \"directory\"\n",
    "directory = \"/home/daniel/storage/KD/samples\"\n",
    "files = os.listdir(directory)\n",
    "#Open the directory and list all textfiles\n",
    "txt_files = list(filter(lambda x: x.endswith(\".txt\"), files))\n",
    "#Initialize the database holding the metadata information\n",
    "url = \"http://192.168.178.34:8089\"\n",
    "db = rocksDB.RocksDBAdapter(\"arXive_metadata\", url)\n",
    "#Process the files. Combine them with their respective metadata and return them as list.\n",
    "#TODO: should directly put docs into datastore (ElasticSearch)\n",
    "docs, statistics = helpers.process_documents(directory, txt_files, db, 200)\n",
    "print(\"Processed {} documents in {} seconds.\\nA total amount of {} documents was found.\\nNo metadata was found for {} documents.\".format(statistics[\"no_original_papers\"], statistics[\"elapsed_time\"], statistics[\"no_output_papers\"], statistics[\"no_paper_without_metadata\"]))"
   ]
  },
  {
   "cell_type": "code",
   "execution_count": 3,
   "id": "97df22d3",
   "metadata": {},
   "outputs": [],
   "source": [
    "#All unarXive plain text data is saved in \"directory\"\n",
    "directory = \"/home/daniel/storage/KD/samples\"\n",
    "files = os.listdir(directory)\n",
    "#Open the directory and list all textfiles\n",
    "txt_files = list(filter(lambda x: x.endswith(\".txt\"), files))\n",
    "#Initialize the database holding the metadata information\n",
    "url = \"http://192.168.178.34:8089\"\n",
    "db = rocksDB.RocksDBAdapter(\"arXive_metadata\", url)\n",
    "#Process the files. Combine them with their respective metadata and return them as list.\n",
    "#TODO: should directly put docs into datastore (ElasticSearch)\n",
    "processor = PreProcessor(\n",
    "            clean_empty_lines=True,\n",
    "            clean_whitespace=True,\n",
    "            clean_header_footer=True,\n",
    "            split_by=\"word\",\n",
    "            split_length=400,\n",
    "            split_respect_sentence_boundary=True,\n",
    "            split_overlap=0\n",
    "        )\n",
    "document_saver = helpers.textfile_document_saver(\"/home/daniel/storage/KD/sampledata\", processor)\n",
    "statistics = helpers.process_documents(directory, txt_files[700:750], db, document_saver, 200)\n",
    "print(\"Processed {} documents in {} seconds.\\nA total amount of {} documents was found.\\nNo metadata was found for {} documents.\".format(statistics[\"no_original_papers\"], statistics[\"elapsed_time\"], statistics[\"no_output_papers\"], statistics[\"no_paper_without_metadata\"]))"
   ]
  },
  {
   "cell_type": "code",
   "execution_count": null,
   "id": "d8e57e5c",
   "metadata": {},
   "outputs": [],
   "source": [
    "document_saver = textfile_document_saver(\"/home/daniel/storage/KD/sampledata\")"
   ]
  },
  {
   "cell_type": "code",
   "execution_count": 4,
   "id": "698dc499",
   "metadata": {},
   "outputs": [],
   "source": [
    "d = helpers.Document(\"/home/daniel/storage/KD/samples/0706.0905.txt\")"
   ]
  },
  {
   "cell_type": "code",
   "execution_count": null,
   "id": "3a316258",
   "metadata": {},
   "outputs": [],
   "source": [
    "docs = processor.process(d.get_document_as_dict())"
   ]
  },
  {
   "cell_type": "code",
   "execution_count": null,
   "id": "9a5a6817",
   "metadata": {},
   "outputs": [],
   "source": [
    "type(docs[0])"
   ]
  },
  {
   "cell_type": "code",
   "execution_count": 6,
   "id": "2683eed8",
   "metadata": {},
   "outputs": [],
   "source": [
    "helpers.add_metadata_to_documents([d], db)"
   ]
  },
  {
   "cell_type": "code",
   "execution_count": 7,
   "id": "9e55bb7f",
   "metadata": {},
   "outputs": [
    {
     "data": {
      "text/plain": [
       "{'id': '0706.0905',\n",
       " 'submitter': 'Marek Korkusinski',\n",
       " 'authors': 'Irene Puerto-Gimenez, Marek Korkusinski, Pawel Hawrylak',\n",
       " 'title': 'LCHO-CI method for the voltage control of exchange interaction in gated\\n  lateral quantum dot networks',\n",
       " 'journal-ref': None,\n",
       " 'doi': None,\n",
       " 'categories': 'cond-mat.mes-hall cond-mat.mtrl-sci',\n",
       " 'abstract': '  We present a computational LCHO-CI approach allowing for the simulation of\\nexchange interactions in gated lateral quantum dot networks. The approach is\\nbased on single-particle states calculated using a linear combination of\\nharmonic orbitals (LCHO) of each of the dots, and a configuration interaction\\n(CI) approach to the interacting electron problem. The LCHO-CI method is\\napplied to a network of three quantum dots with one electron spin per dot, and\\na Heisenberg spin Hamiltonian is derived. The manipulation of spin states of a\\nthree-spin molecule by applying bias to one of the dots is demonstrated and\\nrelated to the bias dependence of effective exchange interaction parameters.\\n',\n",
       " 'authors_parsed': [['Puerto-Gimenez', 'Irene', ''],\n",
       "  ['Korkusinski', 'Marek', ''],\n",
       "  ['Hawrylak', 'Pawel', '']]}"
      ]
     },
     "execution_count": 7,
     "metadata": {},
     "output_type": "execute_result"
    }
   ],
   "source": [
    "d._meta"
   ]
  },
  {
   "cell_type": "code",
   "execution_count": 9,
   "id": "b954466c",
   "metadata": {},
   "outputs": [],
   "source": [
    "import pandas as pd"
   ]
  },
  {
   "cell_type": "code",
   "execution_count": 10,
   "id": "d42dce8b",
   "metadata": {},
   "outputs": [],
   "source": [
    "df = pd.read_json('/home/daniel/storage/KD/paperswithcode/links-between-papers-and-code.json')"
   ]
  },
  {
   "cell_type": "code",
   "execution_count": 11,
   "id": "aa5372a6",
   "metadata": {},
   "outputs": [],
   "source": [
    "conatain_id = df.dropna(subset=['paper_arxiv_id'])"
   ]
  },
  {
   "cell_type": "code",
   "execution_count": null,
   "id": "438388da",
   "metadata": {},
   "outputs": [],
   "source": [
    "def _remove_duplicates(l:list):\n",
    "    return list(dict.fromkeys(l)) "
   ]
  },
  {
   "cell_type": "code",
   "execution_count": 14,
   "id": "da947361",
   "metadata": {},
   "outputs": [],
   "source": [
    "def combine_with_papers_with_code(meta:dict):\n",
    "    return conatain_id.loc[conatain_id[\"paper_arxiv_id\"] == meta[\"id\"]]\n",
    "    matching_id = conatain_id.loc[conatain_id[\"paper_arxiv_id\"] == meta[\"id\"]]\n",
    "    if matching_id.__len__() > 0:\n",
    "        meta[\"pwc_url\"] = _remove_duplicates(matching_id[\"paper_url\"].tolist())\n",
    "        meta[\"pwc_repo_url\"] = _remove_duplicates(matching_id[\"repo_url\"].tolist())\n",
    "        meta[\"pwc_framework\"] = _remove_duplicates(matching_id[\"framework\"].tolist())"
   ]
  },
  {
   "cell_type": "code",
   "execution_count": 15,
   "id": "ba2fdce5",
   "metadata": {},
   "outputs": [
    {
     "data": {
      "text/html": [
       "<div>\n",
       "<style scoped>\n",
       "    .dataframe tbody tr th:only-of-type {\n",
       "        vertical-align: middle;\n",
       "    }\n",
       "\n",
       "    .dataframe tbody tr th {\n",
       "        vertical-align: top;\n",
       "    }\n",
       "\n",
       "    .dataframe thead th {\n",
       "        text-align: right;\n",
       "    }\n",
       "</style>\n",
       "<table border=\"1\" class=\"dataframe\">\n",
       "  <thead>\n",
       "    <tr style=\"text-align: right;\">\n",
       "      <th></th>\n",
       "      <th>paper_url</th>\n",
       "      <th>paper_title</th>\n",
       "      <th>paper_arxiv_id</th>\n",
       "      <th>paper_url_abs</th>\n",
       "      <th>paper_url_pdf</th>\n",
       "      <th>repo_url</th>\n",
       "      <th>mentioned_in_paper</th>\n",
       "      <th>mentioned_in_github</th>\n",
       "      <th>framework</th>\n",
       "    </tr>\n",
       "  </thead>\n",
       "  <tbody>\n",
       "  </tbody>\n",
       "</table>\n",
       "</div>"
      ],
      "text/plain": [
       "Empty DataFrame\n",
       "Columns: [paper_url, paper_title, paper_arxiv_id, paper_url_abs, paper_url_pdf, repo_url, mentioned_in_paper, mentioned_in_github, framework]\n",
       "Index: []"
      ]
     },
     "execution_count": 15,
     "metadata": {},
     "output_type": "execute_result"
    }
   ],
   "source": [
    "combine_with_papers_with_code(d._meta)"
   ]
  },
  {
   "cell_type": "code",
   "execution_count": null,
   "id": "aaa4d2aa",
   "metadata": {},
   "outputs": [],
   "source": []
  }
 ],
 "metadata": {
  "kernelspec": {
   "display_name": "Python 3",
   "language": "python",
   "name": "python3"
  },
  "language_info": {
   "codemirror_mode": {
    "name": "ipython",
    "version": 3
   },
   "file_extension": ".py",
   "mimetype": "text/x-python",
   "name": "python",
   "nbconvert_exporter": "python",
   "pygments_lexer": "ipython3",
   "version": "3.8.8"
  }
 },
 "nbformat": 4,
 "nbformat_minor": 5
}
