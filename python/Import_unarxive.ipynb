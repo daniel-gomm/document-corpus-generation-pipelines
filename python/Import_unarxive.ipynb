{
 "cells": [
  {
   "cell_type": "code",
   "execution_count": 1,
   "id": "8bac624a",
   "metadata": {},
   "outputs": [],
   "source": [
    "from arxive_metadata import rocksDB"
   ]
  },
  {
   "cell_type": "markdown",
   "id": "4c6be244",
   "metadata": {},
   "source": [
    "Read in File -> Extract Metadata -> Bundle Together -> Split Documents -> Save to elasticsearch documentstore"
   ]
  },
  {
   "cell_type": "code",
   "execution_count": null,
   "id": "4713b5ca",
   "metadata": {},
   "outputs": [],
   "source": []
  }
 ],
 "metadata": {
  "kernelspec": {
   "display_name": "Python 3",
   "language": "python",
   "name": "python3"
  },
  "language_info": {
   "codemirror_mode": {
    "name": "ipython",
    "version": 3
   },
   "file_extension": ".py",
   "mimetype": "text/x-python",
   "name": "python",
   "nbconvert_exporter": "python",
   "pygments_lexer": "ipython3",
   "version": "3.8.8"
  }
 },
 "nbformat": 4,
 "nbformat_minor": 5
}
