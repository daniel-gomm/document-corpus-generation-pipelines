{
 "cells": [
  {
   "cell_type": "markdown",
   "id": "74b50d54",
   "metadata": {},
   "source": [
    "### UnarXive Import\n",
    "Plain text files are loaded, cleaned, combined with metadata, indexed and finally stored in a Document Store for the Haystack integration. "
   ]
  },
  {
   "cell_type": "code",
   "execution_count": 1,
   "id": "8bac624a",
   "metadata": {},
   "outputs": [],
   "source": [
    "from arxive_metadata import rocksDB\n",
    "import json\n",
    "import re\n",
    "import os\n",
    "import unarxive_import_helpers as helpers"
   ]
  },
  {
   "cell_type": "code",
   "execution_count": 2,
   "id": "8fe9154e",
   "metadata": {},
   "outputs": [
    {
     "name": "stdout",
     "output_type": "stream",
     "text": [
      "Processing 5000 documents in batches of 200.\n",
      "A total amount of 5000 documents was processed, of which metadata was found for 4086.\n"
     ]
    }
   ],
   "source": [
    "#All unarXive plain text data is saved in \"directory\"\n",
    "directory = \"/home/daniel/KD/samples\"\n",
    "files = os.listdir(directory)\n",
    "#Open the directory and list all textfiles\n",
    "txt_files = list(filter(lambda x: x.endswith(\".txt\"), files))\n",
    "#Initialize the database holding the metadata information\n",
    "url = \"http://192.168.178.34:8089\"\n",
    "db = rocksDB.RocksDBAdapter(\"arXive_metadata\", url)\n",
    "#Process the files. Combine them with their rreapective metadata and return them as list.\n",
    "#TODO: should directly put docs into datastore (ElasticSearch)\n",
    "docs = helpers.process_docements(directory, txt_files[0:5000], db, 200)\n",
    "docs_with_metadata = list(filter(lambda d: not d._meta.startswith(\"Data unavailable\"), docs))\n",
    "print(\"A total amount of {} documents was processed, of which metadata was found for {}.\".format(docs.__len__(), docs_with_metadata.__len__()))"
   ]
  },
  {
   "cell_type": "code",
   "execution_count": 3,
   "id": "5cb66ef9",
   "metadata": {},
   "outputs": [
    {
     "data": {
      "text/plain": [
       "'{\"id\":\"1907.09440\",\"submitter\":\"Raghavendra Pradyumna Pothukuchi\",\"authors\":\"Raghavendra Pradyumna Pothukuchi, Sweta Yamini Pothukuchi, Petros\\\\n  Voulgaris, Alexander Schwing, Josep Torrellas\",\"title\":\"Maya: Falsifying Power Sidechannels with Dynamic Control\",\"comments\":null,\"journal-ref\":null,\"doi\":null,\"report-no\":null,\"categories\":\"cs.CR cs.SY eess.SY\",\"license\":\"http://arxiv.org/licenses/nonexclusive-distrib/1.0/\",\"abstract\":\"  The security of computers is at risk because of information leaking through\\\\nphysical outputs such as power, temperature, or electromagnetic (EM) emissions.\\\\nAttackers can use advanced signal measurement and analysis to recover sensitive\\\\ndata from these sidechannels. To address this problem, this paper presents\\\\nMaya, a simple and effective solution against power side-channels. The idea is\\\\nto re-shape the power dissipated by an application in an\\\\napplication-transparent manner using control theory techniques - preventing\\\\nattackers from learning any information. With control theory, a controller can\\\\nreliably keep power close to a desired target value even when runtime\\\\nconditions change unpredictably. Then, by changing these targets intelligently,\\\\npower can be made to appear in any desired form, appearing to carry activity\\\\ninformation which, in reality, is unrelated to the application. Maya can be\\\\nimplemented in privileged software or in simple hardware. In this paper, we\\\\nimplement Maya on two multiprocessor machines using Operating System (OS)\\\\nthreads, and show its effectiveness and ease of deployment.\\\\n\",\"versions\":[{\"version\":\"v1\",\"created\":\"Mon, 22 Jul 2019 17:24:34 GMT\"},{\"version\":\"v2\",\"created\":\"Sun, 18 Aug 2019 23:57:48 GMT\"}],\"update_date\":\"2019-08-20\",\"authors_parsed\":[[\"Pothukuchi\",\"Raghavendra Pradyumna\",\"\"],[\"Pothukuchi\",\"Sweta Yamini\",\"\"],[\"Voulgaris\",\"Petros\",\"\"],[\"Schwing\",\"Alexander\",\"\"],[\"Torrellas\",\"Josep\",\"\"]]}'"
      ]
     },
     "execution_count": 3,
     "metadata": {},
     "output_type": "execute_result"
    }
   ],
   "source": [
    "docs_with_metadata[55]._meta"
   ]
  },
  {
   "cell_type": "code",
   "execution_count": null,
   "id": "7d8b9361",
   "metadata": {},
   "outputs": [],
   "source": []
  }
 ],
 "metadata": {
  "kernelspec": {
   "display_name": "Python 3",
   "language": "python",
   "name": "python3"
  },
  "language_info": {
   "codemirror_mode": {
    "name": "ipython",
    "version": 3
   },
   "file_extension": ".py",
   "mimetype": "text/x-python",
   "name": "python",
   "nbconvert_exporter": "python",
   "pygments_lexer": "ipython3",
   "version": "3.8.8"
  }
 },
 "nbformat": 4,
 "nbformat_minor": 5
}
