{
 "cells": [
  {
   "cell_type": "code",
   "execution_count": 1,
   "id": "existing-procedure",
   "metadata": {},
   "outputs": [
    {
     "name": "stderr",
     "output_type": "stream",
     "text": [
      "[nltk_data] Downloading package punkt to\n",
      "[nltk_data]     /home/kit/stud/ulvhi/nltk_data...\n",
      "[nltk_data]   Package punkt is already up-to-date!\n",
      "2021-08-05 10:37:03.144107: I tensorflow/stream_executor/platform/default/dso_loader.cc:53] Successfully opened dynamic library libcudart.so.11.0\n"
     ]
    }
   ],
   "source": [
    "from nltk.tokenize import sent_tokenize\n",
    "import nltk\n",
    "\n",
    "nltk.download('punkt')\n",
    "\n",
    "import torch\n",
    "import pandas as pd\n",
    "from tqdm.notebook import tqdm\n",
    "\n",
    "from sklearn.model_selection import train_test_split\n",
    "from transformers import AdamW, get_linear_schedule_with_warmup\n",
    "from torch.utils.data import DataLoader, RandomSampler, SequentialSampler\n",
    "\n",
    "from transformers import BertTokenizer\n",
    "from torch.utils.data import TensorDataset\n",
    "from torch.utils.data import DataLoader, RandomSampler, SequentialSampler\n",
    "\n",
    "from transformers import BertForSequenceClassification\n",
    "from transformers import BertModel, BertConfig\n",
    "import random\n",
    "import numpy as np\n",
    "import operator\n",
    "\n",
    "from transformers import AutoTokenizer, AutoModel\n",
    "from transformers import BertForSequenceClassification, BertTokenizer, TextClassificationPipeline\n",
    "import json\n",
    "import glob\n",
    "import os\n",
    "import csv\n",
    "import threading\n",
    "import time\n",
    "import multiprocessing\n",
    "from multiprocessing import Process, Manager"
   ]
  },
  {
   "cell_type": "code",
   "execution_count": 2,
   "id": "selected-drama",
   "metadata": {},
   "outputs": [
    {
     "name": "stderr",
     "output_type": "stream",
     "text": [
      "[nltk_data] Downloading package punkt to\n",
      "[nltk_data]     /home/kit/stud/ulvhi/nltk_data...\n",
      "[nltk_data]   Package punkt is already up-to-date!\n"
     ]
    }
   ],
   "source": [
    "from Pipeline import Pipeline\n",
    "import Adapters\n",
    "import Processors\n",
    "import Sinks\n",
    "from imrad_classification import BERTClassificationHandler\n",
    "from imrad_classification import ClassificationHandler\n",
    "from haystack_copy import ElasticsearchDocumentStore\n",
    "from queue import *\n"
   ]
  },
  {
   "cell_type": "code",
   "execution_count": 3,
   "id": "indian-garage",
   "metadata": {},
   "outputs": [
    {
     "name": "stderr",
     "output_type": "stream",
     "text": [
      "/home/kit/stud/ulvhi/.local/lib/python3.8/site-packages/elasticsearch/connection/base.py:208: ElasticsearchWarning: Elasticsearch built-in security features are not enabled. Without authentication, your cluster could be accessible to anyone. See https://www.elastic.co/guide/en/elasticsearch/reference/7.13/security-minimal-setup.html to enable security.\n",
      "  warnings.warn(message, category=ElasticsearchWarning)\n"
     ]
    }
   ],
   "source": [
    "model_path='/pfs/data5/home/kit/stud/ulvhi/ML_Modells/UnpaywallFinetuned_SciBERT002_epoch_100words_batches5.model'\n",
    "document_store = ElasticsearchDocumentStore(host=\"aifb-ls3-vm1.aifb.kit.edu\", username=\"\", password=\"\", index=\"document\", duplicate_documents= 'overwrite') #update ElasticsearchSink documents = true\n",
    "e_adapt = Adapters.ElasticsearchAdapter(document_store, batch_size=10, filters={'_status':[\"1\"]})"
   ]
  },
  {
   "cell_type": "markdown",
   "id": "bd1101a7-fc51-489e-85d5-15f4808881a8",
   "metadata": {},
   "source": [
    "Load Model and create Elasticsearch adapter"
   ]
  },
  {
   "cell_type": "code",
   "execution_count": 25,
   "id": "e4a43d5f-c82c-4f8f-b3e5-0cdcf87fbbbd",
   "metadata": {},
   "outputs": [
    {
     "name": "stdout",
     "output_type": "stream",
     "text": [
      "6404824\n"
     ]
    }
   ],
   "source": [
    "model_path='/pfs/data5/home/kit/stud/ulvhi/ML_Modells/UnpaywallFinetuned_SciBERT002_epoch_100words_batches5.model'\n",
    "document_store = ElasticsearchDocumentStore(host=\"aifb-ls3-vm1.aifb.kit.edu\", username=\"\", password=\"\", index=\"document\", duplicate_documents= 'overwrite') #update ElasticsearchSink documents = true\n",
    "e_adapt = Adapters.ElasticsearchAdapter(document_store, batch_size=10, filters={'_status':[\"4\"]})\n",
    "print(len(e_adapt))\n"
   ]
  },
  {
   "cell_type": "code",
   "execution_count": null,
   "id": "b543b0a9-599c-4a78-84b1-3210275d1d88",
   "metadata": {},
   "outputs": [],
   "source": [
    "STa"
   ]
  },
  {
   "cell_type": "code",
   "execution_count": 17,
   "id": "broke-arizona",
   "metadata": {},
   "outputs": [
    {
     "name": "stderr",
     "output_type": "stream",
     "text": [
      "Some weights of the model checkpoint at allenai/scibert_scivocab_cased were not used when initializing BertForSequenceClassification: ['cls.seq_relationship.weight', 'cls.predictions.bias', 'cls.predictions.decoder.bias', 'cls.predictions.transform.LayerNorm.bias', 'cls.predictions.transform.dense.weight', 'cls.seq_relationship.bias', 'cls.predictions.transform.dense.bias', 'cls.predictions.transform.LayerNorm.weight', 'cls.predictions.decoder.weight']\n",
      "- This IS expected if you are initializing BertForSequenceClassification from the checkpoint of a model trained on another task or with another architecture (e.g. initializing a BertForSequenceClassification model from a BertForPreTraining model).\n",
      "- This IS NOT expected if you are initializing BertForSequenceClassification from the checkpoint of a model that you expect to be exactly identical (initializing a BertForSequenceClassification model from a BertForSequenceClassification model).\n",
      "Some weights of BertForSequenceClassification were not initialized from the model checkpoint at allenai/scibert_scivocab_cased and are newly initialized: ['classifier.weight', 'classifier.bias']\n",
      "You should probably TRAIN this model on a down-stream task to be able to use it for predictions and inference.\n"
     ]
    },
    {
     "name": "stdout",
     "output_type": "stream",
     "text": [
      "(ElasticsearchAdapter) ---> *IMRaDClassification*\n",
      "===> |_ElasticsearchSink_|\n"
     ]
    }
   ],
   "source": [
    "update_pipeline = Pipeline(e_adapt, batch_size=100, cpus=1, max_runtime=12000)\n",
    "#lockArray definieren\n",
    "update_pipeline.add_processor(Processors.IMRaDClassification(model_path))\n",
    "update_pipeline.add_sink(Sinks.ElasticsearchSink(document_store))\n",
    "#update_pipeline.add_sink(Sinks.CSVMetadataSink(\"testcsv.csv\",[\"arixive-id\", \"_split_id\"])) #\n",
    "\n",
    "print(update_pipeline)"
   ]
  },
  {
   "cell_type": "code",
   "execution_count": 18,
   "id": "coral-detection",
   "metadata": {},
   "outputs": [
    {
     "data": {
      "text/plain": [
       "15457"
      ]
     },
     "execution_count": 18,
     "metadata": {},
     "output_type": "execute_result"
    }
   ],
   "source": [
    "len(e_adapt)\n"
   ]
  },
  {
   "cell_type": "code",
   "execution_count": 15,
   "id": "thirty-entity",
   "metadata": {},
   "outputs": [
    {
     "name": "stdout",
     "output_type": "stream",
     "text": [
      "Processing batches: [############################################################] 773/773 Processed documents: 77241 Output Documents: 77241\n",
      "Processing Done!\r"
     ]
    }
   ],
   "source": [
    "update_pipeline.process()"
   ]
  }
 ],
 "metadata": {
  "kernelspec": {
   "display_name": "Python 3 (ipykernel)",
   "language": "python",
   "name": "python3"
  },
  "language_info": {
   "codemirror_mode": {
    "name": "ipython",
    "version": 3
   },
   "file_extension": ".py",
   "mimetype": "text/x-python",
   "name": "python",
   "nbconvert_exporter": "python",
   "pygments_lexer": "ipython3",
   "version": "3.8.0"
  }
 },
 "nbformat": 4,
 "nbformat_minor": 5
}
