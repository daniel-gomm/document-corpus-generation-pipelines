{
 "cells": [
  {
   "cell_type": "code",
   "execution_count": 2,
   "id": "36172b7a",
   "metadata": {},
   "outputs": [
    {
     "name": "stderr",
     "output_type": "stream",
     "text": [
      "/home/daniel/anaconda3/envs/KD/lib/python3.7/site-packages/torch/cuda/__init__.py:52: UserWarning: CUDA initialization: Found no NVIDIA driver on your system. Please check that you have an NVIDIA GPU and installed a driver from http://www.nvidia.com/Download/index.aspx (Triggered internally at  /pytorch/c10/cuda/CUDAFunctions.cpp:100.)\n",
      "  return torch._C._cuda_getDeviceCount() > 0\n",
      "06/28/2021 09:45:46 - INFO - farm.modeling.prediction_head -   Better speed can be achieved with apex installed from https://www.github.com/nvidia/apex .\n",
      "[nltk_data] Downloading package punkt to /home/daniel/nltk_data...\n",
      "[nltk_data]   Package punkt is already up-to-date!\n"
     ]
    }
   ],
   "source": [
    "from kdpipelines.Pipeline import Pipeline\n",
    "from kdpipelines import Adapters, Processors, Sinks\n",
    "import pandas as pd\n",
    "import json"
   ]
  },
  {
   "cell_type": "code",
   "execution_count": 2,
   "id": "257f55d6",
   "metadata": {},
   "outputs": [
    {
     "name": "stderr",
     "output_type": "stream",
     "text": [
      "06/30/2021 10:40:22 - INFO - faiss.loader -   Loading faiss with AVX2 support.\n",
      "06/30/2021 10:40:22 - INFO - faiss.loader -   Loading faiss.\n",
      "/home/daniel/anaconda3/envs/KD/lib/python3.7/site-packages/torch/cuda/__init__.py:52: UserWarning: CUDA initialization: Found no NVIDIA driver on your system. Please check that you have an NVIDIA GPU and installed a driver from http://www.nvidia.com/Download/index.aspx (Triggered internally at  /pytorch/c10/cuda/CUDAFunctions.cpp:100.)\n",
      "  return torch._C._cuda_getDeviceCount() > 0\n",
      "06/30/2021 10:40:22 - INFO - farm.modeling.prediction_head -   Better speed can be achieved with apex installed from https://www.github.com/nvidia/apex .\n",
      "06/30/2021 10:40:23 - INFO - elasticsearch -   HEAD http://aifb-ls3-vm1.aifb.kit.edu:9200/ [status:200 request:0.058s]\n",
      "06/30/2021 10:40:23 - INFO - elasticsearch -   HEAD http://aifb-ls3-vm1.aifb.kit.edu:9200/document [status:200 request:0.020s]\n",
      "06/30/2021 10:40:23 - INFO - elasticsearch -   GET http://aifb-ls3-vm1.aifb.kit.edu:9200/document [status:200 request:0.020s]\n",
      "06/30/2021 10:40:23 - INFO - elasticsearch -   PUT http://aifb-ls3-vm1.aifb.kit.edu:9200/document/_mapping [status:200 request:0.026s]\n",
      "06/30/2021 10:40:23 - INFO - elasticsearch -   HEAD http://aifb-ls3-vm1.aifb.kit.edu:9200/label [status:200 request:0.020s]\n"
     ]
    }
   ],
   "source": [
    "from haystack.document_store.elasticsearch import ElasticsearchDocumentStore\n",
    "document_store = ElasticsearchDocumentStore(host=\"aifb-ls3-vm1.aifb.kit.edu\", username=\"\", password=\"\", index=\"document\", duplicate_documents='overwrite')"
   ]
  },
  {
   "cell_type": "markdown",
   "id": "36cdbc0d",
   "metadata": {},
   "source": [
    "### Pipeline Definition"
   ]
  },
  {
   "cell_type": "code",
   "execution_count": null,
   "id": "a94ba697",
   "metadata": {},
   "outputs": [],
   "source": [
    "adapter = Adapters.UnarxiveAdapter(\"/home/daniel/KIT/KD/samples/sample\")\n",
    "pipeline = Pipeline(adapter, batch_size=5, cpus=10)"
   ]
  },
  {
   "cell_type": "code",
   "execution_count": null,
   "id": "43357c3f",
   "metadata": {},
   "outputs": [],
   "source": [
    "#MetadataArxiveEnricher\n",
    "from arxive_metadata.rocksDB import RocksDBAdapter\n",
    "db = RocksDBAdapter(\"arXive_metadata\", \"http://localhost:8089\")\n",
    "pipeline.add_processor(Processors.MetadataArxiveEnricher(\"arixive-id\",db))"
   ]
  },
  {
   "cell_type": "code",
   "execution_count": null,
   "id": "d2c59acf",
   "metadata": {},
   "outputs": [],
   "source": [
    "#FilterOnMetadataValue\n",
    "cs_values = [\"cs.AI\", \"cs.AR\", \"cs.CC\", \"cs.CE\", \"cs.CG\", \"cs.CL\", \"cs.CR\",\"cs.CV\",\"cs.CY\",\"cs.DB\",\"cs.DC\",\"cs.DL\",\"cs.DM\",\"cs.DS\",\"cs.ET\",\"cs.FL\",\"cs.GL\",\"cs.GR\", \"cs.GT\",\"cs.HC\",\"cs.IR\",\"cs.LG\",\"cs.LO\",\"cs.MA\",\"cs.MM\",\"cs.MS\",\"cs.NA\",\"cs.NE\",\"cs.NI\",\"cs.OH\",\"cs.OS\",\"cs.PF\",\"cs.PL\",\"cs.RO\",\"cs.SC\",\"cs.SD\",\"cs.SE\",\"cs.SI\",\"cs.SY\"]\n",
    "pipeline.add_processor(Processors.FilterOnMetadataValue(\"categories\", cs_values))"
   ]
  },
  {
   "cell_type": "code",
   "execution_count": null,
   "id": "1fd0ea23",
   "metadata": {},
   "outputs": [],
   "source": [
    "#Clean up text\n",
    "#TextKeywordCut Introduction\n",
    "pipeline.add_processor(Processors.TextKeywordCut(\"Introduction\"))\n",
    "#TextKeywordCut Acknowledgements\n",
    "pipeline.add_processor(Processors.TextKeywordCut(\"Acknowledgments\", False))\n",
    "#TextAppendMetadataField\n",
    "pipeline.add_processor(Processors.TextAppendMetadataField(\"abstract\", True))"
   ]
  },
  {
   "cell_type": "code",
   "execution_count": null,
   "id": "fc82fa00",
   "metadata": {},
   "outputs": [],
   "source": [
    "#MetadataFieldDiscarder\n",
    "fields_to_discard = [\"update_date\", \"authors\", \"abstract\", \"versions\", \"comments\", \"report-no\", \"license\", \"id\", \"categories\", \"submitter\", \"journal-ref\", \"authors_parsed\"]\n",
    "pipeline.add_processor(Processors.MetadataFieldDiscarder(fields_to_discard))"
   ]
  },
  {
   "cell_type": "code",
   "execution_count": null,
   "id": "7b1ad489",
   "metadata": {},
   "outputs": [],
   "source": [
    "#MetadataMagArxiveLinker\n",
    "import pandas as pd\n",
    "df = pd.read_csv(\"../../data/unarxive_metadata/mag_id_2_arxiv_id.csv\", names=[\"mag_id\", \"idk\", \"url\", \"arxive_id\"])\n",
    "pipeline.add_processor(Processors.MetadataMagArxiveLinker(df, column_to_match=\"arxive_id\", column_to_add=\"mag_id\", field_to_match=\"arixive-id\"))\n",
    "del df"
   ]
  },
  {
   "cell_type": "code",
   "execution_count": null,
   "id": "15c1c1aa",
   "metadata": {},
   "outputs": [],
   "source": [
    "#TextReplaceFilter\n",
    "pipeline.add_processor(Processors.TextReplaceFilter(r\"\\{{(.*?)\\}}\", \"\"))"
   ]
  },
  {
   "cell_type": "code",
   "execution_count": null,
   "id": "28a1dbea",
   "metadata": {},
   "outputs": [],
   "source": [
    "#HaystackPreProcessor\n",
    "from haystack.preprocessor import PreProcessor\n",
    "pre_processor = PreProcessor(\n",
    "    clean_empty_lines=True,\n",
    "    clean_whitespace=True,\n",
    "    clean_header_footer=True,\n",
    "    split_by=\"word\",\n",
    "    split_length=100,\n",
    "    split_respect_sentence_boundary=True,\n",
    "    split_overlap=0)\n",
    "pipeline.add_processor(Processors.HaystackPreProcessor(pre_processor))"
   ]
  },
  {
   "cell_type": "code",
   "execution_count": null,
   "id": "0411545c",
   "metadata": {},
   "outputs": [],
   "source": [
    "#TextfileSink\n",
    "#pipeline.add_sink(Sinks.TextfileSink(\"/home/daniel/KIT/KD/testoutput\", [\"arixive-id\", \"_split_id\"]))\n",
    "pipeline.add_sink(Sinks.TextfileSink(\"/home/daniel/KIT/KD/testoutput\", [\"arixive-id\"]))"
   ]
  },
  {
   "cell_type": "code",
   "execution_count": null,
   "id": "f512b1aa",
   "metadata": {},
   "outputs": [],
   "source": [
    "#ElasticsearchSink\n",
    "pipeline.add_sink(Sinks.ElasticsearchSink(document_store))"
   ]
  },
  {
   "cell_type": "code",
   "execution_count": null,
   "id": "d4733c5f",
   "metadata": {},
   "outputs": [],
   "source": [
    "#PrintSink\n",
    "pipeline.add_sink(Sinks.PrintSink())"
   ]
  },
  {
   "cell_type": "code",
   "execution_count": null,
   "id": "8de02519",
   "metadata": {},
   "outputs": [],
   "source": [
    "print(pipeline)"
   ]
  },
  {
   "cell_type": "markdown",
   "id": "080341b4",
   "metadata": {},
   "source": [
    "### Use Pipeline to process documents"
   ]
  },
  {
   "cell_type": "code",
   "execution_count": null,
   "id": "aff983d5",
   "metadata": {
    "tags": []
   },
   "outputs": [],
   "source": [
    "pipeline.process()"
   ]
  },
  {
   "cell_type": "markdown",
   "id": "d5b96f5d",
   "metadata": {},
   "source": [
    "### Pipeline to update entries in Elasticsearch"
   ]
  },
  {
   "cell_type": "code",
   "execution_count": null,
   "id": "c4c7dcc2",
   "metadata": {},
   "outputs": [],
   "source": [
    "e_adapt = Adapters.ElasticsearchAdapter(document_store, batch_size=10)"
   ]
  },
  {
   "cell_type": "code",
   "execution_count": null,
   "id": "d9ca0044",
   "metadata": {},
   "outputs": [],
   "source": [
    "update_pipeline = Pipeline(e_adapt, batch_size=20, cpus=10)"
   ]
  },
  {
   "cell_type": "code",
   "execution_count": 4,
   "id": "64cf1525",
   "metadata": {},
   "outputs": [
    {
     "name": "stderr",
     "output_type": "stream",
     "text": [
      "06/30/2021 10:40:33 - WARNING - elasticsearch -   HEAD http://localhost:9200/ [status:N/A request:0.001s]\n",
      "Traceback (most recent call last):\n",
      "  File \"/home/daniel/anaconda3/envs/KD/lib/python3.7/site-packages/urllib3/connection.py\", line 157, in _new_conn\n",
      "    (self._dns_host, self.port), self.timeout, **extra_kw\n",
      "  File \"/home/daniel/anaconda3/envs/KD/lib/python3.7/site-packages/urllib3/util/connection.py\", line 84, in create_connection\n",
      "    raise err\n",
      "  File \"/home/daniel/anaconda3/envs/KD/lib/python3.7/site-packages/urllib3/util/connection.py\", line 74, in create_connection\n",
      "    sock.connect(sa)\n",
      "ConnectionRefusedError: [Errno 111] Connection refused\n",
      "\n",
      "During handling of the above exception, another exception occurred:\n",
      "\n",
      "Traceback (most recent call last):\n",
      "  File \"/home/daniel/anaconda3/envs/KD/lib/python3.7/site-packages/elasticsearch/connection/http_urllib3.py\", line 246, in perform_request\n",
      "    method, url, body, retries=Retry(False), headers=request_headers, **kw\n",
      "  File \"/home/daniel/anaconda3/envs/KD/lib/python3.7/site-packages/urllib3/connectionpool.py\", line 720, in urlopen\n",
      "    method, url, error=e, _pool=self, _stacktrace=sys.exc_info()[2]\n",
      "  File \"/home/daniel/anaconda3/envs/KD/lib/python3.7/site-packages/urllib3/util/retry.py\", line 376, in increment\n",
      "    raise six.reraise(type(error), error, _stacktrace)\n",
      "  File \"/home/daniel/anaconda3/envs/KD/lib/python3.7/site-packages/urllib3/packages/six.py\", line 735, in reraise\n",
      "    raise value\n",
      "  File \"/home/daniel/anaconda3/envs/KD/lib/python3.7/site-packages/urllib3/connectionpool.py\", line 672, in urlopen\n",
      "    chunked=chunked,\n",
      "  File \"/home/daniel/anaconda3/envs/KD/lib/python3.7/site-packages/urllib3/connectionpool.py\", line 387, in _make_request\n",
      "    conn.request(method, url, **httplib_request_kw)\n",
      "  File \"/home/daniel/anaconda3/envs/KD/lib/python3.7/http/client.py\", line 1229, in request\n",
      "    self._send_request(method, url, body, headers, encode_chunked)\n",
      "  File \"/home/daniel/anaconda3/envs/KD/lib/python3.7/http/client.py\", line 1275, in _send_request\n",
      "    self.endheaders(body, encode_chunked=encode_chunked)\n",
      "  File \"/home/daniel/anaconda3/envs/KD/lib/python3.7/http/client.py\", line 1224, in endheaders\n",
      "    self._send_output(message_body, encode_chunked=encode_chunked)\n",
      "  File \"/home/daniel/anaconda3/envs/KD/lib/python3.7/http/client.py\", line 1016, in _send_output\n",
      "    self.send(msg)\n",
      "  File \"/home/daniel/anaconda3/envs/KD/lib/python3.7/http/client.py\", line 956, in send\n",
      "    self.connect()\n",
      "  File \"/home/daniel/anaconda3/envs/KD/lib/python3.7/site-packages/urllib3/connection.py\", line 184, in connect\n",
      "    conn = self._new_conn()\n",
      "  File \"/home/daniel/anaconda3/envs/KD/lib/python3.7/site-packages/urllib3/connection.py\", line 169, in _new_conn\n",
      "    self, \"Failed to establish a new connection: %s\" % e\n",
      "urllib3.exceptions.NewConnectionError: <urllib3.connection.HTTPConnection object at 0x7fcec5e1f198>: Failed to establish a new connection: [Errno 111] Connection refused\n",
      "06/30/2021 10:40:33 - WARNING - elasticsearch -   HEAD http://localhost:9200/ [status:N/A request:0.001s]\n",
      "Traceback (most recent call last):\n",
      "  File \"/home/daniel/anaconda3/envs/KD/lib/python3.7/site-packages/urllib3/connection.py\", line 157, in _new_conn\n",
      "    (self._dns_host, self.port), self.timeout, **extra_kw\n",
      "  File \"/home/daniel/anaconda3/envs/KD/lib/python3.7/site-packages/urllib3/util/connection.py\", line 84, in create_connection\n",
      "    raise err\n",
      "  File \"/home/daniel/anaconda3/envs/KD/lib/python3.7/site-packages/urllib3/util/connection.py\", line 74, in create_connection\n",
      "    sock.connect(sa)\n",
      "ConnectionRefusedError: [Errno 111] Connection refused\n",
      "\n",
      "During handling of the above exception, another exception occurred:\n",
      "\n",
      "Traceback (most recent call last):\n",
      "  File \"/home/daniel/anaconda3/envs/KD/lib/python3.7/site-packages/elasticsearch/connection/http_urllib3.py\", line 246, in perform_request\n",
      "    method, url, body, retries=Retry(False), headers=request_headers, **kw\n",
      "  File \"/home/daniel/anaconda3/envs/KD/lib/python3.7/site-packages/urllib3/connectionpool.py\", line 720, in urlopen\n",
      "    method, url, error=e, _pool=self, _stacktrace=sys.exc_info()[2]\n",
      "  File \"/home/daniel/anaconda3/envs/KD/lib/python3.7/site-packages/urllib3/util/retry.py\", line 376, in increment\n",
      "    raise six.reraise(type(error), error, _stacktrace)\n",
      "  File \"/home/daniel/anaconda3/envs/KD/lib/python3.7/site-packages/urllib3/packages/six.py\", line 735, in reraise\n",
      "    raise value\n",
      "  File \"/home/daniel/anaconda3/envs/KD/lib/python3.7/site-packages/urllib3/connectionpool.py\", line 672, in urlopen\n",
      "    chunked=chunked,\n",
      "  File \"/home/daniel/anaconda3/envs/KD/lib/python3.7/site-packages/urllib3/connectionpool.py\", line 387, in _make_request\n",
      "    conn.request(method, url, **httplib_request_kw)\n",
      "  File \"/home/daniel/anaconda3/envs/KD/lib/python3.7/http/client.py\", line 1229, in request\n",
      "    self._send_request(method, url, body, headers, encode_chunked)\n",
      "  File \"/home/daniel/anaconda3/envs/KD/lib/python3.7/http/client.py\", line 1275, in _send_request\n",
      "    self.endheaders(body, encode_chunked=encode_chunked)\n",
      "  File \"/home/daniel/anaconda3/envs/KD/lib/python3.7/http/client.py\", line 1224, in endheaders\n",
      "    self._send_output(message_body, encode_chunked=encode_chunked)\n",
      "  File \"/home/daniel/anaconda3/envs/KD/lib/python3.7/http/client.py\", line 1016, in _send_output\n",
      "    self.send(msg)\n",
      "  File \"/home/daniel/anaconda3/envs/KD/lib/python3.7/http/client.py\", line 956, in send\n",
      "    self.connect()\n",
      "  File \"/home/daniel/anaconda3/envs/KD/lib/python3.7/site-packages/urllib3/connection.py\", line 184, in connect\n",
      "    conn = self._new_conn()\n",
      "  File \"/home/daniel/anaconda3/envs/KD/lib/python3.7/site-packages/urllib3/connection.py\", line 169, in _new_conn\n",
      "    self, \"Failed to establish a new connection: %s\" % e\n",
      "urllib3.exceptions.NewConnectionError: <urllib3.connection.HTTPConnection object at 0x7fcec5e1f278>: Failed to establish a new connection: [Errno 111] Connection refused\n",
      "06/30/2021 10:40:33 - WARNING - elasticsearch -   HEAD http://localhost:9200/ [status:N/A request:0.000s]\n",
      "Traceback (most recent call last):\n",
      "  File \"/home/daniel/anaconda3/envs/KD/lib/python3.7/site-packages/urllib3/connection.py\", line 157, in _new_conn\n",
      "    (self._dns_host, self.port), self.timeout, **extra_kw\n",
      "  File \"/home/daniel/anaconda3/envs/KD/lib/python3.7/site-packages/urllib3/util/connection.py\", line 84, in create_connection\n",
      "    raise err\n",
      "  File \"/home/daniel/anaconda3/envs/KD/lib/python3.7/site-packages/urllib3/util/connection.py\", line 74, in create_connection\n",
      "    sock.connect(sa)\n",
      "ConnectionRefusedError: [Errno 111] Connection refused\n",
      "\n",
      "During handling of the above exception, another exception occurred:\n",
      "\n",
      "Traceback (most recent call last):\n",
      "  File \"/home/daniel/anaconda3/envs/KD/lib/python3.7/site-packages/elasticsearch/connection/http_urllib3.py\", line 246, in perform_request\n",
      "    method, url, body, retries=Retry(False), headers=request_headers, **kw\n",
      "  File \"/home/daniel/anaconda3/envs/KD/lib/python3.7/site-packages/urllib3/connectionpool.py\", line 720, in urlopen\n",
      "    method, url, error=e, _pool=self, _stacktrace=sys.exc_info()[2]\n",
      "  File \"/home/daniel/anaconda3/envs/KD/lib/python3.7/site-packages/urllib3/util/retry.py\", line 376, in increment\n",
      "    raise six.reraise(type(error), error, _stacktrace)\n",
      "  File \"/home/daniel/anaconda3/envs/KD/lib/python3.7/site-packages/urllib3/packages/six.py\", line 735, in reraise\n",
      "    raise value\n",
      "  File \"/home/daniel/anaconda3/envs/KD/lib/python3.7/site-packages/urllib3/connectionpool.py\", line 672, in urlopen\n",
      "    chunked=chunked,\n",
      "  File \"/home/daniel/anaconda3/envs/KD/lib/python3.7/site-packages/urllib3/connectionpool.py\", line 387, in _make_request\n",
      "    conn.request(method, url, **httplib_request_kw)\n",
      "  File \"/home/daniel/anaconda3/envs/KD/lib/python3.7/http/client.py\", line 1229, in request\n",
      "    self._send_request(method, url, body, headers, encode_chunked)\n",
      "  File \"/home/daniel/anaconda3/envs/KD/lib/python3.7/http/client.py\", line 1275, in _send_request\n",
      "    self.endheaders(body, encode_chunked=encode_chunked)\n",
      "  File \"/home/daniel/anaconda3/envs/KD/lib/python3.7/http/client.py\", line 1224, in endheaders\n",
      "    self._send_output(message_body, encode_chunked=encode_chunked)\n",
      "  File \"/home/daniel/anaconda3/envs/KD/lib/python3.7/http/client.py\", line 1016, in _send_output\n",
      "    self.send(msg)\n",
      "  File \"/home/daniel/anaconda3/envs/KD/lib/python3.7/http/client.py\", line 956, in send\n",
      "    self.connect()\n",
      "  File \"/home/daniel/anaconda3/envs/KD/lib/python3.7/site-packages/urllib3/connection.py\", line 184, in connect\n",
      "    conn = self._new_conn()\n",
      "  File \"/home/daniel/anaconda3/envs/KD/lib/python3.7/site-packages/urllib3/connection.py\", line 169, in _new_conn\n",
      "    self, \"Failed to establish a new connection: %s\" % e\n",
      "urllib3.exceptions.NewConnectionError: <urllib3.connection.HTTPConnection object at 0x7fcec5e1f3c8>: Failed to establish a new connection: [Errno 111] Connection refused\n"
     ]
    },
    {
     "name": "stderr",
     "output_type": "stream",
     "text": [
      "06/30/2021 10:40:33 - WARNING - elasticsearch -   HEAD http://localhost:9200/ [status:N/A request:0.000s]\n",
      "Traceback (most recent call last):\n",
      "  File \"/home/daniel/anaconda3/envs/KD/lib/python3.7/site-packages/urllib3/connection.py\", line 157, in _new_conn\n",
      "    (self._dns_host, self.port), self.timeout, **extra_kw\n",
      "  File \"/home/daniel/anaconda3/envs/KD/lib/python3.7/site-packages/urllib3/util/connection.py\", line 84, in create_connection\n",
      "    raise err\n",
      "  File \"/home/daniel/anaconda3/envs/KD/lib/python3.7/site-packages/urllib3/util/connection.py\", line 74, in create_connection\n",
      "    sock.connect(sa)\n",
      "ConnectionRefusedError: [Errno 111] Connection refused\n",
      "\n",
      "During handling of the above exception, another exception occurred:\n",
      "\n",
      "Traceback (most recent call last):\n",
      "  File \"/home/daniel/anaconda3/envs/KD/lib/python3.7/site-packages/elasticsearch/connection/http_urllib3.py\", line 246, in perform_request\n",
      "    method, url, body, retries=Retry(False), headers=request_headers, **kw\n",
      "  File \"/home/daniel/anaconda3/envs/KD/lib/python3.7/site-packages/urllib3/connectionpool.py\", line 720, in urlopen\n",
      "    method, url, error=e, _pool=self, _stacktrace=sys.exc_info()[2]\n",
      "  File \"/home/daniel/anaconda3/envs/KD/lib/python3.7/site-packages/urllib3/util/retry.py\", line 376, in increment\n",
      "    raise six.reraise(type(error), error, _stacktrace)\n",
      "  File \"/home/daniel/anaconda3/envs/KD/lib/python3.7/site-packages/urllib3/packages/six.py\", line 735, in reraise\n",
      "    raise value\n",
      "  File \"/home/daniel/anaconda3/envs/KD/lib/python3.7/site-packages/urllib3/connectionpool.py\", line 672, in urlopen\n",
      "    chunked=chunked,\n",
      "  File \"/home/daniel/anaconda3/envs/KD/lib/python3.7/site-packages/urllib3/connectionpool.py\", line 387, in _make_request\n",
      "    conn.request(method, url, **httplib_request_kw)\n",
      "  File \"/home/daniel/anaconda3/envs/KD/lib/python3.7/http/client.py\", line 1229, in request\n",
      "    self._send_request(method, url, body, headers, encode_chunked)\n",
      "  File \"/home/daniel/anaconda3/envs/KD/lib/python3.7/http/client.py\", line 1275, in _send_request\n",
      "    self.endheaders(body, encode_chunked=encode_chunked)\n",
      "  File \"/home/daniel/anaconda3/envs/KD/lib/python3.7/http/client.py\", line 1224, in endheaders\n",
      "    self._send_output(message_body, encode_chunked=encode_chunked)\n",
      "  File \"/home/daniel/anaconda3/envs/KD/lib/python3.7/http/client.py\", line 1016, in _send_output\n",
      "    self.send(msg)\n",
      "  File \"/home/daniel/anaconda3/envs/KD/lib/python3.7/http/client.py\", line 956, in send\n",
      "    self.connect()\n",
      "  File \"/home/daniel/anaconda3/envs/KD/lib/python3.7/site-packages/urllib3/connection.py\", line 184, in connect\n",
      "    conn = self._new_conn()\n",
      "  File \"/home/daniel/anaconda3/envs/KD/lib/python3.7/site-packages/urllib3/connection.py\", line 169, in _new_conn\n",
      "    self, \"Failed to establish a new connection: %s\" % e\n",
      "urllib3.exceptions.NewConnectionError: <urllib3.connection.HTTPConnection object at 0x7fcec5e1f240>: Failed to establish a new connection: [Errno 111] Connection refused\n"
     ]
    },
    {
     "ename": "ConnectionError",
     "evalue": "Initial connection to Elasticsearch failed. Make sure you run an Elasticsearch instance at `[{'host': 'localhost', 'port': 9200}]` and that it has finished the initial ramp up (can take > 30s).",
     "output_type": "error",
     "traceback": [
      "\u001b[0;31m---------------------------------------------------------------------------\u001b[0m",
      "\u001b[0;31mConnectionError\u001b[0m                           Traceback (most recent call last)",
      "\u001b[0;32m~/anaconda3/envs/KD/lib/python3.7/site-packages/haystack/document_store/elasticsearch.py\u001b[0m in \u001b[0;36m_init_elastic_client\u001b[0;34m(self, host, port, username, password, api_key_id, api_key, aws4auth, scheme, ca_certs, verify_certs, timeout)\u001b[0m\n\u001b[1;32m    193\u001b[0m                     raise ConnectionError(\n\u001b[0;32m--> 194\u001b[0;31m                         \u001b[0;34mf\"Initial connection to Elasticsearch failed. Make sure you run an Elasticsearch instance \"\u001b[0m\u001b[0;34m\u001b[0m\u001b[0m\n\u001b[0m\u001b[1;32m    195\u001b[0m                         \u001b[0;34mf\"at `{hosts}` and that it has finished the initial ramp up (can take > 30s).\"\u001b[0m\u001b[0;34m\u001b[0m\u001b[0m\n",
      "\u001b[0;31mConnectionError\u001b[0m: Initial connection to Elasticsearch failed. Make sure you run an Elasticsearch instance at `[{'host': 'localhost', 'port': 9200}]` and that it has finished the initial ramp up (can take > 30s).",
      "\nDuring handling of the above exception, another exception occurred:\n",
      "\u001b[0;31mConnectionError\u001b[0m                           Traceback (most recent call last)",
      "\u001b[0;32m<ipython-input-4-8f95c7b88651>\u001b[0m in \u001b[0;36m<module>\u001b[0;34m\u001b[0m\n\u001b[1;32m      1\u001b[0m \u001b[0;31m#ElasticsearchSink (put items back into Elasticsearch)\u001b[0m\u001b[0;34m\u001b[0m\u001b[0;34m\u001b[0m\u001b[0m\n\u001b[0;32m----> 2\u001b[0;31m \u001b[0mupdate_document_store\u001b[0m \u001b[0;34m=\u001b[0m \u001b[0mElasticsearchDocumentStore\u001b[0m\u001b[0;34m(\u001b[0m\u001b[0mhost\u001b[0m\u001b[0;34m=\u001b[0m\u001b[0;34m\"localhost\"\u001b[0m\u001b[0;34m,\u001b[0m \u001b[0musername\u001b[0m\u001b[0;34m=\u001b[0m\u001b[0;34m\"\"\u001b[0m\u001b[0;34m,\u001b[0m \u001b[0mpassword\u001b[0m\u001b[0;34m=\u001b[0m\u001b[0;34m\"\"\u001b[0m\u001b[0;34m,\u001b[0m \u001b[0mindex\u001b[0m\u001b[0;34m=\u001b[0m\u001b[0;34m\"document\"\u001b[0m\u001b[0;34m)\u001b[0m\u001b[0;34m\u001b[0m\u001b[0m\n\u001b[0m\u001b[1;32m      3\u001b[0m \u001b[0mupdate_pipeline\u001b[0m\u001b[0;34m.\u001b[0m\u001b[0madd_sink\u001b[0m\u001b[0;34m(\u001b[0m\u001b[0mSinks\u001b[0m\u001b[0;34m.\u001b[0m\u001b[0mElasticsearchSink\u001b[0m\u001b[0;34m(\u001b[0m\u001b[0mupdate_document_store\u001b[0m\u001b[0;34m)\u001b[0m\u001b[0;34m)\u001b[0m\u001b[0;34m\u001b[0m\u001b[0m\n",
      "\u001b[0;32m~/anaconda3/envs/KD/lib/python3.7/site-packages/haystack/document_store/elasticsearch.py\u001b[0m in \u001b[0;36m__init__\u001b[0;34m(self, host, port, username, password, api_key_id, api_key, aws4auth, index, label_index, search_fields, text_field, name_field, embedding_field, embedding_dim, custom_mapping, excluded_meta_data, faq_question_field, analyzer, scheme, ca_certs, verify_certs, create_index, refresh_type, similarity, timeout, return_embedding, duplicate_documents)\u001b[0m\n\u001b[1;32m    111\u001b[0m         self.client = self._init_elastic_client(host=host, port=port, username=username, password=password,\n\u001b[1;32m    112\u001b[0m                                            \u001b[0mapi_key\u001b[0m\u001b[0;34m=\u001b[0m\u001b[0mapi_key\u001b[0m\u001b[0;34m,\u001b[0m \u001b[0mapi_key_id\u001b[0m\u001b[0;34m=\u001b[0m\u001b[0mapi_key_id\u001b[0m\u001b[0;34m,\u001b[0m \u001b[0maws4auth\u001b[0m\u001b[0;34m=\u001b[0m\u001b[0maws4auth\u001b[0m\u001b[0;34m,\u001b[0m \u001b[0mscheme\u001b[0m\u001b[0;34m=\u001b[0m\u001b[0mscheme\u001b[0m\u001b[0;34m,\u001b[0m\u001b[0;34m\u001b[0m\u001b[0m\n\u001b[0;32m--> 113\u001b[0;31m                                            ca_certs=ca_certs, verify_certs=verify_certs,timeout=timeout)\n\u001b[0m\u001b[1;32m    114\u001b[0m \u001b[0;34m\u001b[0m\u001b[0m\n\u001b[1;32m    115\u001b[0m         \u001b[0;31m# configure mappings to ES fields that will be used for querying / displaying results\u001b[0m\u001b[0;34m\u001b[0m\u001b[0;34m\u001b[0m\u001b[0m\n",
      "\u001b[0;32m~/anaconda3/envs/KD/lib/python3.7/site-packages/haystack/document_store/elasticsearch.py\u001b[0m in \u001b[0;36m_init_elastic_client\u001b[0;34m(self, host, port, username, password, api_key_id, api_key, aws4auth, scheme, ca_certs, verify_certs, timeout)\u001b[0m\n\u001b[1;32m    197\u001b[0m         \u001b[0;32mexcept\u001b[0m \u001b[0mException\u001b[0m\u001b[0;34m:\u001b[0m\u001b[0;34m\u001b[0m\u001b[0m\n\u001b[1;32m    198\u001b[0m             raise ConnectionError(\n\u001b[0;32m--> 199\u001b[0;31m                 f\"Initial connection to Elasticsearch failed. Make sure you run an Elasticsearch instance at `{hosts}` and that it has finished the initial ramp up (can take > 30s).\")\n\u001b[0m\u001b[1;32m    200\u001b[0m         \u001b[0;32mreturn\u001b[0m \u001b[0mclient\u001b[0m\u001b[0;34m\u001b[0m\u001b[0m\n\u001b[1;32m    201\u001b[0m \u001b[0;34m\u001b[0m\u001b[0m\n",
      "\u001b[0;31mConnectionError\u001b[0m: Initial connection to Elasticsearch failed. Make sure you run an Elasticsearch instance at `[{'host': 'localhost', 'port': 9200}]` and that it has finished the initial ramp up (can take > 30s)."
     ]
    }
   ],
   "source": [
    "#ElasticsearchSink (put items back into Elasticsearch)\n",
    "update_document_store = ElasticsearchDocumentStore(host=\"localhost\", username=\"\", password=\"\", index=\"document\")\n",
    "update_pipeline.add_sink(Sinks.ElasticsearchSink(update_document_store))"
   ]
  },
  {
   "cell_type": "code",
   "execution_count": null,
   "id": "4a8248ac",
   "metadata": {},
   "outputs": [],
   "source": [
    "print(update_pipeline)"
   ]
  },
  {
   "cell_type": "code",
   "execution_count": null,
   "id": "f5887250",
   "metadata": {},
   "outputs": [],
   "source": [
    "update_pipeline.process()"
   ]
  },
  {
   "cell_type": "code",
   "execution_count": null,
   "id": "72db953d",
   "metadata": {},
   "outputs": [],
   "source": [
    "len(adapter)"
   ]
  },
  {
   "cell_type": "code",
   "execution_count": null,
   "id": "2c47b904",
   "metadata": {},
   "outputs": [],
   "source": [
    "len(e_adapt)"
   ]
  },
  {
   "cell_type": "code",
   "execution_count": null,
   "id": "a710e055",
   "metadata": {},
   "outputs": [],
   "source": [
    "#IMRaD classification\n",
    "from imrad_classification import BERTClassificationHandler\n",
    "classification_handler = BERTClassificationHandler(\"/home/daniel/BERT_copy.model\")\n",
    "pipeline.add_processor(Processors.IMRaDClassification(classification_handler))"
   ]
  },
  {
   "cell_type": "code",
   "execution_count": null,
   "id": "daba8812",
   "metadata": {},
   "outputs": [],
   "source": [
    "adapter = Adapters.UnarxiveAdapter(\"/home/daniel/KIT/KD/sample\")"
   ]
  },
  {
   "cell_type": "code",
   "execution_count": null,
   "id": "756d2eab",
   "metadata": {},
   "outputs": [],
   "source": [
    "docs = adapter.generate_documents(50)"
   ]
  },
  {
   "cell_type": "code",
   "execution_count": null,
   "id": "e0eace61",
   "metadata": {},
   "outputs": [],
   "source": [
    "type(docs[0])"
   ]
  },
  {
   "cell_type": "code",
   "execution_count": null,
   "id": "74cb7630",
   "metadata": {},
   "outputs": [],
   "source": [
    "datasets = pd.read_json(\"../../data/pwc_metadata/datasets_preprocessed.json\")\n",
    "datasets = {}\n",
    "for index, row in datasets.iterrows():\n",
    "    datasets[row['itemLabel']] = row['item']\n",
    "pipeline.add_processor(Processors.StringMatchingProcessor(datasets, 'methods', 'wikidata_id'))"
   ]
  },
  {
   "cell_type": "code",
   "execution_count": null,
   "id": "7d097497",
   "metadata": {},
   "outputs": [],
   "source": [
    "adapter = Adapters.GrobidAdapter(\"/home/daniel/KIT/KD/unpaywall-grobid-sample\")"
   ]
  },
  {
   "cell_type": "code",
   "execution_count": null,
   "id": "a50479e4",
   "metadata": {},
   "outputs": [],
   "source": [
    "adapter.generate_documents(5)"
   ]
  },
  {
   "cell_type": "markdown",
   "id": "2548d0e4",
   "metadata": {},
   "source": [
    "#### Grobid Testpipeline"
   ]
  },
  {
   "cell_type": "code",
   "execution_count": null,
   "id": "828d440d",
   "metadata": {},
   "outputs": [],
   "source": [
    "grobid_adapter = Adapters.GrobidAdapter(\"/home/daniel/KIT/KD/unpaywall-grobid-sample\")\n",
    "grobid_pipeline = Pipeline(grobid_adapter, batch_size=2, cpus=10)"
   ]
  },
  {
   "cell_type": "code",
   "execution_count": null,
   "id": "0e88d23d",
   "metadata": {},
   "outputs": [],
   "source": [
    "#HaystackPreProcessor\n",
    "from haystack.preprocessor import PreProcessor\n",
    "pre_processor = PreProcessor(\n",
    "    clean_empty_lines=True,\n",
    "    clean_whitespace=True,\n",
    "    clean_header_footer=True,\n",
    "    split_by=\"word\",\n",
    "    split_length=100,\n",
    "    split_respect_sentence_boundary=True,\n",
    "    split_overlap=0)\n",
    "grobid_pipeline.add_processor(Processors.HaystackPreProcessor(pre_processor))"
   ]
  },
  {
   "cell_type": "code",
   "execution_count": null,
   "id": "213585b6",
   "metadata": {},
   "outputs": [],
   "source": [
    "with open('../../data/pwc_metadata/datasets_preprocessed.json') as f:\n",
    "    datasets = json.load(f)\n",
    "grobid_pipeline.add_processor(Processors.StringMatchingProcessor(datasets, 'datasets', 'pwc_url'))"
   ]
  },
  {
   "cell_type": "code",
   "execution_count": null,
   "id": "92809615",
   "metadata": {},
   "outputs": [],
   "source": [
    "with open('../../data/pwc_metadata/methods_preprocessed.json') as f:\n",
    "    methods = json.load(f)\n",
    "grobid_pipeline.add_processor(Processors.StringMatchingProcessor(methods, 'methods', 'pwc_url'))"
   ]
  },
  {
   "cell_type": "code",
   "execution_count": null,
   "id": "2e721a61",
   "metadata": {},
   "outputs": [],
   "source": [
    "grobid_pipeline.add_sink(Sinks.TextfileSink(\"/home/daniel/KIT/KD/testoutput\", [\"mag_id\", \"_split_id\"]))"
   ]
  },
  {
   "cell_type": "code",
   "execution_count": null,
   "id": "8f2a1f81",
   "metadata": {},
   "outputs": [],
   "source": [
    "print(grobid_pipeline)"
   ]
  },
  {
   "cell_type": "code",
   "execution_count": null,
   "id": "08b79e4a",
   "metadata": {},
   "outputs": [],
   "source": [
    "grobid_pipeline.process()"
   ]
  },
  {
   "cell_type": "code",
   "execution_count": null,
   "id": "f4bd7795",
   "metadata": {},
   "outputs": [],
   "source": [
    "len(grobid_adapter)"
   ]
  },
  {
   "cell_type": "code",
   "execution_count": null,
   "id": "5b57f4be",
   "metadata": {},
   "outputs": [],
   "source": [
    "from nltk.tokenize import word_tokenize, sent_tokenize"
   ]
  },
  {
   "cell_type": "code",
   "execution_count": null,
   "id": "d15ccbaa",
   "metadata": {},
   "outputs": [],
   "source": [
    "words = word_tokenize(\"Specificity Sensitivity MSA 63% 90% RBF-single 66% 2.7% 84% ±2.0% MLP-single 61% ±0.0% 91% ±0.2%\")"
   ]
  },
  {
   "cell_type": "code",
   "execution_count": null,
   "id": "ede10c0f",
   "metadata": {},
   "outputs": [],
   "source": [
    "num = []\n",
    "for word in words:\n",
    "    if word.isnumeric() or word.isalnum():\n",
    "        num.append(word)"
   ]
  },
  {
   "cell_type": "code",
   "execution_count": null,
   "id": "185ebead",
   "metadata": {},
   "outputs": [],
   "source": [
    "import re\n",
    "re.findall(\"(\\d+)\", \"Specificity Sensitivity MSA 63% 90% RBF-single 66% 2.7% 84% ±2.0% MLP-single 61% ±0.0% 91% ±0.2%\")"
   ]
  },
  {
   "cell_type": "code",
   "execution_count": null,
   "id": "a466c026",
   "metadata": {},
   "outputs": [],
   "source": [
    "\"Hello\\nthis\\nis\\na test\".split(\"\\n\")"
   ]
  },
  {
   "cell_type": "code",
   "execution_count": null,
   "id": "80d45ae4",
   "metadata": {},
   "outputs": [],
   "source": [
    "grobid_pipeline.add_processor(Processors.SplitByLinePreProcessor())"
   ]
  },
  {
   "cell_type": "code",
   "execution_count": null,
   "id": "faa68176",
   "metadata": {},
   "outputs": [],
   "source": [
    "print(grobid_pipeline)"
   ]
  },
  {
   "cell_type": "code",
   "execution_count": null,
   "id": "c3ab8dd7",
   "metadata": {},
   "outputs": [],
   "source": [
    "p = Processors.SplitByLinePreProcessor()"
   ]
  },
  {
   "cell_type": "code",
   "execution_count": null,
   "id": "4621593c",
   "metadata": {},
   "outputs": [],
   "source": [
    "grobid_adapter.reset()\n",
    "docs = grobid_adapter.generate_documents(10)"
   ]
  },
  {
   "cell_type": "code",
   "execution_count": null,
   "id": "647b1899",
   "metadata": {},
   "outputs": [],
   "source": [
    "docs_split =  Processors.SplitByLinePreProcessor().process(docs)"
   ]
  },
  {
   "cell_type": "code",
   "execution_count": null,
   "id": "2fa49201",
   "metadata": {},
   "outputs": [],
   "source": [
    "docs_split"
   ]
  },
  {
   "cell_type": "code",
   "execution_count": null,
   "id": "4ad2a6e9",
   "metadata": {},
   "outputs": [],
   "source": [
    "docs_discarded = Processors.DiscardLineProcessor(0.5).process(docs)"
   ]
  },
  {
   "cell_type": "code",
   "execution_count": null,
   "id": "f4bb14d1",
   "metadata": {},
   "outputs": [],
   "source": [
    "import enchant"
   ]
  },
  {
   "cell_type": "code",
   "execution_count": null,
   "id": "4b826198",
   "metadata": {},
   "outputs": [],
   "source": [
    "words = word_tokenize(docs[0]['text'])"
   ]
  },
  {
   "cell_type": "code",
   "execution_count": null,
   "id": "9107bfe6",
   "metadata": {},
   "outputs": [],
   "source": [
    "words"
   ]
  },
  {
   "cell_type": "code",
   "execution_count": null,
   "id": "e25189f0",
   "metadata": {},
   "outputs": [],
   "source": [
    "num_non = 0\n",
    "for word in words:\n",
    "    if not word.isalpha():\n",
    "        num_non += 1"
   ]
  },
  {
   "cell_type": "code",
   "execution_count": null,
   "id": "9ed9c0c1",
   "metadata": {},
   "outputs": [],
   "source": []
  },
  {
   "cell_type": "code",
   "execution_count": null,
   "id": "9152ff5d",
   "metadata": {},
   "outputs": [],
   "source": [
    "docs"
   ]
  },
  {
   "cell_type": "code",
   "execution_count": null,
   "id": "478f59ae",
   "metadata": {},
   "outputs": [],
   "source": [
    "docs_discarded"
   ]
  },
  {
   "cell_type": "code",
   "execution_count": null,
   "id": "99de1bf6",
   "metadata": {},
   "outputs": [],
   "source": [
    "\"a\".isalpha()"
   ]
  },
  {
   "cell_type": "code",
   "execution_count": null,
   "id": "669f846d",
   "metadata": {},
   "outputs": [],
   "source": [
    "len(e_adapt)"
   ]
  },
  {
   "cell_type": "code",
   "execution_count": null,
   "id": "02478141",
   "metadata": {},
   "outputs": [],
   "source": [
    "e_adapt.generate_documents(10)"
   ]
  },
  {
   "cell_type": "code",
   "execution_count": null,
   "id": "ea5d41d0",
   "metadata": {},
   "outputs": [],
   "source": [
    "filters = {'arixive-id':[\"1805.03106\"]}"
   ]
  },
  {
   "cell_type": "code",
   "execution_count": null,
   "id": "9f8e5b66",
   "metadata": {},
   "outputs": [],
   "source": [
    "e_adapt = Adapters.ElasticsearchAdapter(document_store, batch_size=10, filters=filters)"
   ]
  },
  {
   "cell_type": "code",
   "execution_count": null,
   "id": "df409cfa",
   "metadata": {},
   "outputs": [],
   "source": [
    "test_pipeline = Pipeline(e_adapt, batch_size=2, cpus=10, max_runtime=1)"
   ]
  },
  {
   "cell_type": "code",
   "execution_count": null,
   "id": "d14dab1a",
   "metadata": {},
   "outputs": [],
   "source": [
    "test_pipeline.add_processor(Processors.MetadataFieldAdder(\"_status\", 0))"
   ]
  },
  {
   "cell_type": "code",
   "execution_count": null,
   "id": "cee72faa",
   "metadata": {},
   "outputs": [],
   "source": [
    "test_pipeline.add_sink(Sinks.ElasticsearchSink(document_store))"
   ]
  },
  {
   "cell_type": "code",
   "execution_count": null,
   "id": "e5f3ad45",
   "metadata": {},
   "outputs": [],
   "source": [
    "print(test_pipeline)"
   ]
  },
  {
   "cell_type": "code",
   "execution_count": null,
   "id": "b6d72638",
   "metadata": {},
   "outputs": [],
   "source": [
    "test_pipeline.process()"
   ]
  },
  {
   "cell_type": "code",
   "execution_count": null,
   "id": "05ee9e47",
   "metadata": {},
   "outputs": [],
   "source": [
    "e_adapt.reset()"
   ]
  },
  {
   "cell_type": "code",
   "execution_count": null,
   "id": "568ee52d",
   "metadata": {},
   "outputs": [],
   "source": [
    "e_adapt.generate_documents(1)"
   ]
  },
  {
   "cell_type": "code",
   "execution_count": null,
   "id": "e95c2a23",
   "metadata": {},
   "outputs": [],
   "source": [
    "import re\n",
    "any_filter = {'status':[\"0\"]}"
   ]
  },
  {
   "cell_type": "code",
   "execution_count": null,
   "id": "4dab0c00",
   "metadata": {},
   "outputs": [],
   "source": [
    "test_adapt = Adapters.ElasticsearchAdapter(document_store, batch_size=10, filters=any_filter)"
   ]
  },
  {
   "cell_type": "code",
   "execution_count": null,
   "id": "6fcb6a37",
   "metadata": {},
   "outputs": [],
   "source": [
    "test_adapt.generate_documents(1)"
   ]
  },
  {
   "cell_type": "code",
   "execution_count": null,
   "id": "d98b8eed",
   "metadata": {},
   "outputs": [],
   "source": [
    "import re\n",
    "def _string_pattern_percentage(s:str, filter):\n",
    "    words = len(word_tokenize(s))\n",
    "    matches = len(re.findall(filter, s))\n",
    "    return matches/(words*1.0)"
   ]
  },
  {
   "cell_type": "code",
   "execution_count": null,
   "id": "feaf7379",
   "metadata": {},
   "outputs": [],
   "source": [
    "from nltk.tokenize import word_tokenize, sent_tokenize\n",
    "_string_pattern_percentage(\"Die FORMULA ist eine FORMULA mit FORMULA.\", \"FORMULA\")"
   ]
  },
  {
   "cell_type": "code",
   "execution_count": null,
   "id": "09db6ee9",
   "metadata": {},
   "outputs": [],
   "source": [
    "with open(\"/home/daniel/KIT/KD/samples/sample/0803.3704.txt\", \"r\") as f:\n",
    "    lines = f.readlines()"
   ]
  },
  {
   "cell_type": "code",
   "execution_count": null,
   "id": "f920f473",
   "metadata": {},
   "outputs": [],
   "source": [
    "text = \"\".join(lines)\n",
    "paragraphs = text.split(\"\\n\\n\")"
   ]
  },
  {
   "cell_type": "code",
   "execution_count": null,
   "id": "2026efd5",
   "metadata": {},
   "outputs": [],
   "source": [
    "p_temp= []\n",
    "for paragraph in paragraphs:\n",
    "    lines = paragraph.split(\"\\n\")\n",
    "    if lines:\n",
    "        if len(word_tokenize(lines[0])) < 5:\n",
    "            lines.remove(lines[0])\n",
    "        elif not lines[0].endswith(\".\"):\n",
    "            lines.insert(0, lines[0] + \".\")\n",
    "            lines.pop(1)\n",
    "    p_temp.append(\" \".join(lines))"
   ]
  },
  {
   "cell_type": "code",
   "execution_count": null,
   "id": "87217444",
   "metadata": {},
   "outputs": [],
   "source": [
    "p_temp"
   ]
  },
  {
   "cell_type": "code",
   "execution_count": null,
   "id": "ab98c07c",
   "metadata": {},
   "outputs": [],
   "source": [
    "\"Die FORMULA ist eine FORMULA mit FORMULA.\".replace(\"FORMULA\", \"\")"
   ]
  },
  {
   "cell_type": "code",
   "execution_count": null,
   "id": "eb7802a1",
   "metadata": {},
   "outputs": [],
   "source": [
    "docs = adapter.generate_documents(5)"
   ]
  },
  {
   "cell_type": "code",
   "execution_count": null,
   "id": "6c4271bc",
   "metadata": {},
   "outputs": [],
   "source": [
    "docs[4]['text'].split(\"\\n\\n\")"
   ]
  },
  {
   "cell_type": "code",
   "execution_count": null,
   "id": "a47a57d1",
   "metadata": {},
   "outputs": [],
   "source": [
    "\"\\ntest\\ntest\\n\\n\".strip(\"\\n\")"
   ]
  },
  {
   "cell_type": "markdown",
   "id": "0e4ef4e7",
   "metadata": {},
   "source": [
    "Update and add _status"
   ]
  },
  {
   "cell_type": "code",
   "execution_count": null,
   "id": "275b0927",
   "metadata": {},
   "outputs": [],
   "source": [
    "e_adapt = Adapters.ElasticsearchAdapter(document_store, batch_size=10000)\n",
    "update_pipeline = Pipeline(e_adapt, batch_size=10000, cpus=5)"
   ]
  },
  {
   "cell_type": "code",
   "execution_count": null,
   "id": "a8cc7460",
   "metadata": {},
   "outputs": [],
   "source": [
    "update_pipeline.add_processor(Processors.MetadataFieldAdder(\"_status\", 0))"
   ]
  },
  {
   "cell_type": "code",
   "execution_count": null,
   "id": "f69a9801",
   "metadata": {},
   "outputs": [],
   "source": [
    "update_pipeline.add_sink(Sinks.ElasticsearchSink(document_store))"
   ]
  },
  {
   "cell_type": "code",
   "execution_count": null,
   "id": "7bb0f7c5",
   "metadata": {},
   "outputs": [],
   "source": [
    "update_pipeline.add_sink(Sinks.TextfileSink(\"/home/daniel/KIT/KD/testoutput\", [\"mag_id\", \"_split_id\"]))"
   ]
  },
  {
   "cell_type": "code",
   "execution_count": null,
   "id": "4fff1d8f",
   "metadata": {},
   "outputs": [],
   "source": [
    "update_pipeline.process()"
   ]
  },
  {
   "cell_type": "code",
   "execution_count": null,
   "id": "f165e20a",
   "metadata": {},
   "outputs": [],
   "source": [
    "print(update_pipeline)"
   ]
  },
  {
   "cell_type": "code",
   "execution_count": null,
   "id": "cf298929",
   "metadata": {},
   "outputs": [],
   "source": [
    "update_pipeline._adapter.reset()"
   ]
  },
  {
   "cell_type": "code",
   "execution_count": null,
   "id": "34a913d5",
   "metadata": {},
   "outputs": [],
   "source": [
    "e_adapt.reset()"
   ]
  },
  {
   "cell_type": "code",
   "execution_count": null,
   "id": "d1fff50c",
   "metadata": {},
   "outputs": [],
   "source": [
    "len(e_adapt)"
   ]
  },
  {
   "cell_type": "code",
   "execution_count": null,
   "id": "465c66fb",
   "metadata": {},
   "outputs": [],
   "source": [
    "new_adapt = Adapters.ElasticsearchAdapter(document_store, batch_size=10000, filters={'_status':[\"0\"]})"
   ]
  },
  {
   "cell_type": "code",
   "execution_count": null,
   "id": "b50b6b01",
   "metadata": {},
   "outputs": [],
   "source": [
    "len(new_adapt)"
   ]
  },
  {
   "cell_type": "code",
   "execution_count": null,
   "id": "369f1279",
   "metadata": {},
   "outputs": [],
   "source": []
  }
 ],
 "metadata": {
  "kernelspec": {
   "display_name": "Python 3",
   "language": "python",
   "name": "python3"
  },
  "language_info": {
   "codemirror_mode": {
    "name": "ipython",
    "version": 3
   },
   "file_extension": ".py",
   "mimetype": "text/x-python",
   "name": "python",
   "nbconvert_exporter": "python",
   "pygments_lexer": "ipython3",
   "version": "3.7.0"
  },
  "metadata": {
   "interpreter": {
    "hash": "9724a32bba03b95bce415ce298364082743d44944163c5d480a53c14fdd5bb34"
   }
  }
 },
 "nbformat": 4,
 "nbformat_minor": 5
}
