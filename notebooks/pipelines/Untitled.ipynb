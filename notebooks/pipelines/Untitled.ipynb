{
 "cells": [
  {
   "cell_type": "code",
   "execution_count": 4,
   "id": "93b3d3a1",
   "metadata": {},
   "outputs": [],
   "source": [
    "from os import listdir"
   ]
  },
  {
   "cell_type": "code",
   "execution_count": 5,
   "id": "11b65cf1",
   "metadata": {},
   "outputs": [],
   "source": [
    "files = listdir('../../../samples/stratified_sample_output/')"
   ]
  },
  {
   "cell_type": "code",
   "execution_count": 6,
   "id": "d8f7dca7",
   "metadata": {},
   "outputs": [],
   "source": [
    "makg_ids = [int(item.split('.')[0]) for item in files]"
   ]
  },
  {
   "cell_type": "code",
   "execution_count": 1,
   "id": "baf8f307",
   "metadata": {},
   "outputs": [
    {
     "name": "stderr",
     "output_type": "stream",
     "text": [
      "/home/daniel/anaconda3/envs/KD/lib/python3.7/site-packages/torch/cuda/__init__.py:52: UserWarning: CUDA initialization: Found no NVIDIA driver on your system. Please check that you have an NVIDIA GPU and installed a driver from http://www.nvidia.com/Download/index.aspx (Triggered internally at  /pytorch/c10/cuda/CUDAFunctions.cpp:100.)\n",
      "  return torch._C._cuda_getDeviceCount() > 0\n",
      "08/03/2021 18:00:47 - INFO - farm.modeling.prediction_head -   Better speed can be achieved with apex installed from https://www.github.com/nvidia/apex .\n",
      "[nltk_data] Downloading package punkt to /home/daniel/nltk_data...\n",
      "[nltk_data]   Package punkt is already up-to-date!\n"
     ]
    }
   ],
   "source": [
    "from kdpipelines.Pipeline import Pipeline\n",
    "from kdpipelines import Adapters, Processors, Sinks, rocksDB\n",
    "from haystack.document_store import MilvusDocumentStore\n",
    "from haystack.document_store.elasticsearch import ElasticsearchDocumentStore"
   ]
  },
  {
   "cell_type": "code",
   "execution_count": 20,
   "id": "61375540",
   "metadata": {},
   "outputs": [
    {
     "name": "stderr",
     "output_type": "stream",
     "text": [
      "08/03/2021 18:17:28 - INFO - elasticsearch -   HEAD http://aifb-ls3-vm1.aifb.kit.edu:9200/ [status:200 request:0.124s]\n",
      "08/03/2021 18:17:28 - INFO - elasticsearch -   HEAD http://aifb-ls3-vm1.aifb.kit.edu:9200/document [status:200 request:0.057s]\n",
      "08/03/2021 18:17:28 - INFO - elasticsearch -   GET http://aifb-ls3-vm1.aifb.kit.edu:9200/document [status:200 request:0.027s]\n",
      "08/03/2021 18:17:28 - INFO - elasticsearch -   PUT http://aifb-ls3-vm1.aifb.kit.edu:9200/document/_mapping [status:200 request:0.059s]\n",
      "08/03/2021 18:17:28 - INFO - elasticsearch -   HEAD http://aifb-ls3-vm1.aifb.kit.edu:9200/label [status:200 request:0.025s]\n"
     ]
    }
   ],
   "source": [
    "elasticsearch = ElasticsearchDocumentStore(host=\"aifb-ls3-vm1.aifb.kit.edu\", username=\"\", password=\"\", index=\"document\", duplicate_documents='skip')"
   ]
  },
  {
   "cell_type": "code",
   "execution_count": 21,
   "id": "bcae1313",
   "metadata": {},
   "outputs": [
    {
     "name": "stderr",
     "output_type": "stream",
     "text": [
      "08/03/2021 18:17:31 - INFO - elasticsearch -   POST http://aifb-ls3-vm1.aifb.kit.edu:9200/document/_count [status:200 request:0.116s]\n",
      "08/03/2021 18:17:31 - INFO - elasticsearch -   DELETE http://localhost:9200/_search/scroll [status:200 request:0.004s]\n"
     ]
    }
   ],
   "source": [
    "adapt = Adapters.ElasticsearchAdapter(elasticsearch,  batch_size=1000)"
   ]
  },
  {
   "cell_type": "code",
   "execution_count": 22,
   "id": "b497bb40",
   "metadata": {},
   "outputs": [
    {
     "data": {
      "text/plain": [
       "6435902"
      ]
     },
     "execution_count": 22,
     "metadata": {},
     "output_type": "execute_result"
    }
   ],
   "source": [
    "len(adapt)"
   ]
  },
  {
   "cell_type": "code",
   "execution_count": null,
   "id": "477eec40",
   "metadata": {},
   "outputs": [],
   "source": [
    "elasticsearch.get_all_documents(filters={'mag_id':makg_ids})"
   ]
  },
  {
   "cell_type": "code",
   "execution_count": 23,
   "id": "6e8917b4",
   "metadata": {},
   "outputs": [
    {
     "name": "stderr",
     "output_type": "stream",
     "text": [
      "08/03/2021 18:17:35 - INFO - elasticsearch -   POST http://aifb-ls3-vm1.aifb.kit.edu:9200/document/_search?scroll=1d&size=1000 [status:200 request:0.868s]\n"
     ]
    },
    {
     "data": {
      "text/plain": [
       "[{'text': 'As images between classes can appear similar, the research question becomes: How do classifiers behave when faced classes with few distinguishing features? In this paper is a new type of dataset is described and there is looked into how classifiers behave when faced classes with few distinguishing features. Several different network architectures were investigated such as VGGNet, ResNet and Inception-ResNet which will be further discussed in sec:Network. As attention is used in several networks which improve the accuracy of the trained network .',\n",
       "  'score': None,\n",
       "  'probability': None,\n",
       "  'question': None,\n",
       "  'meta': {'arixive-id': '1912.05393',\n",
       "   'mag_id': 2994624648,\n",
       "   '_split_id': 4,\n",
       "   '_status': 3,\n",
       "   'Section': 'method',\n",
       "   'datasets': [],\n",
       "   'has_datasets': 'false',\n",
       "   'methods': [{'title': 'resnet',\n",
       "     'pwc_url': 'https://paperswithcode.com/method/resnet',\n",
       "     'span': [383, 389]},\n",
       "    {'title': 'resnet',\n",
       "     'pwc_url': 'https://paperswithcode.com/method/resnet',\n",
       "     'span': [404, 410]}],\n",
       "   'has_methods': 'true',\n",
       "   'title': 'Fine-grained Classification of Rowing teams'},\n",
       "  'embedding': None,\n",
       "  'id': '877ad62e00889c2f056d6bae6b1483c8'},\n",
       " {'text': \"In several limitations are noted which can impact the performance with our data set. For instance, the images of the boats are taken from several angles and contain varying shapes for each class. To the best of the author's knowledge, there has not been much work regarding how attention models work in the context of fine grained classification, that is the focus of this body of work. Our main contributions are: Comparison of the performance in fine grained classification of rowing teams for several network architectures.\",\n",
       "  'score': None,\n",
       "  'probability': None,\n",
       "  'question': None,\n",
       "  'meta': {'arixive-id': '1912.05393',\n",
       "   'mag_id': 2994624648,\n",
       "   '_split_id': 5,\n",
       "   '_status': 3,\n",
       "   'Section': 'intro',\n",
       "   'datasets': [],\n",
       "   'has_datasets': 'false',\n",
       "   'methods': [],\n",
       "   'has_methods': 'false',\n",
       "   'title': 'Fine-grained Classification of Rowing teams'},\n",
       "  'embedding': None,\n",
       "  'id': '17feb76d3559f7e533af772092707da7'},\n",
       " {'text': 'Investigating the performance change that incurs in the aforementioned models when subject to various inputs (changing image size, no. Analyse the performance of attention based models in the context of fine grained classification. This report first discusses the existing body of work that is related to this research in sec:relatedwork and also presents relevant existing data sets, while sec:Dataset describes how the Proteus-Eretes data set looks like. Additionally, possible improvements to this data set will be discussed.',\n",
       "  'score': None,\n",
       "  'probability': None,\n",
       "  'question': None,\n",
       "  'meta': {'arixive-id': '1912.05393',\n",
       "   'mag_id': 2994624648,\n",
       "   '_split_id': 6,\n",
       "   '_status': 3,\n",
       "   'Section': 'intro',\n",
       "   'datasets': [],\n",
       "   'has_datasets': 'false',\n",
       "   'methods': [],\n",
       "   'has_methods': 'false',\n",
       "   'title': 'Fine-grained Classification of Rowing teams'},\n",
       "  'embedding': None,\n",
       "  'id': '52bef576e9e1a0b7249370c244f301cc'},\n",
       " {'text': 'The section sec:Network focuses on the different networks considered and compared, as well as how their performance is, on our data set. Finally the report is concluded in sec:Conclusion, and further work is discussed in sec:Discussion. Related work Considering the fact that teams in the rowing competition usually have different clothing, detecting these clothing attributes could be one possible solution to classifying these images. Research on clothing attribute detection typically utilises datasets such as Deep Fashion and Fashion-MNIST.',\n",
       "  'score': None,\n",
       "  'probability': None,\n",
       "  'question': None,\n",
       "  'meta': {'arixive-id': '1912.05393',\n",
       "   'mag_id': 2994624648,\n",
       "   '_split_id': 7,\n",
       "   '_status': 3,\n",
       "   'Section': 'related',\n",
       "   'datasets': [{'title': 'mnist',\n",
       "     'pwc_url': 'https://paperswithcode.com/dataset/mnist',\n",
       "     'span': [539, 544]},\n",
       "    {'title': 'fashion-mnist',\n",
       "     'pwc_url': 'https://paperswithcode.com/dataset/fashion-mnist',\n",
       "     'span': [531, 544]}],\n",
       "   'has_datasets': 'true',\n",
       "   'methods': [],\n",
       "   'has_methods': 'false',\n",
       "   'title': 'Fine-grained Classification of Rowing teams'},\n",
       "  'embedding': None,\n",
       "  'id': '9f39507a7a01e83c0c2cd44182008c6d'},\n",
       " {'text': 'Deep fashion and Fashion-MINST are databases of clothes and state of the art models performance on these show that it is possible that a deep learning algorithm is able to learn features of different types of clothing and differentiate them from each other . However, given that clothing can appear similar across classes, rather than focusing specifically on clothing, this research casts this as a fine grained classification problem. There has been quite some research on fine-grained classification. There are several data sets available for fine-grained classification such as stanford-cars and NAbirds .',\n",
       "  'score': None,\n",
       "  'probability': None,\n",
       "  'question': None,\n",
       "  'meta': {'arixive-id': '1912.05393',\n",
       "   'mag_id': 2994624648,\n",
       "   '_split_id': 8,\n",
       "   '_status': 3,\n",
       "   'Section': 'related',\n",
       "   'datasets': [{'title': 'nabirds',\n",
       "     'pwc_url': 'https://paperswithcode.com/dataset/nabirds',\n",
       "     'span': [600, 607]}],\n",
       "   'has_datasets': 'true',\n",
       "   'methods': [],\n",
       "   'has_methods': 'false',\n",
       "   'title': 'Fine-grained Classification of Rowing teams'},\n",
       "  'embedding': None,\n",
       "  'id': 'cf6f24b14cf7ceed066cf38cab45951a'},\n",
       " {'text': 'Several models such as FixSENet-154 and WS-DAN have remarkable performance in the aforementioned data sets. However, to the best of the authors knowledge not much work has been done to understand how classifiers behave in the context of fine grained classification. When considering coarser classification, ResNet is the one of the best performing networks and VGGNet has also shown to learn features significant for tasks such as style transfer A more in-depth explanation of the networks investigated can be found in sec:Network.',\n",
       "  'score': None,\n",
       "  'probability': None,\n",
       "  'question': None,\n",
       "  'meta': {'arixive-id': '1912.05393',\n",
       "   'mag_id': 2994624648,\n",
       "   '_split_id': 9,\n",
       "   '_status': 3,\n",
       "   'Section': 'related',\n",
       "   'datasets': [],\n",
       "   'has_datasets': 'false',\n",
       "   'methods': [{'title': 'resnet',\n",
       "     'pwc_url': 'https://paperswithcode.com/method/resnet',\n",
       "     'span': [307, 313]}],\n",
       "   'has_methods': 'true',\n",
       "   'title': 'Fine-grained Classification of Rowing teams'},\n",
       "  'embedding': None,\n",
       "  'id': '1554fa536e8ffdf7f4ccfaadd1d22dab'},\n",
       " {'text': 'In the paper, attention is all you need it has been shown that the attention module improves performance of a vanilla CNN. The attention module helps the deep network focus on semantically relevant parts and remove the uninteresting clutter of the image . There are not many studies that look into how attention models work in fine-grained classification. In some work the focus is on the architecture instead of analysing how the network improved in performance.',\n",
       "  'score': None,\n",
       "  'probability': None,\n",
       "  'question': None,\n",
       "  'meta': {'arixive-id': '1912.05393',\n",
       "   'mag_id': 2994624648,\n",
       "   '_split_id': 10,\n",
       "   '_status': 3,\n",
       "   'Section': 'related',\n",
       "   'datasets': [],\n",
       "   'has_datasets': 'false',\n",
       "   'methods': [],\n",
       "   'has_methods': 'false',\n",
       "   'title': 'Fine-grained Classification of Rowing teams'},\n",
       "  'embedding': None,\n",
       "  'id': '1c8fb03651f874c80180bf9e8178ac91'},\n",
       " {'text': 'Different type of papers that are about rowing boats or ships are mostly about detecting the ship or are about having sensors placed that detect movements of the persons rowing or detecting ships in a shipyard . To the best of the authors knowledge, there is no study found that is based on detecting rowing teams. It was expected that big events like the Tour de France has methods published about detecting different type of associations. In this kind of events they mostly use transceivers to determine which member is driving where.',\n",
       "  'score': None,\n",
       "  'probability': None,\n",
       "  'question': None,\n",
       "  'meta': {'arixive-id': '1912.05393',\n",
       "   'mag_id': 2994624648,\n",
       "   '_split_id': 11,\n",
       "   '_status': 3,\n",
       "   'Section': 'related',\n",
       "   'datasets': [],\n",
       "   'has_datasets': 'false',\n",
       "   'methods': [],\n",
       "   'has_methods': 'false',\n",
       "   'title': 'Fine-grained Classification of Rowing teams'},\n",
       "  'embedding': None,\n",
       "  'id': '7eb4ff32b2417f85e4da24edd2c3bb00'},\n",
       " {'text': 'Data set For this project the organisation Proteus-Eretes supplied the authors a total of nearly 67 thousand images, from which the data set is constructed. In tab:dataset the division of the data set is shown for the top 21 associations in terms of images that are labelled. It is clear that the size of the data set is unevenly distributed and contains a large amount of unlabelled data.',\n",
       "  'score': None,\n",
       "  'probability': None,\n",
       "  'question': None,\n",
       "  'meta': {'arixive-id': '1912.05393',\n",
       "   'mag_id': 2994624648,\n",
       "   '_split_id': 12,\n",
       "   '_status': 3,\n",
       "   'Section': 'method',\n",
       "   'datasets': [],\n",
       "   'has_datasets': 'false',\n",
       "   'methods': [],\n",
       "   'has_methods': 'false',\n",
       "   'title': 'Fine-grained Classification of Rowing teams'},\n",
       "  'embedding': None,\n",
       "  'id': 'a7ff4858ac6d65a4e090322e5d1d6e36'},\n",
       " {'text': 'In order to ensure that the network trains correctly and does not get biased towards any one association, an equal distribution of photos per association (classes) is used. This choice led to ten usable classes with FORMULA images available for training. Appendix gives a general impression of the data set, this by displaying several exemplary images of the different classes. Since the authors are the first users of the data set, it is worth mentioning the associated challenges.',\n",
       "  'score': None,\n",
       "  'probability': None,\n",
       "  'question': None,\n",
       "  'meta': {'arixive-id': '1912.05393',\n",
       "   'mag_id': 2994624648,\n",
       "   '_split_id': 13,\n",
       "   '_status': 3,\n",
       "   'Section': 'method',\n",
       "   'datasets': [],\n",
       "   'has_datasets': 'false',\n",
       "   'methods': [],\n",
       "   'has_methods': 'false',\n",
       "   'title': 'Fine-grained Classification of Rowing teams'},\n",
       "  'embedding': None,\n",
       "  'id': 'cc8a7eeec671928c2a22d8b5e0328bc8'}]"
      ]
     },
     "execution_count": 23,
     "metadata": {},
     "output_type": "execute_result"
    }
   ],
   "source": [
    "adapt.generate_documents(10)"
   ]
  },
  {
   "cell_type": "code",
   "execution_count": null,
   "id": "885da903",
   "metadata": {},
   "outputs": [],
   "source": [
    "makg_ids"
   ]
  },
  {
   "cell_type": "code",
   "execution_count": 2,
   "id": "9d0c9c74",
   "metadata": {},
   "outputs": [],
   "source": [
    "import mmh3"
   ]
  },
  {
   "cell_type": "code",
   "execution_count": 3,
   "id": "7bde6cf6",
   "metadata": {},
   "outputs": [
    {
     "data": {
      "text/plain": [
       "129772931630534712686853758638993871048"
      ]
     },
     "execution_count": 3,
     "metadata": {},
     "output_type": "execute_result"
    }
   ],
   "source": [
    "mmh3.hash128(':::', signed=False)"
   ]
  },
  {
   "cell_type": "code",
   "execution_count": null,
   "id": "b2a6232a",
   "metadata": {},
   "outputs": [],
   "source": []
  }
 ],
 "metadata": {
  "kernelspec": {
   "display_name": "Python 3",
   "language": "python",
   "name": "python3"
  },
  "language_info": {
   "codemirror_mode": {
    "name": "ipython",
    "version": 3
   },
   "file_extension": ".py",
   "mimetype": "text/x-python",
   "name": "python",
   "nbconvert_exporter": "python",
   "pygments_lexer": "ipython3",
   "version": "3.7.0"
  }
 },
 "nbformat": 4,
 "nbformat_minor": 5
}
