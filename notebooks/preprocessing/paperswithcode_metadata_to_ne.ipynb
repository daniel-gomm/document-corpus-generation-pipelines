{
 "cells": [
  {
   "cell_type": "code",
   "execution_count": 1,
   "id": "ebdb12b9",
   "metadata": {},
   "outputs": [],
   "source": [
    "import pandas as pd\n",
    "import json"
   ]
  },
  {
   "cell_type": "code",
   "execution_count": 2,
   "id": "77e1ab31",
   "metadata": {},
   "outputs": [],
   "source": [
    "most_used_words = []\n",
    "with open('../../data/most_used_words/20k.txt', 'r') as textfile:\n",
    "    for line in textfile:\n",
    "        most_used_words.append(line.strip().lower())\n",
    "\n",
    "def process_pwc_documents(df:pd.DataFrame)->{}:\n",
    "    d = {}\n",
    "    for index, row in df.iterrows():\n",
    "        name = row['name']\n",
    "        if len(name) >= 4:\n",
    "            d[name.lower()] = row['url']\n",
    "        full_name = row['full_name']\n",
    "        if full_name and len(full_name) >= 4:\n",
    "            d[full_name.lower()] = row['url']\n",
    "        \n",
    "    ktp = []\n",
    "    for key in d.keys():\n",
    "        if key in most_used_words:\n",
    "            ktp.append(key)\n",
    "\n",
    "    for k in ktp:\n",
    "        try:\n",
    "            d.pop(k)\n",
    "        except:\n",
    "            print(f\"An exception occurred on key {key}\")\n",
    "    \n",
    "    return d"
   ]
  },
  {
   "cell_type": "code",
   "execution_count": 3,
   "id": "d30f8eb5",
   "metadata": {},
   "outputs": [],
   "source": [
    "with open('../../data/pwc_metadata/datasets_preprocessed.json', 'w') as file:\n",
    "    df = pd.read_json('../data/pwc_metadata/datasets.json')\n",
    "    dict_datasets = process_pwc_documents(df)\n",
    "    file.write(json.dumps(dict_datasets))"
   ]
  },
  {
   "cell_type": "code",
   "execution_count": 4,
   "id": "4439f9ba",
   "metadata": {},
   "outputs": [],
   "source": [
    "with open('../../data/pwc_metadata/methods_preprocessed.json', 'w') as file:\n",
    "    df = pd.read_json('../data/pwc_metadata/methods.json')\n",
    "    dict_methods = process_pwc_documents(df)\n",
    "    file.write(json.dumps(dict_datasets))"
   ]
  }
 ],
 "metadata": {
  "kernelspec": {
   "display_name": "Python 3",
   "language": "python",
   "name": "python3"
  },
  "language_info": {
   "codemirror_mode": {
    "name": "ipython",
    "version": 3
   },
   "file_extension": ".py",
   "mimetype": "text/x-python",
   "name": "python",
   "nbconvert_exporter": "python",
   "pygments_lexer": "ipython3",
   "version": "3.7.0"
  }
 },
 "nbformat": 4,
 "nbformat_minor": 5
}
