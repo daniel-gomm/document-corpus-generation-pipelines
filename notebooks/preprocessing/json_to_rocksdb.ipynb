{
 "cells": [
  {
   "cell_type": "code",
   "execution_count": null,
   "source": [
    "import requests\n",
    "from kdpipelines.database.rocksDB import RocksDBAdapter, file_to_db"
   ],
   "outputs": [],
   "metadata": {}
  },
  {
   "cell_type": "code",
   "execution_count": null,
   "source": [
    "filename = \"arxiv-metadata-oai-snapshot.json\"\n",
    "url = \"http://localhost:8089\"\n",
    "db = RocksDBAdapter(\"arXive_metadata\", url)\n",
    "chunk_size = 200"
   ],
   "outputs": [],
   "metadata": {}
  },
  {
   "cell_type": "code",
   "execution_count": null,
   "source": [
    "failed_entities, line_no = file_to_db(filename, db, chunk_size)\n",
    "if(not line_no is None):\n",
    "    print(line_no)\n",
    "    print(failed_entities)"
   ],
   "outputs": [],
   "metadata": {}
  }
 ],
 "metadata": {
  "kernelspec": {
   "display_name": "Python 3",
   "language": "python",
   "name": "python3"
  },
  "language_info": {
   "codemirror_mode": {
    "name": "ipython",
    "version": 3
   },
   "file_extension": ".py",
   "mimetype": "text/x-python",
   "name": "python",
   "nbconvert_exporter": "python",
   "pygments_lexer": "ipython3",
   "version": "3.7.0"
  }
 },
 "nbformat": 4,
 "nbformat_minor": 5
}